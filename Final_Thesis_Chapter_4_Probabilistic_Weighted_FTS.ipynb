{
  "nbformat": 4,
  "nbformat_minor": 0,
  "metadata": {
    "accelerator": "GPU",
    "colab": {
      "name": "Final_Thesis_Chapter_4_Probabilistic_Weighted_FTS.ipynb",
      "provenance": [],
      "collapsed_sections": [],
      "include_colab_link": true
    },
    "kernelspec": {
      "display_name": "Python 3",
      "name": "python3"
    }
  },
  "cells": [
    {
      "cell_type": "markdown",
      "metadata": {
        "id": "view-in-github",
        "colab_type": "text"
      },
      "source": [
        "<a href=\"https://colab.research.google.com/github/gabrielvinicios02/ExperimentsMultivariate/blob/main/Final_Thesis_Chapter_4_Probabilistic_Weighted_FTS.ipynb\" target=\"_parent\"><img src=\"https://colab.research.google.com/assets/colab-badge.svg\" alt=\"Open In Colab\"/></a>"
      ]
    },
    {
      "cell_type": "markdown",
      "metadata": {
        "id": "ut81K6xJfBXa"
      },
      "source": [
        "# Scalable Models Of Probabilistic Forecasting For Fuzzy Time Series - Experiments of Chapter 4\n",
        "\n",
        "\n",
        "<center>\n",
        "<table><tr>\n",
        "  \n",
        "  <td> <a href=\"http://ufmg.br/\"><img src=\"https://github.com/petroniocandido/PhdThesis/raw/master/figures/ufmg.jpg\" alt=\"MINDS - Machine Intelligence and Data Science Lab\" width=\"100\"/></a></td> \n",
        "\n",
        " <td>&nbsp;&nbsp;&nbsp;&nbsp;&nbsp;&nbsp;&nbsp;&nbsp;&nbsp;</td>\n",
        "  \n",
        "  <td> <a href=\"http://www.ifnmg.edu.br/\"><img src=\"https://github.com/petroniocandido/PhdThesis/raw/master/figures/ifnmg.jpg\" alt=\"MINDS - Machine Intelligence and Data Science Lab\" width=\"100\"/></a></td> \n",
        "\n",
        " <td>&nbsp;&nbsp;&nbsp;&nbsp;&nbsp;&nbsp;&nbsp;&nbsp;&nbsp;</td>\n",
        "  \n",
        "  <td> <a href=\"http://www.minds.eng.ufmg.br/\"><img src=\"https://github.com/petroniocandido/pyFTS/raw/master/img/minds_logo_medium.jpeg\" alt=\"MINDS - Machine Intelligence and Data Science Lab\" width=\"100\"/></a></td> \n",
        "</tr>\n",
        "</table>\n",
        "</center>\n",
        "\n",
        "\n",
        "* **Author**: Petrônio Cândido de  Lima e Silva  <span itemscope itemtype=\"https://schema.org/Person\"><a itemprop=\"sameAs\" content=\"https://orcid.org/0000-0002-1202-2552\" href=\"https://orcid.org/0000-0002-1202-2552\" target=\"orcid.widget\" rel=\"noopener noreferrer\" style=\"vertical-align:top;\"><img src=\"https://orcid.org/sites/default/files/images/orcid_16x16.png\" style=\"width:1em;margin-right:.5em;\" alt=\"ORCID iD icon\"></a></span> (SILVA, P.C.L)\n",
        "* **Advisor**: Frederico Gadelha Guimarães <span itemscope itemtype=\"https://schema.org/Person\"><a itemprop=\"sameAs\" content=\"https://orcid.org/0000-0001-9238-8839\" href=\"https://orcid.org/0000-0001-9238-8839\" target=\"orcid.widget\" rel=\"noopener noreferrer\" style=\"vertical-align:top;\"><img src=\"https://orcid.org/sites/default/files/images/orcid_16x16.png\" style=\"width:1em;margin-right:.5em;\" alt=\"ORCID iD icon\"></a></span> (GUIMARÃES, F. G)\n",
        "* **Co-Advisor**: Hossein Javedani Sadaei  <span itemscope itemtype=\"https://schema.org/Person\"><a itemprop=\"sameAs\" content=\"https://orcid.org/0000-0002-0848-9280\" href=\"https://orcid.org/0000-0002-0848-9280\" target=\"orcid.widget\" rel=\"noopener noreferrer\" style=\"vertical-align:top;\"><img src=\"https://orcid.org/sites/default/files/images/orcid_16x16.png\" style=\"width:1em;margin-right:.5em;\" alt=\"ORCID iD icon\"></a></span> (SADAEI, H. J.)\n",
        "\n",
        "This notebook is part of [![DOI](https://zenodo.org/badge/DOI/10.5281/zenodo.3374641.svg)](https://doi.org/10.5281/zenodo.3374641). You can execute it on-line with the Google Colab tool at http://bit.ly/scalable_probabilistic_fts_chap4\n",
        "\n",
        "In case you have any questions, do not hesitate in contact us using the following e-mail: petronio.candido@ifnmg.edu.br\n",
        "\n",
        "<center>\n",
        "<table><tr>\n",
        "  \n",
        "  <td>Powered by </td> \n",
        "\n",
        " <td>&nbsp;&nbsp;&nbsp;&nbsp;&nbsp;&nbsp;&nbsp;&nbsp;&nbsp;</td>\n",
        "  \n",
        "<td><a href=\"https://pyfts.github.io/pyFTS/\"><img src=\"https://github.com/petroniocandido/pyFTS/raw/master/img/logo_medium.png\" alt=\"pyFTS - Fuzzy Time Series for Python\" width=\"100\"/></a></td>\n",
        "</tr>\n",
        "</table>\n",
        "</center>\n",
        "\n"
      ]
    },
    {
      "cell_type": "markdown",
      "metadata": {
        "id": "I47vXaCuWj5v"
      },
      "source": [
        "## Library Installation"
      ]
    },
    {
      "cell_type": "code",
      "metadata": {
        "colab": {
          "base_uri": "https://localhost:8080/"
        },
        "id": "Ea7OOfaLWvJ-",
        "outputId": "1ecb4c94-ee52-4b4c-e685-0c0a6aad0258"
      },
      "source": [
        "# Requirements: Python 3.6\n",
        "# The command below install the exact version of pyFTS library employed in the experiments\n",
        "!pip3 install -U pyFTS \n",
        "!pip install git+https://github.com/RJT1990/pyflux\n",
        "!git clone https://github.com/petroniocandido/stac\n"
      ],
      "execution_count": null,
      "outputs": [
        {
          "name": "stdout",
          "output_type": "stream",
          "text": [
            "Collecting pyFTS\n",
            "  Downloading pyFTS-1.6-py3-none-any.whl (175 kB)\n",
            "\u001b[?25l\r\u001b[K     |█▉                              | 10 kB 30.2 MB/s eta 0:00:01\r\u001b[K     |███▊                            | 20 kB 22.5 MB/s eta 0:00:01\r\u001b[K     |█████▋                          | 30 kB 16.4 MB/s eta 0:00:01\r\u001b[K     |███████▌                        | 40 kB 14.9 MB/s eta 0:00:01\r\u001b[K     |█████████▍                      | 51 kB 5.5 MB/s eta 0:00:01\r\u001b[K     |███████████▎                    | 61 kB 5.9 MB/s eta 0:00:01\r\u001b[K     |█████████████                   | 71 kB 5.4 MB/s eta 0:00:01\r\u001b[K     |███████████████                 | 81 kB 6.1 MB/s eta 0:00:01\r\u001b[K     |████████████████▉               | 92 kB 6.0 MB/s eta 0:00:01\r\u001b[K     |██████████████████▊             | 102 kB 5.3 MB/s eta 0:00:01\r\u001b[K     |████████████████████▋           | 112 kB 5.3 MB/s eta 0:00:01\r\u001b[K     |██████████████████████▌         | 122 kB 5.3 MB/s eta 0:00:01\r\u001b[K     |████████████████████████▎       | 133 kB 5.3 MB/s eta 0:00:01\r\u001b[K     |██████████████████████████▏     | 143 kB 5.3 MB/s eta 0:00:01\r\u001b[K     |████████████████████████████    | 153 kB 5.3 MB/s eta 0:00:01\r\u001b[K     |██████████████████████████████  | 163 kB 5.3 MB/s eta 0:00:01\r\u001b[K     |███████████████████████████████▉| 174 kB 5.3 MB/s eta 0:00:01\r\u001b[K     |████████████████████████████████| 175 kB 5.3 MB/s \n",
            "\u001b[?25hInstalling collected packages: pyFTS\n",
            "Successfully installed pyFTS-1.6\n",
            "Collecting git+https://github.com/RJT1990/pyflux\n",
            "  Cloning https://github.com/RJT1990/pyflux to /tmp/pip-req-build-6fnmo7cu\n",
            "  Running command git clone -q https://github.com/RJT1990/pyflux /tmp/pip-req-build-6fnmo7cu\n",
            "Requirement already satisfied: numpy in /usr/local/lib/python3.7/dist-packages (from pyflux==0.4.17) (1.19.5)\n",
            "Requirement already satisfied: pandas in /usr/local/lib/python3.7/dist-packages (from pyflux==0.4.17) (1.1.5)\n",
            "Requirement already satisfied: scipy in /usr/local/lib/python3.7/dist-packages (from pyflux==0.4.17) (1.4.1)\n",
            "Collecting numdifftools\n",
            "  Downloading numdifftools-0.9.40-py2.py3-none-any.whl (99 kB)\n",
            "\u001b[K     |████████████████████████████████| 99 kB 4.0 MB/s \n",
            "\u001b[?25hRequirement already satisfied: patsy in /usr/local/lib/python3.7/dist-packages (from pyflux==0.4.17) (0.5.2)\n",
            "Collecting algopy>=0.4\n",
            "  Downloading algopy-0.5.7.zip (189 kB)\n",
            "\u001b[K     |████████████████████████████████| 189 kB 16.1 MB/s \n",
            "\u001b[?25hRequirement already satisfied: statsmodels>=0.6 in /usr/local/lib/python3.7/dist-packages (from numdifftools->pyflux==0.4.17) (0.10.2)\n",
            "Requirement already satisfied: pytz>=2017.2 in /usr/local/lib/python3.7/dist-packages (from pandas->pyflux==0.4.17) (2018.9)\n",
            "Requirement already satisfied: python-dateutil>=2.7.3 in /usr/local/lib/python3.7/dist-packages (from pandas->pyflux==0.4.17) (2.8.2)\n",
            "Requirement already satisfied: six in /usr/local/lib/python3.7/dist-packages (from patsy->pyflux==0.4.17) (1.15.0)\n",
            "Building wheels for collected packages: pyflux, algopy\n",
            "  Building wheel for pyflux (setup.py) ... \u001b[?25l\u001b[?25hdone\n",
            "  Created wheel for pyflux: filename=pyflux-0.4.17-cp37-cp37m-linux_x86_64.whl size=5271887 sha256=850d4f26e6f9a355b9114c4a23a8c16e66d509dfe5d35ebc03196df9608e9bd1\n",
            "  Stored in directory: /tmp/pip-ephem-wheel-cache-ypvf2c8v/wheels/96/8f/9c/4523f6aab114103428254ec8f7260d52bffaa1ea1add77a487\n",
            "  Building wheel for algopy (setup.py) ... \u001b[?25l\u001b[?25hdone\n",
            "  Created wheel for algopy: filename=algopy-0.5.7-py3-none-any.whl size=107608 sha256=cf9041f79041b8e1e7e33e07883ee2b61182489d6881fc6013762e4ab864cad8\n",
            "  Stored in directory: /root/.cache/pip/wheels/a8/fd/06/21dc6aba9f680fdbde386c06b1a8a1cf3d9a5f6bd96e31dcd4\n",
            "Successfully built pyflux algopy\n",
            "Installing collected packages: algopy, numdifftools, pyflux\n",
            "Successfully installed algopy-0.5.7 numdifftools-0.9.40 pyflux-0.4.17\n",
            "Cloning into 'stac'...\n",
            "remote: Enumerating objects: 2238, done.\u001b[K\n",
            "remote: Total 2238 (delta 0), reused 0 (delta 0), pack-reused 2238\u001b[K\n",
            "Receiving objects: 100% (2238/2238), 23.62 MiB | 25.28 MiB/s, done.\n",
            "Resolving deltas: 100% (1147/1147), done.\n"
          ]
        }
      ]
    },
    {
      "cell_type": "markdown",
      "metadata": {
        "id": "HaxE7cLXWooG"
      },
      "source": [
        "## Common Imports"
      ]
    },
    {
      "cell_type": "code",
      "metadata": {
        "colab": {
          "base_uri": "https://localhost:8080/"
        },
        "id": "uqlIvVjkWbwd",
        "outputId": "ffb82421-f9d8-468b-f755-7d9730b7aa13"
      },
      "source": [
        "import pandas as pd\n",
        "import matplotlib.pyplot as plt\n",
        "import numpy as np\n",
        "import seaborn as sns\n",
        "from statsmodels.tsa.stattools import adfuller\n",
        "from statsmodels.graphics.tsaplots import plot_acf, plot_pacf\n",
        "from pyFTS.benchmarks import benchmarks as bchmk"
      ],
      "execution_count": null,
      "outputs": [
        {
          "name": "stderr",
          "output_type": "stream",
          "text": [
            "/usr/local/lib/python3.7/dist-packages/statsmodels/tools/_testing.py:19: FutureWarning: pandas.util.testing is deprecated. Use the functions in the public API at pandas.testing instead.\n",
            "  import pandas.util.testing as tm\n"
          ]
        }
      ]
    },
    {
      "cell_type": "code",
      "metadata": {
        "id": "R_NhW5Q1XJK5"
      },
      "source": [
        "from pyFTS.models.ensemble import ensemble\n",
        "from pyFTS.models import hofts\n",
        "from pyFTS.benchmarks import benchmarks, Util as bUtil, arima, quantreg, knn\n",
        "from pyFTS.benchmarks import benchmarks as bchmk\n",
        "from pyFTS.common import Util"
      ],
      "execution_count": null,
      "outputs": []
    },
    {
      "cell_type": "markdown",
      "metadata": {
        "id": "EEeBCX9tnCAV"
      },
      "source": [
        "## Experiments database import\n",
        "\n",
        "The execution of the experiments is a computationally expensive and  time consuming task. In case you don't want to repeat the whole batch of experiments, just download the experiment database.\n"
      ]
    },
    {
      "cell_type": "code",
      "metadata": {
        "colab": {
          "base_uri": "https://localhost:8080/"
        },
        "id": "oaOJwucwnDtf",
        "outputId": "e4a7c1ed-950a-46b0-b887-1750b59f7c24"
      },
      "source": [
        "!wget -O experiments.db.gz https://github.com/petroniocandido/PhdThesis/raw/master/experiments/experiments.db.gz\n",
        "!gunzip experiments.db.gz"
      ],
      "execution_count": null,
      "outputs": [
        {
          "name": "stdout",
          "output_type": "stream",
          "text": [
            "--2021-12-06 23:58:24--  https://github.com/petroniocandido/PhdThesis/raw/master/experiments/experiments.db.gz\n",
            "Resolving github.com (github.com)... 140.82.112.3\n",
            "Connecting to github.com (github.com)|140.82.112.3|:443... connected.\n",
            "HTTP request sent, awaiting response... 302 Found\n",
            "Location: https://raw.githubusercontent.com/petroniocandido/PhdThesis/master/experiments/experiments.db.gz [following]\n",
            "--2021-12-06 23:58:25--  https://raw.githubusercontent.com/petroniocandido/PhdThesis/master/experiments/experiments.db.gz\n",
            "Resolving raw.githubusercontent.com (raw.githubusercontent.com)... 185.199.108.133, 185.199.109.133, 185.199.110.133, ...\n",
            "Connecting to raw.githubusercontent.com (raw.githubusercontent.com)|185.199.108.133|:443... connected.\n",
            "HTTP request sent, awaiting response... 200 OK\n",
            "Length: 3793135 (3.6M) [application/octet-stream]\n",
            "Saving to: ‘experiments.db.gz’\n",
            "\n",
            "experiments.db.gz   100%[===================>]   3.62M  --.-KB/s    in 0.07s   \n",
            "\n",
            "2021-12-06 23:58:25 (53.2 MB/s) - ‘experiments.db.gz’ saved [3793135/3793135]\n",
            "\n"
          ]
        }
      ]
    },
    {
      "cell_type": "markdown",
      "metadata": {
        "id": "yd6dLSUDdirp"
      },
      "source": [
        "## Datasets"
      ]
    },
    {
      "cell_type": "code",
      "metadata": {
        "colab": {
          "base_uri": "https://localhost:8080/",
          "height": 513
        },
        "id": "oc-7rIPnWyEF",
        "outputId": "5ee6df97-d239-4516-82a5-072f889ef558"
      },
      "source": [
        "from pyFTS.data import TAIEX, NASDAQ, SP500\n",
        "\n",
        "datasets = {}\n",
        "\n",
        "datasets['TAIEX'] = TAIEX.get_data()[:5000]\n",
        "datasets['NASDAQ'] = NASDAQ.get_data()[:5000]\n",
        "datasets['SP500'] = SP500.get_data()[10000:15000]\n",
        "\n",
        "fig, ax = plt.subplots(nrows=3, ncols=1,figsize=[10,7])\n",
        "\n",
        "for ct, (dataset_name, dataset) in enumerate(datasets.items()):\n",
        "  ax[ct].plot(dataset)\n",
        "  ax[ct].set_title(dataset_name)\n",
        "\n",
        "plt.tight_layout()\n"
      ],
      "execution_count": null,
      "outputs": [
        {
          "data": {
            "image/png": "[encoded data removed]",
            "text/plain": [
              "<Figure size 720x504 with 3 Axes>"
            ]
          },
          "metadata": {},
          "output_type": "display_data"
        }
      ]
    },
    {
      "cell_type": "markdown",
      "metadata": {
        "id": "Pzf2gBaMdZIU"
      },
      "source": [
        "## PWFTS Grid Search"
      ]
    },
    {
      "cell_type": "markdown",
      "metadata": {
        "id": "nOemdqoQ4Jr5"
      },
      "source": [
        "### Point Analysis"
      ]
    },
    {
      "cell_type": "markdown",
      "metadata": {
        "id": "yYDy51uk4PC7"
      },
      "source": [
        "#### Batch experiment execution\n",
        "\n",
        "**CAUTION**: This is a computationally expensive and time consuming task. We strongly recommend run this task using a [Dispy Cluster](http://dispy.sourceforge.net/)."
      ]
    },
    {
      "cell_type": "code",
      "metadata": {
        "colab": {
          "background_save": true,
          "base_uri": "https://localhost:8080/"
        },
        "id": "EJYk8sx74N2T",
        "outputId": "16f6f2d8-1a20-4e20-8983-442c9e5473e7"
      },
      "source": [
        "!pip install dispy\n",
        "from pyFTS.models import pwfts\n",
        "\n",
        "for dataset_name, dataset in datasets.items():\n",
        "    bchmk.sliding_window_benchmarks(dataset, 1000, train=0.8, inc=0.2,\n",
        "                                    methods=[pwfts.ProbabilisticWeightedFTS],\n",
        "                                    benchmark_models=False,\n",
        "                                    transformations=[None],\n",
        "                                    orders=[1, 2, 3],\n",
        "                                    partitions=np.arange(10, 80, 5),\n",
        "                                    progress=False, type='point',\n",
        "                                    distributed=True, nodes=['192.168.0.110', '192.168.0.107','192.168.0.106'],\n",
        "                                    file=\"experiments.db\", dataset=dataset_name,\n",
        "                                    tag=\"gridsearch\")\n"
      ],
      "execution_count": null,
      "outputs": [
        {
          "name": "stdout",
          "output_type": "stream",
          "text": [
            "Requirement already satisfied: dispy in /usr/local/lib/python3.7/dist-packages (4.15.0)\n",
            "Requirement already satisfied: pycos>=4.12.1 in /usr/local/lib/python3.7/dist-packages (from dispy) (4.12.1)\n",
            "2021-12-06 23:50:30 pycos - version 4.12.1 (Python 3.7.12) with epoll I/O notifier\n",
            "2021-12-06 23:50:30 dispy - dispy client version: 4.15.0 (Python 3.7.12)\n",
            "2021-12-06 23:50:30 dispy - Storing fault recovery information in \"_dispy_20211206235030\"\n",
            "2021-12-06 23:50:30 dispy - dispy client at 172.28.0.2:9700\n",
            "2021-12-06 23:50:30 dispy - Started HTTP server at ('0.0.0.0', 8181)\n"
          ]
        }
      ]
    },
    {
      "cell_type": "code",
      "metadata": {
        "id": "PnZy0yql3u1d"
      },
      "source": [
        "from pyFTS.benchmarks import Util as bUtil\n",
        "\n",
        "rmse = bUtil.get_dataframe_from_bd(\"experiments.db\", \"tag = 'gridsearch' and model='PWFTS' and measure = 'rmse'\")\n",
        "\n",
        "rmse['Partitions'] = [int.from_bytes(k, \"little\") for k in rmse['Partitions'].values]\n",
        "\n",
        "rmse.head()\n"
      ],
      "execution_count": null,
      "outputs": []
    },
    {
      "cell_type": "code",
      "metadata": {
        "id": "5qEV5gr2hemT"
      },
      "source": [
        "import seaborn as sns\n",
        "\n",
        "orders = rmse['Order'].unique()\n",
        "\n",
        "fig, ax = plt.subplots(nrows=len(orders), ncols=1, figsize=[10,2*len(orders)])\n",
        "\n",
        "for co, order in enumerate(orders):\n",
        "  \n",
        "    df = rmse[(rmse['Order']==order)]\n",
        "\n",
        "    g1 = sns.boxplot(x='Partitions', y='Value', hue='Dataset', data=df, showfliers=False, \n",
        "                     ax=ax[co], \n",
        "                     palette=\"Set3\")\n",
        "    g1.legend(handles=None)\n",
        "    ax[co].set_ylabel(\"Order = {}\".format(order))\n",
        "    ax[co].set_xlabel(\"Partitions\")\n",
        "\n",
        "    #box = g1.get_position()\n",
        "    #g1.set_position([box.x0, box.y0, box.width * 0.85, box.height]) \n",
        "    #g1.legend(loc='right', bbox_to_anchor=(1.15, 0.5), ncol=1)\n",
        "\n",
        "    plt.tight_layout()"
      ],
      "execution_count": null,
      "outputs": []
    },
    {
      "cell_type": "markdown",
      "metadata": {
        "id": "Yj_dQtrSvwut"
      },
      "source": [
        "### Interval Analysis"
      ]
    },
    {
      "cell_type": "markdown",
      "metadata": {
        "id": "1EdPIlR3eC75"
      },
      "source": [
        "#### Batch experiment execution\n",
        "\n",
        "**CAUTION**: This is a computationally expensive and time consuming task. We strongly recommend run this task using a [Dispy Cluster](http://dispy.sourceforge.net/)."
      ]
    },
    {
      "cell_type": "code",
      "metadata": {
        "id": "R1momQvEdcsp"
      },
      "source": [
        "for dataset_name, dataset in datasets.items():\n",
        "    bchmk.sliding_window_benchmarks2(dataset, 1000, train=0.8, inc=0.2,\n",
        "                                    methods=[pwfts.ProbabilisticWeightedFTS],\n",
        "                                    benchmark_models=False,\n",
        "                                    transformations=[None],\n",
        "                                    orders=[1, 2, 3],\n",
        "                                    partitions=np.arange(10, 80, 5),\n",
        "                                    progress=False, type='point',\n",
        "                                    distributed=True, nodes=['192.168.0.110', '192.168.0.107','192.168.0.106'],\n",
        "                                    file=\"experiments.db\", dataset=dataset_name,\n",
        "                                    tag=\"gridsearch\")\n"
      ],
      "execution_count": null,
      "outputs": []
    },
    {
      "cell_type": "markdown",
      "metadata": {
        "id": "P_ZRNOgNrgB-"
      },
      "source": [
        "#### Plots"
      ]
    },
    {
      "cell_type": "code",
      "metadata": {
        "id": "tEJloPeYcSch"
      },
      "source": [
        "from pyFTS.benchmarks import Util as bUtil\n",
        "\n",
        "wk05 = bUtil.get_dataframe_from_bd(\"experiments.db\", \"tag = 'gridsearch' and model='PWFTS' and measure = 'winkler05'\")\n",
        "wk25 = bUtil.get_dataframe_from_bd(\"experiments.db\", \"tag = 'gridsearch' and model='PWFTS' and measure = 'winkler25'\")\n",
        "\n",
        "wk05['Partitions'] = [int.from_bytes(k, \"little\") for k in wk05['Partitions'].values]\n",
        "wk25['Partitions'] = [int.from_bytes(k, \"little\") for k in wk25['Partitions'].values]\n",
        "\n",
        "wk05.head()\n"
      ],
      "execution_count": null,
      "outputs": []
    },
    {
      "cell_type": "code",
      "metadata": {
        "id": "ersLtJNWfijE"
      },
      "source": [
        "import seaborn as sns\n",
        "\n",
        "orders = wk05['Order'].unique()\n",
        "\n",
        "fig, ax = plt.subplots(nrows=len(orders), ncols=2, figsize=[15,3*len(orders)])\n",
        "\n",
        "for co, order in enumerate(orders):\n",
        "  \n",
        "  df = wk05[(wk05['Order']==order)]\n",
        "\n",
        "  g1 = sns.boxplot(x='Partitions', y='Value', hue='Dataset', data=df, showfliers=False, \n",
        "                   ax=ax[co][0], \n",
        "                   palette=\"Set3\")\n",
        "  ax[co][0].set_title(\"Winkler Score for $\\\\alpha=.05$\")\n",
        "  ax[co][0].set_ylabel(\"Order = {}\".format(order))\n",
        "  ax[co][0].set_xlabel(\"Partitions\")\n",
        "  \n",
        "  df = wk25[(wk25['Order']==order)]\n",
        "\n",
        "  g1 = sns.boxplot(x='Partitions', y='Value', hue='Dataset', data=df, showfliers=False, \n",
        "                   ax=ax[co][1], \n",
        "                   palette=\"Set3\")\n",
        "  box = g1.get_position()\n",
        "  g1.set_position([box.x0, box.y0, box.width * 0.85, box.height]) \n",
        "  g1.legend(loc='right', bbox_to_anchor=(1.15, 0.5), ncol=1)\n",
        "  ax[co][1].set_title(\"Winkler Score for $\\\\alpha=.25$\")\n",
        "  ax[co][1].set_ylabel(\"Order = {}\".format(order))\n",
        "  ax[co][1].set_xlabel(\"Partitions\")\n",
        "\n",
        "plt.tight_layout()"
      ],
      "execution_count": null,
      "outputs": []
    },
    {
      "cell_type": "code",
      "metadata": {
        "id": "TdIu4iy7rcnE"
      },
      "source": [
        "from sklearn import preprocessing\n",
        "\n",
        "fig = plt.figure(figsize=[10,10])\n",
        "\n",
        "nplots = len(datasets.keys())\n",
        "\n",
        "for ct, dataset in enumerate(datasets.keys()):\n",
        "\n",
        "  df = bUtil.get_dataframe_from_bd(\"experiments.db\",\"tag = 'gridsearch' \" \n",
        "                                    +\" and dataset = '{}' and Model='PWFTS' and measure = 'winkler25'\".format(dataset))\n",
        "\n",
        "  df['Partitions'] = [int.from_bytes(k, \"little\") for k in df['Partitions'].values]\n",
        "  \n",
        "  min_max_scaler = preprocessing.MinMaxScaler()\n",
        "\n",
        "  df['Value'] = min_max_scaler.fit_transform([[k] for k in df['Value'].values]).flatten()\n",
        "\n",
        "\n",
        "  ax = fig.add_subplot(nplots, 1, ct+1, projection='3d')\n",
        "  ax.plot_trisurf(df['Order'].values, df['Partitions'].values, df['Value'].values, cmap=\"summer\", linewidth=0.2, antialiased=True)\n",
        "  ax.view_init(30,45)\n",
        "  ax.set_title(dataset) #\"Error surface by order and number of partitions\")\n",
        "  ax.set_xlabel(\"Order\")\n",
        "  ax.set_xticks([1,2,3])\n",
        "  ax.set_ylabel(\"Partitions\")\n",
        "  ax.set_zlabel(\"Winkler $\\\\alpha=.25$\")\n",
        "#ax.set_zlim([0,1])\n",
        "#plt.tight_layout()\n",
        "plt.show()\n"
      ],
      "execution_count": null,
      "outputs": []
    },
    {
      "cell_type": "code",
      "metadata": {
        "id": "JI9Kbhq7sHdM"
      },
      "source": [
        ""
      ],
      "execution_count": null,
      "outputs": []
    },
    {
      "cell_type": "markdown",
      "metadata": {
        "id": "3TMX0eFTEYrv"
      },
      "source": [
        "### Probabilistic Analysis"
      ]
    },
    {
      "cell_type": "markdown",
      "metadata": {
        "id": "uKd5bgVprkFt"
      },
      "source": [
        "#### Batch Experiment Execution\n",
        "\n",
        "**CAUTION**: This is a computationally expensive and time consuming task. We strongly recommend run this task using a [Dispy Cluster](http://dispy.sourceforge.net/)."
      ]
    },
    {
      "cell_type": "code",
      "metadata": {
        "id": "GwZtwALRIQVD"
      },
      "source": [
        "for dataset_name, dataset in datasets.items():\n",
        "    bchmk.sliding_window_benchmarks2(dataset, 1000, train=0.8, inc=0.2,\n",
        "                                    methods=[pwfts.ProbabilisticWeightedFTS],\n",
        "                                    benchmark_models=False,\n",
        "                                    transformations=[None],\n",
        "                                    orders=[1, 2, 3],\n",
        "                                    partitions=np.arange(10, 80, 5),\n",
        "                                    progress=False, type='distribution',\n",
        "                                    distributed=True, nodes=['192.168.0.110', '192.168.0.107','192.168.0.106'],\n",
        "                                    file=\"experiments.db\", dataset=dataset_name,\n",
        "                                    tag=\"gridsearch\")\n"
      ],
      "execution_count": null,
      "outputs": []
    },
    {
      "cell_type": "markdown",
      "metadata": {
        "id": "HVCDtf-yrn8j"
      },
      "source": [
        "#### Plots"
      ]
    },
    {
      "cell_type": "code",
      "metadata": {
        "id": "zecMwa8KlSxu"
      },
      "source": [
        "from pyFTS.benchmarks import Util as bUtil\n",
        "\n",
        "crps = bUtil.get_dataframe_from_bd(\"experiments.db\", \"tag = 'gridsearch' and model like 'PWFTS' and measure = 'crps'\")\n",
        "\n",
        "crps['Partitions'] = [int.from_bytes(k, \"little\") for k in crps['Partitions'].values]\n",
        "\n",
        "crps.head()\n"
      ],
      "execution_count": null,
      "outputs": []
    },
    {
      "cell_type": "code",
      "metadata": {
        "id": "y1aL1DCJlrHK"
      },
      "source": [
        "fig, ax = plt.subplots(nrows=len(orders), ncols=1, figsize=[10,2*len(orders)])\n",
        "\n",
        "for co, order in enumerate(orders):\n",
        "  \n",
        "  df = crps[(crps['Order']==order)]\n",
        "\n",
        "  g1 = sns.boxplot(x='Partitions', y='Value', hue='Dataset', data=df, showfliers=False, \n",
        "                   ax=ax[co], \n",
        "                   palette=\"Set3\")\n",
        "  box = g1.get_position()\n",
        "  g1.set_position([box.x0, box.y0, box.width * 0.85, box.height]) \n",
        "  g1.legend(loc='right', bbox_to_anchor=(1.15, 0.5), ncol=1)\n",
        "  ax[co].set_title(\"CRPS\")\n",
        "  ax[co].set_ylabel(\"Order = {}\".format(order))\n",
        "  ax[co].set_xlabel(\"Partitions\")\n",
        "\n",
        "plt.tight_layout()"
      ],
      "execution_count": null,
      "outputs": []
    },
    {
      "cell_type": "markdown",
      "metadata": {
        "id": "F7JpX-pwezuJ"
      },
      "source": [
        "## Experiments"
      ]
    },
    {
      "cell_type": "markdown",
      "metadata": {
        "id": "lPwVE_N2oz2g"
      },
      "source": [
        "### Point"
      ]
    },
    {
      "cell_type": "markdown",
      "metadata": {
        "id": "OKSQqbido7Js"
      },
      "source": [
        "#### Batch experiment execution\n",
        "\n",
        "**CAUTION**: This is a computationally expensive and time consuming task. We strongly recommend run this task using a [Dispy Cluster](http://dispy.sourceforge.net/)."
      ]
    },
    {
      "cell_type": "code",
      "metadata": {
        "id": "COoXUiGUo4dw"
      },
      "source": [
        "competitor_methods = []\n",
        "competitor_methods.extend([arima.ARIMA]*3)\n",
        "competitor_methods.extend([quantreg.QuantileRegression]*2)\n",
        "competitor_methods.extend([BSTS.ARIMA]*3)\n",
        "competitor_methods.extend([knn.KNearestNeighbors]*2)\n",
        "\n",
        "competitor_methods_parameters = [\n",
        "    {'order': (1, 0, 0)},\n",
        "    {'order': (1, 0, 1)},\n",
        "    {'order': (2, 0, 0)},\n",
        "    {'order': 1, 'alpha': .5},\n",
        "    {'order': 2, 'alpha': .5},\n",
        "    {'order': (1, 0, 0)},\n",
        "    {'order': (1, 0, 1)},\n",
        "    {'order': (2, 0, 0)},\n",
        "    {'order': 1},\n",
        "    {'order': 2}\n",
        "]\n",
        "\n",
        "proposed_methods = [\n",
        "    hofts.HighOrderFTS, hofts.WeightedHighOrderFTS, pwfts.ProbabilisticWeightedFTS\n",
        "]\n",
        "proposed_methods_parameters=[\n",
        "    {},{},{}\n",
        "]\n",
        "\n",
        "for dataset_name, dataset in datasets.items():\n",
        "    bchmk.sliding_window_benchmarks2(dataset, 1000, train=0.8, inc=0.2,\n",
        "                                     benchmark_models=True,\n",
        "                                     benchmark_methods=competitor_methods,\n",
        "                                     benchmark_methods_parameters=competitor_methods_parameters,\n",
        "                                     methods=proposed_methods,\n",
        "                                     methods_parameters=proposed_methods_parameters,\n",
        "                                    orders=[1],\n",
        "                                    partitions=[35],\n",
        "                                    steps_ahead=[10],\n",
        "                                    progress=False, type='point',\n",
        "                                    distributed=True, nodes=['192.168.0.110', '192.168.0.107','192.168.0.106'],\n",
        "                                    file=\"experiments.db\", dataset=dataset_name,\n",
        "                                    tag=\"experiments\")"
      ],
      "execution_count": null,
      "outputs": []
    },
    {
      "cell_type": "markdown",
      "metadata": {
        "id": "-tfmpx37pPj7"
      },
      "source": [
        "#### Result Table"
      ]
    },
    {
      "cell_type": "code",
      "metadata": {
        "id": "wf5_okvopULz"
      },
      "source": [
        "from pyFTS.benchmarks import Util as bUtil, Tests\n",
        "\n",
        "df = bUtil.simple_synthetic_dataframe(\"experiments.db\", \"experiments\", \"rmse\", 'Steps = 0 and Value < 5000')\n",
        "tests = Tests.format_experiment_table(df,csv=False, std=False,\n",
        "        exclude=['.25', '(1,0,0)','(2,0,0)','(2)'], \n",
        "                 replace={'ARIMA(1,0,1)-0.05': 'ARIMA',\n",
        "                         'QAR(1)-0.5':'QAR',\n",
        "                          'kNN(1)-0.05':'kNN',\n",
        "                         'EnsembleFTS-.05': 'EnsembleFTS',\n",
        "                         'BSTS(1,0,1)-0.05': 'BSTS'})\n",
        "\n",
        "#print(tests.to_latex())\n",
        "tests"
      ],
      "execution_count": null,
      "outputs": []
    },
    {
      "cell_type": "markdown",
      "metadata": {
        "id": "nIMIhZirpsoG"
      },
      "source": [
        "#### Mean Equality Test"
      ]
    },
    {
      "cell_type": "code",
      "metadata": {
        "id": "47mOBLlWpvnh"
      },
      "source": [
        "from pyFTS.benchmarks import Util as bUtil, Tests\n",
        "\n",
        "ranks,post_hoc = Tests.test_mean_equality(tests, alpha=.05)\n",
        "print(ranks.to_latex())\n",
        "#ranks"
      ],
      "execution_count": null,
      "outputs": []
    },
    {
      "cell_type": "markdown",
      "metadata": {
        "id": "25-Mc0bSp3Gi"
      },
      "source": [
        "#### Post Hoc Test"
      ]
    },
    {
      "cell_type": "code",
      "metadata": {
        "id": "_AZNGLUgp5tM"
      },
      "source": [
        "from pyFTS.benchmarks import Util as bUtil, Tests\n",
        "\n",
        "tests = Tests.post_hoc_tests(post_hoc,'PWFTS', alpha=.05)\n",
        "\n",
        "print(tests.to_latex())\n",
        "#tests"
      ],
      "execution_count": null,
      "outputs": []
    },
    {
      "cell_type": "markdown",
      "metadata": {
        "id": "GYbYZZ_LqFRw"
      },
      "source": [
        "#### Many steps ahead accuracy"
      ]
    },
    {
      "cell_type": "code",
      "metadata": {
        "id": "PeAL6-ZKqI7s"
      },
      "source": [
        "from pyFTS.benchmarks import Util as bUtil\n",
        "\n",
        "sql = \"tag = 'experiments' and steps in (0, 2, 4, 6) and \"+ \\\n",
        "\"  measure = 'rmse' and Value < 5000\"\n",
        "\n",
        "rmse = bUtil.get_dataframe_from_bd(\"experiments.db\", sql.format(a='05'))\n",
        "\n",
        "rmse.head()"
      ],
      "execution_count": null,
      "outputs": []
    },
    {
      "cell_type": "code",
      "metadata": {
        "id": "lZC4-vXgqdk2"
      },
      "source": [
        "\n",
        "datasets = rmse['Dataset'].unique()\n",
        "\n",
        "models = ['PWFTS', 'HOFTS', 'WHOFTS',\n",
        "          'QAR(1)-0.5', 'ARIMA(1,0,1)-0.05', 'BSTS(1,0,1)-0.05','kNN(1)-0.05',\n",
        "         ]\n",
        "names = ['PWFTS', 'HOFTS', 'WHOFTS', 'QAR', 'ARIMA', 'BSTS','kNN',]\n",
        "\n",
        "lm = len(models)\n",
        "ld = len(datasets)\n",
        "\n",
        "import seaborn as sns\n",
        "fig, ax = plt.subplots(nrows=lm, ncols=1, figsize=[3*ld,2*lm])\n",
        "\n",
        "for cm, model in enumerate(models):\n",
        "    df = rmse[(rmse['Model']==model)]\n",
        "    \n",
        "    g1 = sns.boxplot(x='Steps', y='Value', hue='Dataset', data=df, showfliers=False, \n",
        "                     ax=ax[cm], \n",
        "                 palette=\"Set3\")\n",
        "    ax[cm].set_ylabel(\"RMSE\")\n",
        "    ax[cm].set_title(\"{}\".format(names[cm]))\n",
        "    \n",
        "    box = g1.get_position()\n",
        "    g1.set_position([box.x0, box.y0, box.width * 0.85, box.height]) \n",
        "    g1.legend(loc='right', bbox_to_anchor=(1.15, 0.5), ncol=1)\n",
        "    \n",
        "\n",
        "plt.tight_layout()"
      ],
      "execution_count": null,
      "outputs": []
    },
    {
      "cell_type": "markdown",
      "metadata": {
        "id": "pZhC2mN1tvD1"
      },
      "source": [
        "#### Residual Analysis"
      ]
    },
    {
      "cell_type": "code",
      "metadata": {
        "id": "7LdZDi8OtzxZ"
      },
      "source": [
        "from pyFTS.models import pwfts\n",
        "from pyFTS.partitioners import Grid\n",
        "from pyFTS.benchmarks import ResidualAnalysis\n",
        "\n",
        "train = datasets['SP500'][2000:2800]\n",
        "test = datasets['SP500'][2800:3000]\n",
        "\n",
        "fs = Grid.GridPartitioner(data=train, npart=55)\n",
        "    \n",
        "model = pwfts.ProbabilisticWeightedFTS(partitioner=fs, order=1)\n",
        "model.fit(train)\n",
        "forecasts = model.predict(test)\n",
        "res = ResidualAnalysis.residuals(test, forecasts, order=model.order)\n",
        "\n",
        "ResidualAnalysis.single_plot_residuals(res,order=1)\n",
        "\n"
      ],
      "execution_count": null,
      "outputs": []
    },
    {
      "cell_type": "code",
      "metadata": {
        "id": "YKj-hiC9HgAx"
      },
      "source": [
        "ljung_box_test = ResidualAnalysis.ljung_box_test(res,alpha=0.05)\n",
        "\n",
        "print(ljung_box_test.to_latex())\n",
        "#ljung_box_test"
      ],
      "execution_count": null,
      "outputs": []
    },
    {
      "cell_type": "code",
      "metadata": {
        "id": "qgdimhu9udF7"
      },
      "source": [
        "from pyFTS.common import Util as cUtil\n",
        "from pyFTS.models import pwfts\n",
        "from pyFTS.partitioners import Grid\n",
        "from pyFTS.benchmarks import ResidualAnalysis\n",
        "\n",
        "\n",
        "res = {}\n",
        "\n",
        "for dataset_name, dataset in datasets.items():\n",
        "  res[dataset_name] = []\n",
        "  \n",
        "  for ct, train, test in cUtil.sliding_window(dataset, 1000, .9, inc=.5):\n",
        "    \n",
        "    fs = Grid.GridPartitioner(data=train, npart=35)\n",
        "    \n",
        "    model = pwfts.ProbabilisticWeightedFTS(partitioner=fs, order=1)\n",
        "    model.fit(train)\n",
        "    forecasts = model.predict(test)\n",
        "    res[dataset_name].extend(\n",
        "        ResidualAnalysis.residuals(test, forecasts, order=model.order)\n",
        "    )\n",
        "\n",
        "    "
      ],
      "execution_count": null,
      "outputs": []
    },
    {
      "cell_type": "code",
      "metadata": {
        "id": "yL7JqzWWu1az"
      },
      "source": [
        "from pyFTS.benchmarks import ResidualAnalysis\n",
        "\n",
        "ResidualAnalysis.single_plot_residuals(res['TAIEX'],order=1)"
      ],
      "execution_count": null,
      "outputs": []
    },
    {
      "cell_type": "code",
      "metadata": {
        "id": "chC3NvmYu4ts"
      },
      "source": [
        "from pyFTS.benchmarks import ResidualAnalysis\n",
        "\n",
        "ljung_box_test = ResidualAnalysis.ljung_box_test(res['TAIEX'],alpha=0.05)\n",
        "ljung_box_test\n",
        "#print(ljung_box_test.to_latex())"
      ],
      "execution_count": null,
      "outputs": []
    },
    {
      "cell_type": "markdown",
      "metadata": {
        "id": "xDAIvslB0JbY"
      },
      "source": [
        "### Interval"
      ]
    },
    {
      "cell_type": "markdown",
      "metadata": {
        "id": "AnP2fL2kXEOU"
      },
      "source": [
        "#### Batch experiment execution\n",
        "\n",
        "**CAUTION**: This is a computationally expensive and time consuming task. We strongly recommend run this task using a [Dispy Cluster](http://dispy.sourceforge.net/)."
      ]
    },
    {
      "cell_type": "code",
      "metadata": {
        "id": "SxZA5Jjw0OZr"
      },
      "source": [
        "from pyFTS.benchmarks import arima, quantreg, BSTS, knn\n",
        "from pyFTS.models import ifts, hofts\n",
        "from pyFTS.ensemble import ensemble\n",
        "\n",
        "competitor_methods = []\n",
        "competitor_methods.extend([arima.ARIMA]*6)\n",
        "competitor_methods.extend([quantreg.QuantileRegression]*4)\n",
        "competitor_methods.extend([BSTS.ARIMA]*6)\n",
        "competitor_methods.extend([knn.KNearestNeighbors]*4)\n",
        "\n",
        "\n",
        "competitor_methods_parameters = [\n",
        "    {'order':(1,0,0), 'alpha':.05},\n",
        "    {'order':(1,0,0), 'alpha':.25},\n",
        "    {'order':(1,0,1), 'alpha':.05},\n",
        "    {'order':(1,0,1), 'alpha':.25},\n",
        "    {'order':(2,0,0), 'alpha':.05},\n",
        "    {'order':(2,0,0), 'alpha':.25},\n",
        "    {'order':1, 'alpha':.05},\n",
        "    {'order':1, 'alpha':.25},\n",
        "    {'order':2, 'alpha':.05},\n",
        "    {'order':2, 'alpha':.25},\n",
        "    {'order': (1, 0, 0), 'alpha': .05},\n",
        "    {'order': (1, 0, 0), 'alpha': .25},\n",
        "    {'order': (1, 0, 1), 'alpha': .05},\n",
        "    {'order': (1, 0, 1), 'alpha': .25},\n",
        "    {'order': (2, 0, 0), 'alpha': .05},\n",
        "    {'order': (2, 0, 0), 'alpha': .25},\n",
        "    {'order': 1, 'alpha': .05},\n",
        "    {'order': 1, 'alpha': .25}\n",
        "    {'order': 2, 'alpha': .05},\n",
        "    {'order': 2, 'alpha': .25}\n",
        "]\n",
        "\n",
        "proposed_methods = [\n",
        "    pwfts.ProbabilisticWeightedFTS,\n",
        "    ifts.IntervalFTS, ifts.WeightedIntervalFTS, \n",
        "    ensemble.SimpleEnsembleFTS, ensemble.SimpleEnsembleFTS\n",
        "]\n",
        "\n",
        "proposed_methods_parameters=[\n",
        "    {}, {},{},\n",
        "    {'name': 'EnsembleFTS', 'alpha':.05, 'fts_method': hofts.WeightedHighOrderFTS, 'partitions': np.arange(20,50,5)},\n",
        "    {'name': 'EnsembleFTS', 'alpha':.25, 'fts_method': hofts.WeightedHighOrderFTS, 'partitions': np.arange(20,50,5)}\n",
        "]\n",
        "\n",
        "for dataset_name, dataset in datasets.items():\n",
        "    bchmk.sliding_window_benchmarks2(dataset, 1000, train=0.8, inc=0.2,\n",
        "                                     benchmark_models=True,\n",
        "                                     benchmark_methods=competitor_methods,\n",
        "                                     benchmark_methods_parameters=competitor_methods_parameters,\n",
        "                                     methods=proposed_methods,\n",
        "                                     methods_parameters=proposed_methods_parameters,\n",
        "                                     transformations=[None],\n",
        "                                     orders=[1],\n",
        "                                     steps_ahead=[10],\n",
        "                                     partitions=[45],\n",
        "                                     type='interval',\n",
        "                                     distributed=True, nodes=['192.168.0.110', '192.168.0.107','192.168.0.106'],\n",
        "                                     file=\"experiments.db\", dataset=dataset_name, tag=\"experiments\")"
      ],
      "execution_count": null,
      "outputs": []
    },
    {
      "cell_type": "markdown",
      "metadata": {
        "id": "c9b5FUiaWmqJ"
      },
      "source": [
        "#### Result Table"
      ]
    },
    {
      "cell_type": "code",
      "metadata": {
        "id": "Sc85FEWLzKsL"
      },
      "source": [
        "from pyFTS.benchmarks import Util as bUtil, Tests\n",
        "\n",
        "df = bUtil.simple_synthetic_dataframe(\"experiments.db\", \"experiments\", \"winkler05\", 'Steps = 0 and Value < 5000')\n",
        "tests = Tests.format_experiment_table(df,csv=False, std=False,\n",
        "        exclude=['.25', '(1,0,0)','(2,0,0)','(2)'], \n",
        "                 replace={'ARIMA(1,0,1)-0.05': 'ARIMA',\n",
        "                         'QAR(1)-0.05':'QAR',\n",
        "                          'kNN(1)-0.05':'kNN',\n",
        "                         'EnsembleFTS-.05': 'EnsembleFTS',\n",
        "                         'BSTS(1,0,1)-0.05': 'BSTS'})\n",
        "\n",
        "#print(tests.to_latex())\n",
        "tests"
      ],
      "execution_count": null,
      "outputs": []
    },
    {
      "cell_type": "markdown",
      "metadata": {
        "id": "l-7OOjaTWjoQ"
      },
      "source": [
        "#### Mean Equality Test"
      ]
    },
    {
      "cell_type": "code",
      "metadata": {
        "id": "bnNQ63kZI9vD"
      },
      "source": [
        "from pyFTS.benchmarks import Util as bUtil, Tests\n",
        "\n",
        "ranks,post_hoc = Tests.test_mean_equality(tests)\n",
        "#print(ranks.to_latex())\n",
        "ranks"
      ],
      "execution_count": null,
      "outputs": []
    },
    {
      "cell_type": "markdown",
      "metadata": {
        "id": "1JfWoSTYWxpX"
      },
      "source": [
        "#### Post-Hoc Tests"
      ]
    },
    {
      "cell_type": "code",
      "metadata": {
        "id": "nHzGdM80JKLN"
      },
      "source": [
        "from pyFTS.benchmarks import Util as bUtil, Tests\n",
        "\n",
        "tests = Tests.post_hoc_tests(post_hoc,'PWFTS')\n",
        "\n",
        "#print(tests.to_latex())\n",
        "tests"
      ],
      "execution_count": null,
      "outputs": []
    },
    {
      "cell_type": "markdown",
      "metadata": {
        "id": "lIhaWmtGaW8q"
      },
      "source": [
        "#### Many Steps Ahead Accuracy"
      ]
    },
    {
      "cell_type": "code",
      "metadata": {
        "id": "OifXg-t-aV1c"
      },
      "source": [
        "from pyFTS.benchmarks import Util as bUtil\n",
        "\n",
        "sql = \"tag = 'experiments' and steps in (0, 2, 4, 6) and \"+ \\\n",
        "\" (Model like '%{a}' or Model in ('PWFTS')) and measure = 'winkler{a}' and Value < 5000\"\n",
        "\n",
        "wk05 = bUtil.get_dataframe_from_bd(\"experiments.db\", sql.format(a='05'))\n",
        "wk25 = bUtil.get_dataframe_from_bd(\"experiments.db\", sql.format(a='25'))\n",
        "\n",
        "wk05.head()"
      ],
      "execution_count": null,
      "outputs": []
    },
    {
      "cell_type": "code",
      "metadata": {
        "id": "oKrFXBJQadod"
      },
      "source": [
        "\n",
        "datasets = wk05['Dataset'].unique()\n",
        "#models = wk05['Model'].unique()\n",
        "\n",
        "models = ['PWFTS','EnsembleFTS-.05',\n",
        "          'QAR(1)-0.05', 'ARIMA(1,0,1)-0.05', 'BSTS(1,0,1)-0.05','kNN(1)-0.05',\n",
        "         ]\n",
        "names = ['PWFTS','EnsembleFTS','QAR', 'ARIMA', 'BSTS','kNN',]\n",
        "\n",
        "lm = len(models)\n",
        "ld = len(datasets)\n",
        "\n",
        "import seaborn as sns\n",
        "#fig, ax = plt.subplots(nrows=lm, ncols=1, figsize=[3*ld,2*lm])\n",
        "fig, ax = plt.subplots(nrows=1, ncols=1, figsize=[10,3])\n",
        "\n",
        "\n",
        "#for cm, model in enumerate(models):\n",
        "for cm, model in enumerate(['PWFTS']):\n",
        "  #for cd, dataset in enumerate(datasets):\n",
        "    df = wk05[(wk05['Model']==model)]\n",
        "    \n",
        "    g1 = sns.boxplot(x='Steps', y='Value', hue='Dataset', data=df, showfliers=False, \n",
        "                     ax=ax, \n",
        "                 palette=\"Set3\")\n",
        "    ax.set_ylabel(\"Winkler Sc.\")\n",
        "    ax.set_title(\"{}\".format(names[cm]))\n",
        "    \n",
        "    box = g1.get_position()\n",
        "    g1.set_position([box.x0, box.y0, box.width * 0.85, box.height]) \n",
        "    g1.legend(loc='right', bbox_to_anchor=(1.15, 0.5), ncol=1)\n",
        "    \n",
        "\n",
        "plt.tight_layout()"
      ],
      "execution_count": null,
      "outputs": []
    },
    {
      "cell_type": "markdown",
      "metadata": {
        "id": "ruD66JWL0MAt"
      },
      "source": [
        "### Probabilistic"
      ]
    },
    {
      "cell_type": "markdown",
      "metadata": {
        "id": "ldtyBqTTZMKR"
      },
      "source": [
        "#### Batch experiment execution\n",
        "\n",
        "**CAUTION**: This is a computationally expensive and time consuming task. We strongly recommend run this task using a [Dispy Cluster](http://dispy.sourceforge.net/)."
      ]
    },
    {
      "cell_type": "code",
      "metadata": {
        "id": "4myar-CPe3X0"
      },
      "source": [
        "competitor_methods = []\n",
        "competitor_methods.extend([arima.ARIMA]*3)\n",
        "competitor_methods.extend([quantreg.QuantileRegression]*2)\n",
        "competitor_methods.extend([BSTS.ARIMA]*3)\n",
        "competitor_methods.extend([knn.KNearestNeighbors]*2)\n",
        "\n",
        "competitor_methods_parameters = [\n",
        "    {'order': (1, 0, 0)},\n",
        "    {'order': (1, 0, 1)},\n",
        "    {'order': (2, 0, 0)},\n",
        "    {'order': 1, 'dist': True},\n",
        "    {'order': 2, 'dist': True},\n",
        "    {'order': (1, 0, 0)},\n",
        "    {'order': (1, 0, 1)},\n",
        "    {'order': (2, 0, 0)},\n",
        "    {'order': 1},\n",
        "    {'order': 2}\n",
        "]\n",
        "\n",
        "proposed_methods = [\n",
        "    hofts.HighOrderFTS, hofts.WeightedHighOrderFTS, pwfts.ProbabilisticWeightedFTS,\n",
        "    ensemble.SimpleEnsembleFTS\n",
        "]\n",
        "proposed_methods_parameters=[\n",
        "    {},{},{},\n",
        "    {'name': 'EnsembleFTS', 'fts_method': hofts.WeightedHighOrderFTS, 'partitions': np.arange(20,50,5)}\n",
        "]\n",
        "\n",
        "for dataset_name, dataset in datasets.items():\n",
        "    bchmk.sliding_window_benchmarks2(dataset, 1000, train=0.8, inc=0.2,\n",
        "                                     benchmark_models=True,\n",
        "                                     benchmark_methods=competitor_methods,\n",
        "                                     benchmark_methods_parameters=competitor_methods_parameters,\n",
        "                                     methods=proposed_methods,\n",
        "                                     methods_parameters=proposed_methods_parameters,\n",
        "                                    orders=[1],\n",
        "                                    partitions=[35],\n",
        "                                    steps_ahead=[10],\n",
        "                                    progress=False, type='distribution',\n",
        "                                    distributed=True, nodes=['192.168.0.110', '192.168.0.107','192.168.0.106'],\n",
        "                                    file=\"experiments.db\", dataset=dataset_name,\n",
        "                                    tag=\"experiments\")"
      ],
      "execution_count": null,
      "outputs": []
    },
    {
      "cell_type": "markdown",
      "metadata": {
        "id": "Mf5qfPuTZlcb"
      },
      "source": [
        "#### Result Table"
      ]
    },
    {
      "cell_type": "code",
      "metadata": {
        "id": "58irByzXb6DG"
      },
      "source": [
        "from pyFTS.benchmarks import Util as bUtil, Tests\n",
        "\n",
        "df = bUtil.simple_synthetic_dataframe(\"experiments.db\", \"experiments\", \"crps\", \"Steps = 0 and Value < 5000\")\n",
        "tests = Tests.format_experiment_table(df,csv=False, std=False,\n",
        "        exclude=['.25', '(1,0,0)','(2,0,0)','(2)'], \n",
        "                 replace={'ARIMA(1,0,1)-0.05': 'ARIMA',\n",
        "                         'QAR(1)-0.05':'QAR',\n",
        "                          'kNN(1)-0.05':'kNN',\n",
        "                         'EnsembleFTS-.05': 'EnsembleFTS',\n",
        "                         'BSTS(1,0,1)-0.05': 'BSTS'})\n",
        "\n",
        "tests\n",
        "#print(tests.to_latex())"
      ],
      "execution_count": null,
      "outputs": []
    },
    {
      "cell_type": "markdown",
      "metadata": {
        "id": "Mjn0VG2FZzSZ"
      },
      "source": [
        "#### Mean Equality Test"
      ]
    },
    {
      "cell_type": "code",
      "metadata": {
        "id": "i1uyRX67Jys3"
      },
      "source": [
        "from pyFTS.benchmarks import Util as bUtil, Tests\n",
        "\n",
        "ranks,post_hoc = Tests.test_mean_equality(tests)\n",
        "#print(ranks.to_latex())\n",
        "ranks"
      ],
      "execution_count": null,
      "outputs": []
    },
    {
      "cell_type": "markdown",
      "metadata": {
        "id": "FdaPXd6bZ8Kr"
      },
      "source": [
        "#### Post Hoc Tests"
      ]
    },
    {
      "cell_type": "code",
      "metadata": {
        "id": "GrAdi7-qJ94q"
      },
      "source": [
        "from pyFTS.benchmarks import Util as bUtil, Tests\n",
        "\n",
        "tests = Tests.post_hoc_tests(post_hoc,'PWFTS')\n",
        "\n",
        "#print(tests.to_latex())\n",
        "tests"
      ],
      "execution_count": null,
      "outputs": []
    },
    {
      "cell_type": "markdown",
      "metadata": {
        "id": "UA_PUmOIaIJu"
      },
      "source": [
        "#### Many Steps Ahead Accuracy"
      ]
    },
    {
      "cell_type": "code",
      "metadata": {
        "id": "iTosjLzGmHVa"
      },
      "source": [
        "from pyFTS.benchmarks import Util as bUtil\n",
        "\n",
        "sql = \"tag = 'experiments' and steps in (0, 2, 4, 6) and \"+ \\\n",
        "\" measure = 'crps' and Value < 5000\"\n",
        "\n",
        "crps = bUtil.get_dataframe_from_bd(\"experiments.db\", sql)\n",
        "\n",
        "crps.head()"
      ],
      "execution_count": null,
      "outputs": []
    },
    {
      "cell_type": "code",
      "metadata": {
        "id": "NRf-d9ANeKJ3"
      },
      "source": [
        "crps['Model'].unique()"
      ],
      "execution_count": null,
      "outputs": []
    },
    {
      "cell_type": "code",
      "metadata": {
        "id": "RPwZXx2Xmc-s"
      },
      "source": [
        "\n",
        "datasets = crps['Dataset'].unique()\n",
        "\n",
        "models = ['PWFTS', 'EnsembleFTS',\n",
        "          'QAR(1)-0.05', 'ARIMA(1,0,1)-0.05', 'BSTS(1,0,1)-0.05','kNN(1)-0.05',\n",
        "         ]\n",
        "names = ['PWFTS','EnsembleFTS','QAR', 'ARIMA', 'BSTS','kNN',]\n",
        "\n",
        "lm = len(models)\n",
        "ld = len(datasets)\n",
        "\n",
        "import seaborn as sns\n",
        "#fig, ax = plt.subplots(nrows=lm, ncols=1, figsize=[3*ld,2*lm])\n",
        "fig, ax = plt.subplots(nrows=1, ncols=1, figsize=[10,3])\n",
        "\n",
        "\n",
        "#for cm, model in enumerate(models):\n",
        "for cm, model in enumerate(['PWFTS']):\n",
        "  #for cd, dataset in enumerate(datasets):\n",
        "    df = crps[(crps['Model']==model)]\n",
        "    \n",
        "    g1 = sns.boxplot(x='Steps', y='Value', hue='Dataset', data=df, showfliers=False, \n",
        "                     ax=ax, \n",
        "                 palette=\"Set3\")\n",
        "    ax.set_ylabel(\"CRPS.\")\n",
        "    ax.set_title(\"{}\".format(names[cm]))\n",
        "    \n",
        "    box = g1.get_position()\n",
        "    g1.set_position([box.x0, box.y0, box.width * 0.85, box.height]) \n",
        "    g1.legend(loc='right', bbox_to_anchor=(1.15, 0.5), ncol=1)\n",
        "    \n",
        "\n",
        "plt.tight_layout()"
      ],
      "execution_count": null,
      "outputs": []
    },
    {
      "cell_type": "markdown",
      "metadata": {
        "id": "UgqSg0Dl7_cI"
      },
      "source": [
        "## Samples"
      ]
    },
    {
      "cell_type": "code",
      "metadata": {
        "id": "QP97omAkW1Bg"
      },
      "source": [
        "from pyFTS.data import TAIEX, NASDAQ, SP500\n",
        "from pyFTS.common import Util\n",
        "\n",
        "train = TAIEX.get_data()[1000:1800]\n",
        "test = TAIEX.get_data()[1800:2000]\n"
      ],
      "execution_count": null,
      "outputs": []
    },
    {
      "cell_type": "markdown",
      "metadata": {
        "id": "bCNs7Mm4eo46"
      },
      "source": [
        "### One Step Ahead"
      ]
    },
    {
      "cell_type": "code",
      "metadata": {
        "id": "lzf-r9rU8CHu"
      },
      "source": [
        "from pyFTS.models import pwfts\n",
        "from pyFTS.partitioners import Grid\n",
        "\n",
        "fs = Grid.GridPartitioner(data=train, npart=45)\n",
        "\n",
        "model = pwfts.ProbabilisticWeightedFTS(partitioner=fs, order=1)\n",
        "model.fit(train)"
      ],
      "execution_count": null,
      "outputs": []
    },
    {
      "cell_type": "code",
      "metadata": {
        "id": "rsqYeD3hsF6h"
      },
      "source": [
        "forecasts = model.predict(test[:20], type='point')\n",
        "intervals = model.predict(test[:20], type='interval')\n",
        "distributions = model.predict(test[:20], type='distribution')\n",
        "\n",
        "forecasts.insert(0,test[0])\n",
        "fig, ax = plt.subplots(nrows=1, ncols=1,figsize=[15,5])\n",
        "ax.plot(test[:21], label='Original',color='black')\n",
        "ax.plot(forecasts[:-1], label='Point',color='brown')\n",
        "Util.plot_interval2(intervals, test[:10], start_at=model.order-1, ax=ax, color='orange', ls='--', label='Interval')\n",
        "Util.plot_distribution2(distributions, test[:10], start_at=model.order-1, ax=ax, cmap=\"Blues\")\n",
        "\n",
        "handles, labels = ax.get_legend_handles_labels()\n",
        "lgd = ax.legend(handles, labels, \n",
        "          fancybox=True, shadow=True, ncol=5, loc='lower center', bbox_to_anchor=(0.5, -0.05))"
      ],
      "execution_count": null,
      "outputs": []
    },
    {
      "cell_type": "code",
      "metadata": {
        "id": "2yFYRXr-xMvG"
      },
      "source": [
        "Util.plot_distribution_tiled(distributions,rows=5,cols=3,size=[10,10])"
      ],
      "execution_count": null,
      "outputs": []
    },
    {
      "cell_type": "markdown",
      "metadata": {
        "id": "z2jonvwys1Oi"
      },
      "source": [
        "### Many Steps Ahead "
      ]
    },
    {
      "cell_type": "code",
      "metadata": {
        "id": "zvMSMyKH8nJr"
      },
      "source": [
        "horizon=10\n",
        "\n",
        "forecasts = model.predict(test[9:20], type='point', steps_ahead=horizon)\n",
        "intervals = model.predict(test[9:20], type='interval', steps_ahead=horizon)\n",
        "distributions = model.predict(test[9:20], type='distribution', steps_ahead=horizon)\n",
        "\n",
        "fig, ax = plt.subplots(nrows=1, ncols=1,figsize=[15,5])\n",
        "ax.plot(test[:20], label='Original',color='black')\n",
        "for k in range(9):\n",
        "  forecasts.insert(0,None)\n",
        "forecasts.insert(9,test[9])\n",
        "ax.plot(forecasts, label='Point',color='brown')\n",
        "Util.plot_interval2(intervals, test[:20], start_at=9, ax=ax, color='red', ls='--', label='WIFTS')\n",
        "Util.plot_distribution2(distributions, test[:20], start_at=9, ax=ax, cmap=\"Blues\")\n",
        "\n",
        "handles, labels = ax.get_legend_handles_labels()\n",
        "lgd = ax.legend(handles, labels, \n",
        "          fancybox=True, shadow=True, ncol=5, loc='lower center', bbox_to_anchor=(0.5, -0.05))\n"
      ],
      "execution_count": null,
      "outputs": []
    },
    {
      "cell_type": "code",
      "metadata": {
        "id": "fGypVL4jqkpx"
      },
      "source": [
        "Util.plot_distribution_tiled(distributions,rows=5,cols=2,size=[10,7])"
      ],
      "execution_count": null,
      "outputs": []
    },
    {
      "cell_type": "code",
      "metadata": {
        "id": "gPA3iCGQxGdp"
      },
      "source": [
        ""
      ],
      "execution_count": null,
      "outputs": []
    }
  ]
}