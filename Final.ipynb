{
  "nbformat": 4,
  "nbformat_minor": 0,
  "metadata": {
    "kernelspec": {
      "display_name": "Python 3",
      "language": "python",
      "name": "python3"
    },
    "language_info": {
      "codemirror_mode": {
        "name": "ipython",
        "version": 3
      },
      "file_extension": ".py",
      "mimetype": "text/x-python",
      "name": "python",
      "nbconvert_exporter": "python",
      "pygments_lexer": "ipython3",
      "version": "3.6.5"
    },
    "colab": {
      "name": "Final.ipynb",
      "provenance": [],
      "machine_shape": "hm",
      "include_colab_link": true
    },
    "accelerator": "GPU"
  },
  "cells": [
    {
      "cell_type": "markdown",
      "metadata": {
        "id": "view-in-github",
        "colab_type": "text"
      },
      "source": [
        "<a href=\"https://colab.research.google.com/github/gabrielvinicios02/ExperimentsMultivariate/blob/f-LSTM/Final.ipynb\" target=\"_parent\"><img src=\"https://colab.research.google.com/assets/colab-badge.svg\" alt=\"Open In Colab\"/></a>"
      ]
    },
    {
      "cell_type": "markdown",
      "metadata": {
        "id": "iRvvo55kFI3G"
      },
      "source": [
        "# Import Statements"
      ]
    },
    {
      "cell_type": "code",
      "metadata": {
        "id": "VqP9ScniFR43",
        "outputId": "dc976b4f-fa65-49e2-d5e8-70db73157344",
        "colab": {
          "base_uri": "https://localhost:8080/"
        }
      },
      "source": [
        "from google.colab import drive\n",
        "drive.mount('/content/drive')"
      ],
      "execution_count": 13,
      "outputs": [
        {
          "output_type": "stream",
          "name": "stdout",
          "text": [
            "Drive already mounted at /content/drive; to attempt to forcibly remount, call drive.mount(\"/content/drive\", force_remount=True).\n"
          ]
        }
      ]
    },
    {
      "cell_type": "code",
      "metadata": {
        "id": "kwDVPe0vFI3H"
      },
      "source": [
        "import os\n",
        "import numpy as np\n",
        "import torch\n",
        "import torch.utils.data as tchdata\n",
        "from sklearn import preprocessing\n",
        "from sklearn import datasets, metrics\n",
        "from sklearn.decomposition import PCA\n",
        "from sklearn.discriminant_analysis import LinearDiscriminantAnalysis as LDA\n",
        "from sklearn import svm\n",
        "from datetime import datetime\n",
        "import matplotlib.pyplot as plt\n",
        "from matplotlib.colors import colorConverter, ListedColormap # some plotting functions\n",
        "from matplotlib.offsetbox import TextArea, VPacker, AnnotationBbox"
      ],
      "execution_count": 14,
      "outputs": []
    },
    {
      "cell_type": "markdown",
      "metadata": {
        "id": "5YcNvAJ5FI3J"
      },
      "source": [
        "## F1 : Plots"
      ]
    },
    {
      "cell_type": "code",
      "metadata": {
        "id": "Q2UnEI89FI3J"
      },
      "source": [
        "def plots(first, y_label, title, num_iterations , x_label='iterations',second=None, third=None, show_min=True):\n",
        "    \n",
        "    fig = plt.figure()\n",
        "    fig.gca().set_position((.15, .3, .80, .6))\n",
        "    \n",
        "    plt.ylabel(y_label+\"->\")\n",
        "    \n",
        "#     (activation, layers_dims, num_iterations, learning_rate, lambd) = info\n",
        "#     s1=\"lambda=\"+str(lambd)\n",
        "#     s2=\"layers_dimensions=\"+str(layers_dims)\n",
        "#     s3=\"num_iterations=\"+str(num_iterations)\n",
        "#     s4=\"learning_rate=\"+str(learning_rate)\n",
        "#     s5=\"activation=\"+str(activation)\n",
        "    \n",
        "    t =np.linspace(0, num_iterations-1, num=num_iterations)\n",
        "    plt.figtext(.5,.92,title, fontsize=14, ha='center', fontweight='bold')        \n",
        "#     plt.figtext(0.5,.136,s1+\"\\n\"+s4+\"\\n\"+s3+\"\\n\"+s2,fontsize=10,ha='left', va='center',  bbox={'facecolor':'grey', 'alpha':0.3, 'pad':4})\n",
        "    plt.figtext(0.25, .33, x_label+'->', fontsize=10,ha='left', va='center')  \n",
        "#     plt.figtext(0.45,.85,s5,fontsize=10,ha='left', va='center',color='#B22222', bbox={'facecolor':'wheat', 'alpha':0.3, 'pad':5})     \n",
        "    \n",
        "    \n",
        "    first_list, first_list_name=first\n",
        "    first_array = np.array(first_list)\n",
        "    (first_max_x, first_max_y)=(round((np.argmax(first_array)),3), round(np.amax(first_array), 3))\n",
        "\n",
        "    #(global_max_x, global_max_y, global_max_name)=(t[first_max_x], first_max_y, first_list_name)\n",
        "    if (second is not None):\n",
        "        second_list, second_list_name=second\n",
        "        second_array = np.array(second_list)\n",
        "        (second_max_x, second_max_y)=(round((np.argmax(second_array)),3), round(np.amax(second_array), 3))\n",
        "        #(global_max_x, global_max_y, global_max_name)=(global_max_x, global_max_y, global_max_name) if (global_max_y<second_max_y) else  (t[second_max_x], second_max_y,second_list_name)\n",
        "\n",
        "    \n",
        "    if not(third is None):\n",
        "        third_list, third_list_name=third\n",
        "        third_array=np.array(third_list)\n",
        "        (third_max_x, third_max_y)=(round((np.argmax(third_array)),3), round(np.amax(third_array), 3))\n",
        "        #(global_max_x, global_max_y, global_max_name)=(t[third_max_x], third_max_y, third_list_name) if (third_max_y<global_max_y) else  (global_max_x, global_max_y, global_max_name)\n",
        "    \n",
        "\n",
        "    if(show_min):\n",
        "        plt.scatter(first_max_x,first_max_y,c='b',label='max_'+first_list_name+'('+str(first_max_x)+','+str(first_max_y)+')')\n",
        "        if ((third is None) and (not(second is None))):\n",
        "            plt.scatter(second_max_x,second_max_y,c='r',label='max_'+second_list_name+'('+str(second_max_x)+','+str(second_max_y)+')')\n",
        "\n",
        "        elif (not(third is None) and not(second is None)):\n",
        "\n",
        "            plt.scatter(second_max_x,second_max_y,c='r',label='max_'+second_list_name+'('+str(second_max_x)+','+str(second_max_y)+')')\n",
        "            plt.scatter(third_max_x,third_max_y,c='g',label='max_'+third_list_name+'('+str(third_max_x)+','+str(third_max_y)+')')\n",
        "\n",
        "        #print('For '+str(num_iterations)+' iterations, maximum value ['+str(global_max_y) + '] of the graph for \"'+str(title)+'\" was obtained at '+ str(global_max_x)+'th iteration, corresponding to \"'+str(global_max_name)+'\" plot.')\n",
        "\n",
        "    plot1,=plt.plot(t, np.squeeze(first_list), 'b-', linewidth=1.5, label=first_list_name)\n",
        "    plt.legend(bbox_to_anchor=(0.4, -0.15))\n",
        "    if (not(second is None)):\n",
        "            plot2,=plt.plot(t, np.squeeze(second_list), 'r-', linewidth=1.5, label=second_list_name)\n",
        "            plt.legend(bbox_to_anchor=(0.4, 0))\n",
        "            if(not(third is None)):\n",
        "                plot3,=plt.plot(t, np.squeeze(third_list), 'g-', linewidth=1.5, label=third_list_name)\n",
        "                plt.legend(bbox_to_anchor=(0.4, 0.15))\n",
        "    \n",
        "    \n",
        "    plt.savefig('../content/drive/MyDrive/Colab Notebooks/DataTEP/plots/['+str(datetime.now()).replace(\":\", \"\")+'] '+title+\".png\")\n",
        "    plt.show()\n",
        "    return (0,0,0)"
      ],
      "execution_count": 15,
      "outputs": []
    },
    {
      "cell_type": "markdown",
      "metadata": {
        "id": "fczBESsjFI3L"
      },
      "source": [
        "## F2/F3/F4 : Confusion Matrix 1/2/3"
      ]
    },
    {
      "cell_type": "code",
      "metadata": {
        "id": "gAeW_PQXFI3L"
      },
      "source": [
        "def confusion_table1(test_labels, pred, title):\n",
        "    conf_matrix = metrics.confusion_matrix(test_labels, pred, labels=None)  # Get confustion matrix\n",
        "    # Plot the confusion table\n",
        "    x=[1, 2, 3, 4]\n",
        "    class_names = ['${:d}$'.format(i) for i in x]  # Digit class names\n",
        "    fig = plt.figure()\n",
        "    ax = fig.add_subplot(111)\n",
        "    # Show class labels on each axis\n",
        "    ax.xaxis.tick_top()\n",
        "    major_ticks = range(0,5)\n",
        "    minor_ticks = [x + 0.5 for x in range(0, 5)]\n",
        "    ax.xaxis.set_ticks(major_ticks, minor=False)\n",
        "    ax.yaxis.set_ticks(major_ticks, minor=False)\n",
        "    ax.xaxis.set_ticks(minor_ticks, minor=True)\n",
        "    ax.yaxis.set_ticks(minor_ticks, minor=True)\n",
        "    ax.xaxis.set_ticklabels(class_names, minor=False, fontsize=15)\n",
        "    ax.yaxis.set_ticklabels(class_names, minor=False, fontsize=15)\n",
        "    # Set plot labels\n",
        "    ax.yaxis.set_label_position(\"right\")\n",
        "    ax.set_xlabel('Predicted label', fontsize=12)\n",
        "    ax.set_ylabel('True label', fontsize=12)\n",
        "    fig.suptitle(title, y=1.04, fontsize=14, ha='center', fontweight='bold')\n",
        "    # Show a grid to seperate digits\n",
        "    ax.grid(b=True, which=u'minor')\n",
        "    # Color each grid cell according to the number classes predicted\n",
        "    ax.imshow(conf_matrix, interpolation='nearest', cmap='binary')\n",
        "    # Show the number of samples in each cell\n",
        "    for x in range(conf_matrix.shape[0]):\n",
        "        for y in range(conf_matrix.shape[1]):\n",
        "            color = 'w' if x == y else 'k'\n",
        "            ax.text(x, y, conf_matrix[y,x], ha=\"center\", va=\"bottom\", color=color)       \n",
        "    plt.savefig('../content/drive/MyDrive/Colab Notebooks/DataTEP/plots/['+str(datetime.now()).replace(\":\", \"\")+'] Confusion table.png', bbox_inches='tight')\n",
        "    plt.show()"
      ],
      "execution_count": 16,
      "outputs": []
    },
    {
      "cell_type": "markdown",
      "metadata": {
        "id": "o8PX6IM2FI3O"
      },
      "source": [
        "## C1 : Accuracy Metric"
      ]
    },
    {
      "cell_type": "code",
      "metadata": {
        "id": "urIzuzf0FI3O"
      },
      "source": [
        "class AccMectric(object):\n",
        "    def __init__(self):\n",
        "        self.reset()\n",
        "        \n",
        "    def reset(self):\n",
        "        self._sum = 0\n",
        "        self._count = 0\n",
        "    \n",
        "    def update(self, targets, outputs):\n",
        "        pred = outputs.argmax(axis=1)\n",
        "        self._sum += (pred == targets).sum()\n",
        "        self._count += targets.shape[0]\n",
        "        \n",
        "    def get(self):\n",
        "        return self._sum / self._count"
      ],
      "execution_count": 17,
      "outputs": []
    },
    {
      "cell_type": "markdown",
      "metadata": {
        "id": "tc8jpObGFI3P"
      },
      "source": [
        "## F5: Reading data from file"
      ]
    },
    {
      "cell_type": "code",
      "metadata": {
        "id": "9DzDYbyJFI3P"
      },
      "source": [
        "def read_data(error=0, is_train=True):\n",
        "    #fi = os.path.join('../content/drive/MyDrive/Colab Notebooks/DataTEP/', \n",
        "    #    ('d0' if error < 10 else 'd') + str(error) + ('_te.dat' if is_train else '.dat'))\n",
        "    #with open(fi, 'r') as fr:\n",
        "    #    data = fr.read()\n",
        "    #data = np.fromstring(data, dtype=np.float32, sep='   ')\n",
        "    #if fi == 'data/d00.dat':\n",
        "    #    data = data.reshape(-1, 500).T\n",
        "    #else:\n",
        "    #    data = data.reshape(-1, 52)\n",
        "    #if is_train:\n",
        "    #    data = data[160: ]\n",
        "    #dff = pd.read_excel('../content/drive/MyDrive/DadosPWFTS/DadosFalha.xlsx')\n",
        "    dfn = pd.read_excel('../content/drive/MyDrive/DadosPWFTS/DadosNormais.xlsx')\n",
        "    data = dfn\n",
        "    return data, np.ones(data.shape[0], np.int64) * error"
      ],
      "execution_count": 19,
      "outputs": []
    },
    {
      "cell_type": "markdown",
      "metadata": {
        "id": "Nf3G_NvpFI3P"
      },
      "source": [
        "## F6: Reading and Converting data into sequence"
      ]
    },
    {
      "cell_type": "code",
      "metadata": {
        "id": "vNnUA43GFI3Q"
      },
      "source": [
        "def gen_seq_data(target, n_samples, is_train):\n",
        "    seq_data, seq_labels = [], []\n",
        "    for i, t in enumerate(target):\n",
        "        d, _ = read_data(t, is_train)\n",
        "        data = []\n",
        "        length = d.shape[0] - n_samples + 1\n",
        "        for j in range(n_samples):\n",
        "            data.append(d[j : j + length])\n",
        "        data = np.hstack(data)\n",
        "        seq_data.append(data)\n",
        "        seq_labels.append(np.ones(data.shape[0], np.int64) * i)\n",
        "    return np.vstack(seq_data), np.concatenate(seq_labels)"
      ],
      "execution_count": 21,
      "outputs": []
    },
    {
      "cell_type": "markdown",
      "metadata": {
        "id": "JVSbwt1NFI3Q"
      },
      "source": [
        "## F7: Training a model using training data and an optimizer function"
      ]
    },
    {
      "cell_type": "code",
      "metadata": {
        "id": "MU6TfF5QFI3Q"
      },
      "source": [
        "def train(model, optimizer, train_loader):\n",
        "    model.train()\n",
        "    acc = AccMectric()\n",
        "    for data, labels in train_loader:\n",
        "        x = torch.autograd.Variable(data.cuda())\n",
        "        y = torch.autograd.Variable(labels.cuda())\n",
        "        o = model(x)\n",
        "        \n",
        "        loss = torch.nn.NLLLoss()(torch.nn.LogSoftmax()(o), y)\n",
        "        acc.update(labels.numpy(), o.data.cpu().numpy())\n",
        "\n",
        "        optimizer.zero_grad()\n",
        "        loss.backward()\n",
        "        optimizer.step()\n",
        "\n",
        "    return acc.get()"
      ],
      "execution_count": 22,
      "outputs": []
    },
    {
      "cell_type": "markdown",
      "metadata": {
        "id": "bAXMSOk5FI3Q"
      },
      "source": [
        "## F8: Testing a model using test data"
      ]
    },
    {
      "cell_type": "code",
      "metadata": {
        "id": "egkFacr3FI3R"
      },
      "source": [
        "def validate(model, test_loader):\n",
        "    model.eval()\n",
        "    acc = AccMectric()\n",
        "    pred = []\n",
        "    targets = []\n",
        "    for data, labels in test_loader:\n",
        "        x = torch.autograd.Variable(data.cuda())\n",
        "        o = model(x)\n",
        "        outputs = o.data.cpu().numpy()\n",
        "        acc.update(labels.numpy(), outputs)\n",
        "        pred.extend(outputs.argmax(axis=1))\n",
        "        targets.extend(labels.numpy())\n",
        "    return (acc.get(), np.asarray(pred), np.asarray(targets))"
      ],
      "execution_count": 23,
      "outputs": []
    },
    {
      "cell_type": "markdown",
      "metadata": {
        "id": "7hh9xuamFI3T"
      },
      "source": [
        ""
      ]
    },
    {
      "cell_type": "code",
      "metadata": {
        "id": "0dVJgEHiFI3T"
      },
      "source": [
        "class LSTM(torch.nn.Module):\n",
        "    def __init__(self, i, h, o, n_samples, is_bn=False):\n",
        "        super(LSTM, self).__init__()\n",
        "        self._lstm_cell = torch.nn.LSTMCell(i, h)\n",
        "        self._fc = torch.nn.Linear(h, o)\n",
        "        self._hidden = h\n",
        "        self._n_samples = n_samples\n",
        "        self._is_bn = is_bn\n",
        "        if self._is_bn:\n",
        "            self._bn = torch.nn.BatchNorm1d(h)\n",
        "        \n",
        "    def forward(self, x):\n",
        "        seq_data = x.chunk(self._n_samples, dim=1)\n",
        "        h_t = torch.autograd.Variable(torch.zeros(x.size(0), self._hidden).cuda())\n",
        "        c_t = torch.autograd.Variable(torch.zeros(x.size(0), self._hidden).cuda())\n",
        "        for data in seq_data:\n",
        "            h_t, c_t = self._lstm_cell(data, (h_t, c_t))\n",
        "        if self._is_bn:\n",
        "            h_t = self._bn(h_t)\n",
        "        fc = self._fc(h_t)\n",
        "        return fc"
      ],
      "execution_count": 24,
      "outputs": []
    },
    {
      "cell_type": "markdown",
      "metadata": {
        "id": "7g4jyDX6FI3T"
      },
      "source": [
        "## F12 : Long/Short Term Memory \n",
        "\n",
        "---\n",
        "\n"
      ]
    },
    {
      "cell_type": "code",
      "metadata": {
        "id": "4Q2lwR8mFI3T"
      },
      "source": [
        "def LSTM_TE(n_samples, n_hidden, target, train_data, train_labels, test_data, test_labels):\n",
        "    train_dataset = tchdata.TensorDataset(torch.from_numpy(train_data), torch.from_numpy(train_labels))\n",
        "    test_dataset = tchdata.TensorDataset(torch.from_numpy(test_data), torch.from_numpy(test_labels))\n",
        "\n",
        "    train_loader = tchdata.DataLoader(train_dataset, batch_size=32, shuffle=True)\n",
        "    test_loader = tchdata.DataLoader(test_dataset, batch_size=32, shuffle=False)\n",
        "    model = LSTM(52, n_hidden, len(target), n_samples, False)\n",
        "    model.cuda()\n",
        "    torch.backends.cudnn.benchmark = True\n",
        "    optimizer = torch.optim.Adam(model.parameters(), lr=0.01, weight_decay=0.005)\n",
        "\n",
        "    train_acc_LSTM=[]\n",
        "    test_acc_LSTM=[]\n",
        "    pred = []\n",
        "    targets = []\n",
        "\n",
        "    for i in range(60):\n",
        "        train_acc = train(model, optimizer, train_loader)\n",
        "        test_acc, pred, targets = validate(model, test_loader)\n",
        "        train_acc_LSTM.append(train_acc)\n",
        "        test_acc_LSTM.append(test_acc)\n",
        "        print('{}\\tepoch = {}\\ttrain accuracy: {:0.3f}\\ttest accuracy: {:0.3f}' \\\n",
        "            .format(datetime.now(), i, train_acc, test_acc))\n",
        "     \n",
        "    return (train_acc_LSTM, test_acc_LSTM, targets, pred)"
      ],
      "execution_count": 25,
      "outputs": []
    },
    {
      "cell_type": "markdown",
      "metadata": {
        "id": "gM9K72N3FI3V"
      },
      "source": [
        "# Fault Set\n"
      ]
    },
    {
      "cell_type": "code",
      "metadata": {
        "id": "9nSVlD_oFI3V"
      },
      "source": [
        "n_samples = 3      \n",
        "n_hidden = 30\n",
        "n_components=30\n",
        "target1 = [1, 2, 3, 4]"
      ],
      "execution_count": 26,
      "outputs": []
    },
    {
      "cell_type": "code",
      "metadata": {
        "id": "IxKpEnp9FI3V",
        "colab": {
          "base_uri": "https://localhost:8080/",
          "height": 380
        },
        "outputId": "32f9d7d1-e565-452d-df9a-f4e71b728b5e"
      },
      "source": [
        "train_data1, train_labels1 = gen_seq_data(target1, n_samples, is_train=True)\n",
        "test_data1, test_labels1 = gen_seq_data(target1, n_samples, is_train=False)\n",
        "\n",
        "scaler1 = preprocessing.StandardScaler().fit(train_data1)\n",
        "train_data1 = scaler1.transform(train_data1)\n",
        "test_data1 = scaler1.transform(test_data1)"
      ],
      "execution_count": 27,
      "outputs": [
        {
          "output_type": "error",
          "ename": "NameError",
          "evalue": "ignored",
          "traceback": [
            "\u001b[0;31m---------------------------------------------------------------------------\u001b[0m",
            "\u001b[0;31mNameError\u001b[0m                                 Traceback (most recent call last)",
            "\u001b[0;32m<ipython-input-27-2b9bfbd9cb90>\u001b[0m in \u001b[0;36m<module>\u001b[0;34m()\u001b[0m\n\u001b[0;32m----> 1\u001b[0;31m \u001b[0mtrain_data1\u001b[0m\u001b[0;34m,\u001b[0m \u001b[0mtrain_labels1\u001b[0m \u001b[0;34m=\u001b[0m \u001b[0mgen_seq_data\u001b[0m\u001b[0;34m(\u001b[0m\u001b[0mtarget1\u001b[0m\u001b[0;34m,\u001b[0m \u001b[0mn_samples\u001b[0m\u001b[0;34m,\u001b[0m \u001b[0mis_train\u001b[0m\u001b[0;34m=\u001b[0m\u001b[0;32mTrue\u001b[0m\u001b[0;34m)\u001b[0m\u001b[0;34m\u001b[0m\u001b[0;34m\u001b[0m\u001b[0m\n\u001b[0m\u001b[1;32m      2\u001b[0m \u001b[0mtest_data1\u001b[0m\u001b[0;34m,\u001b[0m \u001b[0mtest_labels1\u001b[0m \u001b[0;34m=\u001b[0m \u001b[0mgen_seq_data\u001b[0m\u001b[0;34m(\u001b[0m\u001b[0mtarget1\u001b[0m\u001b[0;34m,\u001b[0m \u001b[0mn_samples\u001b[0m\u001b[0;34m,\u001b[0m \u001b[0mis_train\u001b[0m\u001b[0;34m=\u001b[0m\u001b[0;32mFalse\u001b[0m\u001b[0;34m)\u001b[0m\u001b[0;34m\u001b[0m\u001b[0;34m\u001b[0m\u001b[0m\n\u001b[1;32m      3\u001b[0m \u001b[0;34m\u001b[0m\u001b[0m\n\u001b[1;32m      4\u001b[0m \u001b[0mscaler1\u001b[0m \u001b[0;34m=\u001b[0m \u001b[0mpreprocessing\u001b[0m\u001b[0;34m.\u001b[0m\u001b[0mStandardScaler\u001b[0m\u001b[0;34m(\u001b[0m\u001b[0;34m)\u001b[0m\u001b[0;34m.\u001b[0m\u001b[0mfit\u001b[0m\u001b[0;34m(\u001b[0m\u001b[0mtrain_data1\u001b[0m\u001b[0;34m)\u001b[0m\u001b[0;34m\u001b[0m\u001b[0;34m\u001b[0m\u001b[0m\n\u001b[1;32m      5\u001b[0m \u001b[0mtrain_data1\u001b[0m \u001b[0;34m=\u001b[0m \u001b[0mscaler1\u001b[0m\u001b[0;34m.\u001b[0m\u001b[0mtransform\u001b[0m\u001b[0;34m(\u001b[0m\u001b[0mtrain_data1\u001b[0m\u001b[0;34m)\u001b[0m\u001b[0;34m\u001b[0m\u001b[0;34m\u001b[0m\u001b[0m\n",
            "\u001b[0;32m<ipython-input-21-b2e18bf06f58>\u001b[0m in \u001b[0;36mgen_seq_data\u001b[0;34m(target, n_samples, is_train)\u001b[0m\n\u001b[1;32m      2\u001b[0m     \u001b[0mseq_data\u001b[0m\u001b[0;34m,\u001b[0m \u001b[0mseq_labels\u001b[0m \u001b[0;34m=\u001b[0m \u001b[0;34m[\u001b[0m\u001b[0;34m]\u001b[0m\u001b[0;34m,\u001b[0m \u001b[0;34m[\u001b[0m\u001b[0;34m]\u001b[0m\u001b[0;34m\u001b[0m\u001b[0;34m\u001b[0m\u001b[0m\n\u001b[1;32m      3\u001b[0m     \u001b[0;32mfor\u001b[0m \u001b[0mi\u001b[0m\u001b[0;34m,\u001b[0m \u001b[0mt\u001b[0m \u001b[0;32min\u001b[0m \u001b[0menumerate\u001b[0m\u001b[0;34m(\u001b[0m\u001b[0mtarget\u001b[0m\u001b[0;34m)\u001b[0m\u001b[0;34m:\u001b[0m\u001b[0;34m\u001b[0m\u001b[0;34m\u001b[0m\u001b[0m\n\u001b[0;32m----> 4\u001b[0;31m         \u001b[0md\u001b[0m\u001b[0;34m,\u001b[0m \u001b[0m_\u001b[0m \u001b[0;34m=\u001b[0m \u001b[0mread_data\u001b[0m\u001b[0;34m(\u001b[0m\u001b[0mt\u001b[0m\u001b[0;34m,\u001b[0m \u001b[0mis_train\u001b[0m\u001b[0;34m)\u001b[0m\u001b[0;34m\u001b[0m\u001b[0;34m\u001b[0m\u001b[0m\n\u001b[0m\u001b[1;32m      5\u001b[0m         \u001b[0mdata\u001b[0m \u001b[0;34m=\u001b[0m \u001b[0;34m[\u001b[0m\u001b[0;34m]\u001b[0m\u001b[0;34m\u001b[0m\u001b[0;34m\u001b[0m\u001b[0m\n\u001b[1;32m      6\u001b[0m         \u001b[0mlength\u001b[0m \u001b[0;34m=\u001b[0m \u001b[0md\u001b[0m\u001b[0;34m.\u001b[0m\u001b[0mshape\u001b[0m\u001b[0;34m[\u001b[0m\u001b[0;36m0\u001b[0m\u001b[0;34m]\u001b[0m \u001b[0;34m-\u001b[0m \u001b[0mn_samples\u001b[0m \u001b[0;34m+\u001b[0m \u001b[0;36m1\u001b[0m\u001b[0;34m\u001b[0m\u001b[0;34m\u001b[0m\u001b[0m\n",
            "\u001b[0;32m<ipython-input-19-d4d9272f298f>\u001b[0m in \u001b[0;36mread_data\u001b[0;34m(error, is_train)\u001b[0m\n\u001b[1;32m     12\u001b[0m     \u001b[0;31m#    data = data[160: ]\u001b[0m\u001b[0;34m\u001b[0m\u001b[0;34m\u001b[0m\u001b[0;34m\u001b[0m\u001b[0m\n\u001b[1;32m     13\u001b[0m     \u001b[0;31m#dff = pd.read_excel('../content/drive/MyDrive/DadosPWFTS/DadosFalha.xlsx')\u001b[0m\u001b[0;34m\u001b[0m\u001b[0;34m\u001b[0m\u001b[0;34m\u001b[0m\u001b[0m\n\u001b[0;32m---> 14\u001b[0;31m     \u001b[0mdfn\u001b[0m \u001b[0;34m=\u001b[0m \u001b[0mpd\u001b[0m\u001b[0;34m.\u001b[0m\u001b[0mread_excel\u001b[0m\u001b[0;34m(\u001b[0m\u001b[0;34m'../content/drive/MyDrive/DadosPWFTS/DadosNormais.xlsx'\u001b[0m\u001b[0;34m)\u001b[0m\u001b[0;34m\u001b[0m\u001b[0;34m\u001b[0m\u001b[0m\n\u001b[0m\u001b[1;32m     15\u001b[0m     \u001b[0mdata\u001b[0m \u001b[0;34m=\u001b[0m \u001b[0mdfn\u001b[0m\u001b[0;34m\u001b[0m\u001b[0;34m\u001b[0m\u001b[0m\n\u001b[1;32m     16\u001b[0m     \u001b[0;32mreturn\u001b[0m \u001b[0mdata\u001b[0m\u001b[0;34m,\u001b[0m \u001b[0mnp\u001b[0m\u001b[0;34m.\u001b[0m\u001b[0mones\u001b[0m\u001b[0;34m(\u001b[0m\u001b[0mdata\u001b[0m\u001b[0;34m.\u001b[0m\u001b[0mshape\u001b[0m\u001b[0;34m[\u001b[0m\u001b[0;36m0\u001b[0m\u001b[0;34m]\u001b[0m\u001b[0;34m,\u001b[0m \u001b[0mnp\u001b[0m\u001b[0;34m.\u001b[0m\u001b[0mint64\u001b[0m\u001b[0;34m)\u001b[0m \u001b[0;34m*\u001b[0m \u001b[0merror\u001b[0m\u001b[0;34m\u001b[0m\u001b[0;34m\u001b[0m\u001b[0m\n",
            "\u001b[0;31mNameError\u001b[0m: name 'pd' is not defined"
          ]
        }
      ]
    },
    {
      "cell_type": "code",
      "metadata": {
        "scrolled": true,
        "id": "OjyfIcuPFI3X",
        "outputId": "de80eb30-e2aa-416e-ed25-2ea90ae1e86b",
        "colab": {
          "base_uri": "https://localhost:8080/"
        }
      },
      "source": [
        "lstm1 = LSTM_TE(n_samples, n_hidden, target1, train_data1, train_labels1, test_data1, test_labels1)"
      ],
      "execution_count": null,
      "outputs": [
        {
          "output_type": "stream",
          "name": "stderr",
          "text": [
            "/usr/local/lib/python3.7/dist-packages/ipykernel_launcher.py:9: UserWarning: Implicit dimension choice for log_softmax has been deprecated. Change the call to include dim=X as an argument.\n",
            "  if __name__ == '__main__':\n"
          ]
        },
        {
          "output_type": "stream",
          "name": "stdout",
          "text": [
            "2022-04-11 01:01:43.136946\tepoch = 0\ttrain accuracy: 0.921\ttest accuracy: 0.972\n",
            "2022-04-11 01:01:43.682618\tepoch = 1\ttrain accuracy: 0.986\ttest accuracy: 0.951\n",
            "2022-04-11 01:01:44.153903\tepoch = 2\ttrain accuracy: 0.986\ttest accuracy: 0.973\n",
            "2022-04-11 01:01:44.638964\tepoch = 3\ttrain accuracy: 0.986\ttest accuracy: 0.969\n",
            "2022-04-11 01:01:45.117006\tepoch = 4\ttrain accuracy: 0.985\ttest accuracy: 0.960\n",
            "2022-04-11 01:01:45.599451\tepoch = 5\ttrain accuracy: 0.989\ttest accuracy: 0.968\n",
            "2022-04-11 01:01:46.078451\tepoch = 6\ttrain accuracy: 0.989\ttest accuracy: 0.958\n",
            "2022-04-11 01:01:46.560246\tepoch = 7\ttrain accuracy: 0.984\ttest accuracy: 0.970\n",
            "2022-04-11 01:01:47.032192\tepoch = 8\ttrain accuracy: 0.988\ttest accuracy: 0.966\n",
            "2022-04-11 01:01:47.524708\tepoch = 9\ttrain accuracy: 0.989\ttest accuracy: 0.969\n",
            "2022-04-11 01:01:48.012505\tepoch = 10\ttrain accuracy: 0.988\ttest accuracy: 0.952\n",
            "2022-04-11 01:01:48.508900\tepoch = 11\ttrain accuracy: 0.988\ttest accuracy: 0.970\n",
            "2022-04-11 01:01:48.991974\tepoch = 12\ttrain accuracy: 0.989\ttest accuracy: 0.974\n",
            "2022-04-11 01:01:49.476058\tepoch = 13\ttrain accuracy: 0.987\ttest accuracy: 0.968\n",
            "2022-04-11 01:01:49.969965\tepoch = 14\ttrain accuracy: 0.987\ttest accuracy: 0.975\n",
            "2022-04-11 01:01:50.450369\tepoch = 15\ttrain accuracy: 0.990\ttest accuracy: 0.971\n",
            "2022-04-11 01:01:50.945339\tepoch = 16\ttrain accuracy: 0.989\ttest accuracy: 0.966\n",
            "2022-04-11 01:01:51.422748\tepoch = 17\ttrain accuracy: 0.988\ttest accuracy: 0.961\n",
            "2022-04-11 01:01:51.912311\tepoch = 18\ttrain accuracy: 0.990\ttest accuracy: 0.968\n",
            "2022-04-11 01:01:52.386734\tepoch = 19\ttrain accuracy: 0.987\ttest accuracy: 0.973\n",
            "2022-04-11 01:01:52.884056\tepoch = 20\ttrain accuracy: 0.991\ttest accuracy: 0.972\n",
            "2022-04-11 01:01:53.367255\tepoch = 21\ttrain accuracy: 0.989\ttest accuracy: 0.944\n",
            "2022-04-11 01:01:53.878164\tepoch = 22\ttrain accuracy: 0.987\ttest accuracy: 0.967\n",
            "2022-04-11 01:01:54.381237\tepoch = 23\ttrain accuracy: 0.989\ttest accuracy: 0.972\n",
            "2022-04-11 01:01:54.906793\tepoch = 24\ttrain accuracy: 0.986\ttest accuracy: 0.969\n",
            "2022-04-11 01:01:55.421936\tepoch = 25\ttrain accuracy: 0.990\ttest accuracy: 0.970\n",
            "2022-04-11 01:01:55.924380\tepoch = 26\ttrain accuracy: 0.987\ttest accuracy: 0.970\n",
            "2022-04-11 01:01:56.418520\tepoch = 27\ttrain accuracy: 0.988\ttest accuracy: 0.969\n",
            "2022-04-11 01:01:56.918251\tepoch = 28\ttrain accuracy: 0.985\ttest accuracy: 0.929\n",
            "2022-04-11 01:01:57.405608\tepoch = 29\ttrain accuracy: 0.987\ttest accuracy: 0.964\n",
            "2022-04-11 01:01:57.901905\tepoch = 30\ttrain accuracy: 0.990\ttest accuracy: 0.967\n",
            "2022-04-11 01:01:58.388353\tepoch = 31\ttrain accuracy: 0.986\ttest accuracy: 0.958\n",
            "2022-04-11 01:01:58.879987\tepoch = 32\ttrain accuracy: 0.991\ttest accuracy: 0.976\n",
            "2022-04-11 01:01:59.352545\tepoch = 33\ttrain accuracy: 0.988\ttest accuracy: 0.973\n",
            "2022-04-11 01:01:59.855616\tepoch = 34\ttrain accuracy: 0.991\ttest accuracy: 0.970\n",
            "2022-04-11 01:02:00.343958\tepoch = 35\ttrain accuracy: 0.989\ttest accuracy: 0.942\n",
            "2022-04-11 01:02:00.855354\tepoch = 36\ttrain accuracy: 0.988\ttest accuracy: 0.972\n",
            "2022-04-11 01:02:01.348033\tepoch = 37\ttrain accuracy: 0.989\ttest accuracy: 0.971\n",
            "2022-04-11 01:02:01.856941\tepoch = 38\ttrain accuracy: 0.990\ttest accuracy: 0.977\n",
            "2022-04-11 01:02:02.350224\tepoch = 39\ttrain accuracy: 0.989\ttest accuracy: 0.966\n",
            "2022-04-11 01:02:02.854021\tepoch = 40\ttrain accuracy: 0.989\ttest accuracy: 0.964\n",
            "2022-04-11 01:02:03.356105\tepoch = 41\ttrain accuracy: 0.990\ttest accuracy: 0.967\n",
            "2022-04-11 01:02:03.871152\tepoch = 42\ttrain accuracy: 0.989\ttest accuracy: 0.972\n",
            "2022-04-11 01:02:04.370473\tepoch = 43\ttrain accuracy: 0.990\ttest accuracy: 0.956\n",
            "2022-04-11 01:02:04.873155\tepoch = 44\ttrain accuracy: 0.984\ttest accuracy: 0.970\n",
            "2022-04-11 01:02:05.350748\tepoch = 45\ttrain accuracy: 0.989\ttest accuracy: 0.967\n",
            "2022-04-11 01:02:05.853776\tepoch = 46\ttrain accuracy: 0.989\ttest accuracy: 0.968\n",
            "2022-04-11 01:02:06.349600\tepoch = 47\ttrain accuracy: 0.987\ttest accuracy: 0.968\n",
            "2022-04-11 01:02:06.843810\tepoch = 48\ttrain accuracy: 0.989\ttest accuracy: 0.967\n",
            "2022-04-11 01:02:07.322468\tepoch = 49\ttrain accuracy: 0.988\ttest accuracy: 0.976\n",
            "2022-04-11 01:02:07.818884\tepoch = 50\ttrain accuracy: 0.989\ttest accuracy: 0.969\n",
            "2022-04-11 01:02:08.329670\tepoch = 51\ttrain accuracy: 0.989\ttest accuracy: 0.973\n",
            "2022-04-11 01:02:08.846487\tepoch = 52\ttrain accuracy: 0.991\ttest accuracy: 0.972\n",
            "2022-04-11 01:02:09.367628\tepoch = 53\ttrain accuracy: 0.990\ttest accuracy: 0.958\n",
            "2022-04-11 01:02:09.853565\tepoch = 54\ttrain accuracy: 0.985\ttest accuracy: 0.972\n",
            "2022-04-11 01:02:10.351079\tepoch = 55\ttrain accuracy: 0.990\ttest accuracy: 0.963\n",
            "2022-04-11 01:02:10.841429\tepoch = 56\ttrain accuracy: 0.984\ttest accuracy: 0.977\n",
            "2022-04-11 01:02:11.355795\tepoch = 57\ttrain accuracy: 0.990\ttest accuracy: 0.962\n",
            "2022-04-11 01:02:11.846370\tepoch = 58\ttrain accuracy: 0.988\ttest accuracy: 0.972\n",
            "2022-04-11 01:02:12.353516\tepoch = 59\ttrain accuracy: 0.990\ttest accuracy: 0.974\n"
          ]
        }
      ]
    },
    {
      "cell_type": "code",
      "metadata": {
        "id": "Hmw2DFgHFI3Y",
        "outputId": "800ee9fc-5e5c-4be3-dd22-f0714750efed",
        "colab": {
          "base_uri": "https://localhost:8080/",
          "height": 653
        }
      },
      "source": [
        "train_acc1, test_acc1, targets1, pred1 = lstm1\n",
        "print(\"Média de treino: \",np.mean(train_acc1))\n",
        "print(\"Média de teste: \",np.mean(test_acc1))\n",
        "print(\"Desvio padrão de treino: \",np.std(train_acc1))\n",
        "print(\"Desvio padrão de teste: \",np.std(test_acc1))\n",
        "plots((train_acc1, 'train accuracy'), 'accuracy', 'Accuracy Comparison for LSTM',  num_iterations=60, x_label='iterations',second=(test_acc1, 'test accuracy'), third=None, show_min=True)\n",
        "confusion_table1(targets1, pred1, 'Confusion table for LSTM')"
      ],
      "execution_count": null,
      "outputs": [
        {
          "output_type": "stream",
          "name": "stdout",
          "text": [
            "Média de treino:  0.9872431077694237\n",
            "Média de teste:  0.9666178521617851\n",
            "Desvio padrão de treino:  0.008846289433720948\n",
            "Desvio padrão de teste:  0.008708925244425384\n"
          ]
        },
        {
          "output_type": "display_data",
          "data": {
            "text/plain": [
              "<Figure size 432x288 with 1 Axes>"
            ],
            "image/png": "[encoded data removed]"
          },
          "metadata": {
            "needs_background": "light"
          }
        },
        {
          "output_type": "display_data",
          "data": {
            "text/plain": [
              "<Figure size 432x288 with 1 Axes>"
            ],
            "image/png": "[encoded data removed]"
          },
          "metadata": {
            "needs_background": "light"
          }
        }
      ]
    }
  ]
}