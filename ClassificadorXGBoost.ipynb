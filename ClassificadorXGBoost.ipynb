{
  "nbformat": 4,
  "nbformat_minor": 0,
  "metadata": {
    "colab": {
      "name": "ClassificadorXGBoost.ipynb",
      "provenance": [],
      "collapsed_sections": [],
      "machine_shape": "hm",
      "mount_file_id": "https://github.com/gabrielvinicios02/ExperimentsMultivariate/blob/f-DuasBases/ClassificadorXGBoost.ipynb",
      "authorship_tag": "ABX9TyPrElziATiYzcrQwD1+Cq73",
      "include_colab_link": true
    },
    "kernelspec": {
      "name": "python3",
      "display_name": "Python 3"
    },
    "language_info": {
      "name": "python"
    },
    "accelerator": "GPU",
    "gpuClass": "standard"
  },
  "cells": [
    {
      "cell_type": "markdown",
      "metadata": {
        "id": "view-in-github",
        "colab_type": "text"
      },
      "source": [
        "<a href=\"https://colab.research.google.com/github/gabrielvinicios02/ExperimentsMultivariate/blob/f-TEP/ClassificadorXGBoost.ipynb\" target=\"_parent\"><img src=\"https://colab.research.google.com/assets/colab-badge.svg\" alt=\"Open In Colab\"/></a>"
      ]
    },
    {
      "cell_type": "markdown",
      "metadata": {
        "id": "FJ3W9LiliPPY"
      },
      "source": [
        "# Séries Temporais\n",
        "\n",
        "\n",
        "<center>\n",
        "<table><tr><td> <a href=\"http://www.minds.eng.ufmg.br/\"><img src=\"https://github.com/petroniocandido/pyFTS/raw/master/img/minds_logo_medium.jpeg\" alt=\"MINDS - Machine Intelligence and Data Science Lab\" width=\"100\"/></a></td> \n",
        "  <td>&nbsp;&nbsp;&nbsp;&nbsp;&nbsp;&nbsp;&nbsp;&nbsp;&nbsp;</td>\n",
        "<td><a href=\"https://pyfts.github.io/pyFTS/\"><img src=\"https://github.com/petroniocandido/pyFTS/raw/master/img/logo_medium.png\" alt=\"pyFTS - Fuzzy Time Series for Python\" width=\"100\"/></a></td>\n",
        "</tr>\n",
        "</table>\n",
        "</center>"
      ]
    },
    {
      "cell_type": "code",
      "source": [
        "!pip3 install -U git+https://github.com/PYFTS/pyFTS\n",
        "#!pip3 install -U pyFTS\n",
        "!pip3 install SimpSOM\n",
        "!pip install dispy\n",
        "#!pip install matplotlib==3.1.3\n",
        "!pip install matplotlib==3.1.1"
      ],
      "metadata": {
        "colab": {
          "base_uri": "https://localhost:8080/",
          "height": 1000
        },
        "id": "nWMbE2RO8Ga1",
        "outputId": "17e8f9cb-201a-4fe3-f258-6b5c09194f09"
      },
      "execution_count": 2,
      "outputs": [
        {
          "output_type": "stream",
          "name": "stdout",
          "text": [
            "Looking in indexes: https://pypi.org/simple, https://us-python.pkg.dev/colab-wheels/public/simple/\n",
            "Collecting git+https://github.com/PYFTS/pyFTS\n",
            "  Cloning https://github.com/PYFTS/pyFTS to /tmp/pip-req-build-3q8sikj7\n",
            "  Running command git clone -q https://github.com/PYFTS/pyFTS /tmp/pip-req-build-3q8sikj7\n",
            "Requirement already satisfied: matplotlib in /usr/local/lib/python3.7/dist-packages (from pyFTS==1.6) (3.1.1)\n",
            "Requirement already satisfied: numpy in /usr/local/lib/python3.7/dist-packages (from pyFTS==1.6) (1.21.6)\n",
            "Requirement already satisfied: pandas in /usr/local/lib/python3.7/dist-packages (from pyFTS==1.6) (1.3.5)\n",
            "Requirement already satisfied: cycler>=0.10 in /usr/local/lib/python3.7/dist-packages (from matplotlib->pyFTS==1.6) (0.11.0)\n",
            "Requirement already satisfied: kiwisolver>=1.0.1 in /usr/local/lib/python3.7/dist-packages (from matplotlib->pyFTS==1.6) (1.4.3)\n",
            "Requirement already satisfied: pyparsing!=2.0.4,!=2.1.2,!=2.1.6,>=2.0.1 in /usr/local/lib/python3.7/dist-packages (from matplotlib->pyFTS==1.6) (3.0.9)\n",
            "Requirement already satisfied: python-dateutil>=2.1 in /usr/local/lib/python3.7/dist-packages (from matplotlib->pyFTS==1.6) (2.8.2)\n",
            "Requirement already satisfied: typing-extensions in /usr/local/lib/python3.7/dist-packages (from kiwisolver>=1.0.1->matplotlib->pyFTS==1.6) (4.1.1)\n",
            "Requirement already satisfied: six>=1.5 in /usr/local/lib/python3.7/dist-packages (from python-dateutil>=2.1->matplotlib->pyFTS==1.6) (1.15.0)\n",
            "Requirement already satisfied: pytz>=2017.3 in /usr/local/lib/python3.7/dist-packages (from pandas->pyFTS==1.6) (2022.1)\n",
            "Looking in indexes: https://pypi.org/simple, https://us-python.pkg.dev/colab-wheels/public/simple/\n",
            "Requirement already satisfied: SimpSOM in /usr/local/lib/python3.7/dist-packages (2.0.1)\n",
            "Requirement already satisfied: numpy>=1.19.5 in /usr/local/lib/python3.7/dist-packages (from SimpSOM) (1.21.6)\n",
            "Requirement already satisfied: scikit-learn>=0.22.2.post1 in /usr/local/lib/python3.7/dist-packages (from SimpSOM) (1.0.2)\n",
            "Collecting matplotlib>=3.3.3\n",
            "  Using cached matplotlib-3.5.2-cp37-cp37m-manylinux_2_5_x86_64.manylinux1_x86_64.whl (11.2 MB)\n",
            "Requirement already satisfied: packaging>=20.0 in /usr/local/lib/python3.7/dist-packages (from matplotlib>=3.3.3->SimpSOM) (21.3)\n",
            "Requirement already satisfied: pillow>=6.2.0 in /usr/local/lib/python3.7/dist-packages (from matplotlib>=3.3.3->SimpSOM) (7.1.2)\n",
            "Requirement already satisfied: cycler>=0.10 in /usr/local/lib/python3.7/dist-packages (from matplotlib>=3.3.3->SimpSOM) (0.11.0)\n",
            "Requirement already satisfied: kiwisolver>=1.0.1 in /usr/local/lib/python3.7/dist-packages (from matplotlib>=3.3.3->SimpSOM) (1.4.3)\n",
            "Requirement already satisfied: pyparsing>=2.2.1 in /usr/local/lib/python3.7/dist-packages (from matplotlib>=3.3.3->SimpSOM) (3.0.9)\n",
            "Requirement already satisfied: python-dateutil>=2.7 in /usr/local/lib/python3.7/dist-packages (from matplotlib>=3.3.3->SimpSOM) (2.8.2)\n",
            "Requirement already satisfied: fonttools>=4.22.0 in /usr/local/lib/python3.7/dist-packages (from matplotlib>=3.3.3->SimpSOM) (4.34.4)\n",
            "Requirement already satisfied: typing-extensions in /usr/local/lib/python3.7/dist-packages (from kiwisolver>=1.0.1->matplotlib>=3.3.3->SimpSOM) (4.1.1)\n",
            "Requirement already satisfied: six>=1.5 in /usr/local/lib/python3.7/dist-packages (from python-dateutil>=2.7->matplotlib>=3.3.3->SimpSOM) (1.15.0)\n",
            "Requirement already satisfied: scipy>=1.1.0 in /usr/local/lib/python3.7/dist-packages (from scikit-learn>=0.22.2.post1->SimpSOM) (1.4.1)\n",
            "Requirement already satisfied: joblib>=0.11 in /usr/local/lib/python3.7/dist-packages (from scikit-learn>=0.22.2.post1->SimpSOM) (1.1.0)\n",
            "Requirement already satisfied: threadpoolctl>=2.0.0 in /usr/local/lib/python3.7/dist-packages (from scikit-learn>=0.22.2.post1->SimpSOM) (3.1.0)\n",
            "Installing collected packages: matplotlib\n",
            "  Attempting uninstall: matplotlib\n",
            "    Found existing installation: matplotlib 3.1.1\n",
            "    Uninstalling matplotlib-3.1.1:\n",
            "      Successfully uninstalled matplotlib-3.1.1\n",
            "\u001b[31mERROR: pip's dependency resolver does not currently take into account all the packages that are installed. This behaviour is the source of the following dependency conflicts.\n",
            "albumentations 0.1.12 requires imgaug<0.2.7,>=0.2.5, but you have imgaug 0.2.9 which is incompatible.\u001b[0m\n",
            "Successfully installed matplotlib-3.5.2\n"
          ]
        },
        {
          "output_type": "display_data",
          "data": {
            "application/vnd.colab-display-data+json": {
              "pip_warning": {
                "packages": [
                  "matplotlib",
                  "mpl_toolkits"
                ]
              }
            }
          },
          "metadata": {}
        },
        {
          "output_type": "stream",
          "name": "stdout",
          "text": [
            "Looking in indexes: https://pypi.org/simple, https://us-python.pkg.dev/colab-wheels/public/simple/\n",
            "Requirement already satisfied: dispy in /usr/local/lib/python3.7/dist-packages (4.15.1)\n",
            "Requirement already satisfied: pycos>=4.12.1 in /usr/local/lib/python3.7/dist-packages (from dispy) (4.12.1)\n",
            "Looking in indexes: https://pypi.org/simple, https://us-python.pkg.dev/colab-wheels/public/simple/\n",
            "Collecting matplotlib==3.1.1\n",
            "  Using cached matplotlib-3.1.1-cp37-cp37m-manylinux1_x86_64.whl (13.1 MB)\n",
            "Requirement already satisfied: python-dateutil>=2.1 in /usr/local/lib/python3.7/dist-packages (from matplotlib==3.1.1) (2.8.2)\n",
            "Requirement already satisfied: cycler>=0.10 in /usr/local/lib/python3.7/dist-packages (from matplotlib==3.1.1) (0.11.0)\n",
            "Requirement already satisfied: pyparsing!=2.0.4,!=2.1.2,!=2.1.6,>=2.0.1 in /usr/local/lib/python3.7/dist-packages (from matplotlib==3.1.1) (3.0.9)\n",
            "Requirement already satisfied: kiwisolver>=1.0.1 in /usr/local/lib/python3.7/dist-packages (from matplotlib==3.1.1) (1.4.3)\n",
            "Requirement already satisfied: numpy>=1.11 in /usr/local/lib/python3.7/dist-packages (from matplotlib==3.1.1) (1.21.6)\n",
            "Requirement already satisfied: typing-extensions in /usr/local/lib/python3.7/dist-packages (from kiwisolver>=1.0.1->matplotlib==3.1.1) (4.1.1)\n",
            "Requirement already satisfied: six>=1.5 in /usr/local/lib/python3.7/dist-packages (from python-dateutil>=2.1->matplotlib==3.1.1) (1.15.0)\n",
            "Installing collected packages: matplotlib\n",
            "  Attempting uninstall: matplotlib\n",
            "    Found existing installation: matplotlib 3.5.2\n",
            "    Uninstalling matplotlib-3.5.2:\n",
            "      Successfully uninstalled matplotlib-3.5.2\n",
            "\u001b[31mERROR: pip's dependency resolver does not currently take into account all the packages that are installed. This behaviour is the source of the following dependency conflicts.\n",
            "simpsom 2.0.1 requires matplotlib>=3.3.3, but you have matplotlib 3.1.1 which is incompatible.\n",
            "albumentations 0.1.12 requires imgaug<0.2.7,>=0.2.5, but you have imgaug 0.2.9 which is incompatible.\u001b[0m\n",
            "Successfully installed matplotlib-3.1.1\n"
          ]
        },
        {
          "output_type": "display_data",
          "data": {
            "application/vnd.colab-display-data+json": {
              "pip_warning": {
                "packages": [
                  "matplotlib",
                  "mpl_toolkits"
                ]
              }
            }
          },
          "metadata": {}
        }
      ]
    },
    {
      "cell_type": "markdown",
      "source": [
        "Dados TEP"
      ],
      "metadata": {
        "id": "ZzEvyeeC2xrE"
      }
    },
    {
      "cell_type": "code",
      "source": [
        "from google.colab import drive\n",
        "drive.mount('/content/drive')"
      ],
      "metadata": {
        "colab": {
          "base_uri": "https://localhost:8080/"
        },
        "id": "XgG7WBLQ3iuB",
        "outputId": "a5527e79-a563-48e1-f4c0-f9cc531bf2e4"
      },
      "execution_count": 3,
      "outputs": [
        {
          "output_type": "stream",
          "name": "stdout",
          "text": [
            "Drive already mounted at /content/drive; to attempt to forcibly remount, call drive.mount(\"/content/drive\", force_remount=True).\n"
          ]
        }
      ]
    },
    {
      "cell_type": "code",
      "source": [
        "#importing all the necessary libraries \n",
        "!pip install pyreadr\n",
        "import pandas as pd\n",
        "import seaborn as sns\n",
        "import numpy as np\n",
        "import pyreadr as py # library to read .Rdata files in python\n",
        "import sqlite3\n",
        "import os\n",
        "import matplotlib.pyplot as plt\n",
        "from sklearn.metrics import multilabel_confusion_matrix,confusion_matrix,classification_report\n",
        "import matplotlib.pyplot as plt\n",
        "from sklearn.preprocessing import StandardScaler,Normalizer\n",
        "from sklearn.feature_extraction.text import TfidfVectorizer,CountVectorizer\n",
        "from sklearn.model_selection import train_test_split\n",
        "from keras.preprocessing.text import Tokenizer,one_hot\n",
        "from keras.preprocessing.sequence import pad_sequences\n",
        "from keras.layers import LSTM, BatchNormalization,concatenate,Flatten,Embedding,Dense,Dropout,MaxPooling2D,Reshape,BatchNormalization\n",
        "from keras.models import Sequential\n",
        "from keras import Model,Input\n",
        "from keras.layers.convolutional import Conv2D,Conv1D\n",
        "import keras.backend as k\n",
        "from sklearn.metrics import roc_auc_score,f1_score\n",
        "import tensorflow as tf\n",
        "from keras.callbacks import Callback, EarlyStopping\n",
        "from time import time\n",
        "from scipy.sparse import hstack\n",
        "from tensorflow.python.keras.callbacks import TensorBoard\n",
        "import pickle\n",
        "import datetime\n",
        "from tensorflow.keras.utils import to_categorical\n",
        "import missingno as msno\n",
        "import warnings\n",
        "warnings.filterwarnings(\"ignore\")"
      ],
      "metadata": {
        "colab": {
          "base_uri": "https://localhost:8080/"
        },
        "id": "BoPhUf292xUD",
        "outputId": "cf798fc2-501c-42fe-c1e6-5cfa20dff19d"
      },
      "execution_count": 4,
      "outputs": [
        {
          "output_type": "stream",
          "name": "stdout",
          "text": [
            "Looking in indexes: https://pypi.org/simple, https://us-python.pkg.dev/colab-wheels/public/simple/\n",
            "Requirement already satisfied: pyreadr in /usr/local/lib/python3.7/dist-packages (0.4.6)\n",
            "Requirement already satisfied: pandas>=1.2.0 in /usr/local/lib/python3.7/dist-packages (from pyreadr) (1.3.5)\n",
            "Requirement already satisfied: pytz>=2017.3 in /usr/local/lib/python3.7/dist-packages (from pandas>=1.2.0->pyreadr) (2022.1)\n",
            "Requirement already satisfied: python-dateutil>=2.7.3 in /usr/local/lib/python3.7/dist-packages (from pandas>=1.2.0->pyreadr) (2.8.2)\n",
            "Requirement already satisfied: numpy>=1.17.3 in /usr/local/lib/python3.7/dist-packages (from pandas>=1.2.0->pyreadr) (1.21.6)\n",
            "Requirement already satisfied: six>=1.5 in /usr/local/lib/python3.7/dist-packages (from python-dateutil>=2.7.3->pandas>=1.2.0->pyreadr) (1.15.0)\n"
          ]
        }
      ]
    },
    {
      "cell_type": "code",
      "source": [
        "#reading train data in .R format\n",
        "a1 = py.read_r(\"../content/drive/MyDrive/DadosPWFTS/TEP_FaultFree_Training.RData\")\n",
        "a2 = py.read_r(\"../content/drive/MyDrive/DadosPWFTS/TEP_Faulty_Training.RData\")\n",
        "\n",
        "#reading test data in .R format\n",
        "\n",
        "a3 = py.read_r(\"../content/drive/MyDrive/DadosPWFTS/TEP_FaultFree_Testing.RData\")\n",
        "a4 = py.read_r(\"../content/drive/MyDrive/DadosPWFTS/TEP_Faulty_Testing (1).RData\")\n",
        "\n",
        "print(\"Objects that are present in a1 :\",a1.keys())\n",
        "print(\"Objects that are present in a2 :\",a2.keys())\n",
        "print(\"Objects that are present in a3 :\",a3.keys())\n",
        "print(\"Objects that are present in a4 :\",a4.keys())"
      ],
      "metadata": {
        "colab": {
          "base_uri": "https://localhost:8080/"
        },
        "id": "cGZxrDfe20Ih",
        "outputId": "8d3e7fd9-251c-4b0b-9c25-87c20649599f"
      },
      "execution_count": 5,
      "outputs": [
        {
          "output_type": "stream",
          "name": "stdout",
          "text": [
            "Objects that are present in a1 : odict_keys(['fault_free_training'])\n",
            "Objects that are present in a2 : odict_keys(['faulty_training'])\n",
            "Objects that are present in a3 : odict_keys(['fault_free_testing'])\n",
            "Objects that are present in a4 : odict_keys(['faulty_testing'])\n"
          ]
        }
      ]
    },
    {
      "cell_type": "code",
      "source": [
        "#REading the .Rdata files in pandas dataframe and saving it in .csv file\n",
        "#reading train data\n",
        "b1 = a1['fault_free_training']\n",
        "b2 = a2['faulty_training']\n",
        "#reading test data\n",
        "b3 = a3['fault_free_testing']\n",
        "b4 = a4['faulty_testing']\n",
        "\n",
        "# concatinating the train and the test dataset\n",
        "frames_tr = [b1,b3]\n",
        "train_ts = pd.concat(frames_tr)\n",
        "frames_ts = [b2,b4]\n",
        "test = pd.concat(frames_ts)"
      ],
      "metadata": {
        "id": "A2Hx0MVB20Ci"
      },
      "execution_count": 6,
      "outputs": []
    },
    {
      "cell_type": "code",
      "source": [
        "print('Shape of the Train dataset:', train_ts.shape)\n",
        "print(\"Shape of the Test dataset:\", test.shape)\n",
        "\n",
        "print(\"Distrubution of faults in train dataset:\")\n",
        "print(train_ts['faultNumber'].value_counts())\n",
        "\n",
        "print(\"Distrubution of faults in train dataset:\")\n",
        "print(test['faultNumber'].value_counts())"
      ],
      "metadata": {
        "colab": {
          "base_uri": "https://localhost:8080/"
        },
        "id": "ekgsTNSz2z38",
        "outputId": "24e29e70-ed43-43b4-e37f-560e1fab9b7c"
      },
      "execution_count": 7,
      "outputs": [
        {
          "output_type": "stream",
          "name": "stdout",
          "text": [
            "Shape of the Train dataset: (730000, 55)\n",
            "Shape of the Test dataset: (14600000, 55)\n",
            "Distrubution of faults in train dataset:\n",
            "0.0    730000\n",
            "Name: faultNumber, dtype: int64\n",
            "Distrubution of faults in train dataset:\n",
            "1     730000\n",
            "2     730000\n",
            "19    730000\n",
            "18    730000\n",
            "17    730000\n",
            "16    730000\n",
            "15    730000\n",
            "14    730000\n",
            "13    730000\n",
            "12    730000\n",
            "11    730000\n",
            "10    730000\n",
            "9     730000\n",
            "8     730000\n",
            "7     730000\n",
            "6     730000\n",
            "5     730000\n",
            "4     730000\n",
            "3     730000\n",
            "20    730000\n",
            "Name: faultNumber, dtype: int64\n"
          ]
        }
      ]
    },
    {
      "cell_type": "code",
      "metadata": {
        "id": "x7X7YJiV3Ucu"
      },
      "source": [
        "import warnings\n",
        "warnings.filterwarnings('ignore')\n",
        "\n",
        "import numpy as np\n",
        "import pandas as pd\n",
        "import matplotlib as plt\n",
        "import matplotlib.pyplot as plt\n",
        "from pyFTS.models import hofts\n",
        "from pyFTS.partitioners import Grid\n",
        "from pyFTS.benchmarks import Measures"
      ],
      "execution_count": 8,
      "outputs": []
    },
    {
      "cell_type": "code",
      "source": [
        "from pyFTS.data import TAIEX, Malaysia, sunspots, artificial\n",
        "from statsmodels.tsa.stattools import acf, pacf\n",
        "\n",
        "datasets = {}\n",
        "\n",
        "dff = pd.read_excel('../content/drive/MyDrive/DadosPWFTS/DadosFalha.xlsx')\n",
        "dfn = pd.read_excel('../content/drive/MyDrive/DadosPWFTS/DadosNormais.xlsx')\n",
        "\n",
        "dados_treino_Falha = dff[0:2300] \n",
        "dados_teste_Falha = dff[1800:2300]\n",
        "\n",
        "dados_treino_Normal = dfn[0:1800] \n",
        "dados_teste_Normal = dfn[1500:1800]"
      ],
      "metadata": {
        "id": "HzuCNrKnL98T"
      },
      "execution_count": 9,
      "outputs": []
    },
    {
      "cell_type": "code",
      "source": [
        "print(dados_treino_Falha)"
      ],
      "metadata": {
        "id": "1hgOGIqqPpeK",
        "outputId": "f508b87c-eb04-439c-fcb2-c72bbd1f495b",
        "colab": {
          "base_uri": "https://localhost:8080/"
        }
      },
      "execution_count": 10,
      "outputs": [
        {
          "output_type": "stream",
          "name": "stdout",
          "text": [
            "                    Data  LIT_2012KS_0251_FilteredSignal  \\\n",
            "0    2021-12-05 08:50:13                       35.298019   \n",
            "1    2021-12-05 08:51:25                       69.698112   \n",
            "2    2021-12-05 08:52:37                       86.492775   \n",
            "3    2021-12-05 08:53:49                       87.605766   \n",
            "4    2021-12-05 08:55:01                       87.592270   \n",
            "...                  ...                             ...   \n",
            "2295 2021-12-09 22:55:01                       39.161282   \n",
            "2296 2021-12-09 22:56:13                       34.402630   \n",
            "2297 2021-12-09 22:57:25                       29.267023   \n",
            "2298 2021-12-09 22:58:37                       24.829168   \n",
            "2299 2021-12-09 22:59:49                       18.879450   \n",
            "\n",
            "      _AL_2012KS_06M1_SpeedActual  WIT_1085KS_2300_BeltLoad  \\\n",
            "0                        0.000000                604.000305   \n",
            "1                        0.000000                594.372681   \n",
            "2                        0.000000                548.985413   \n",
            "3                        0.000000                541.098450   \n",
            "4                        0.862209                599.183777   \n",
            "...                           ...                       ...   \n",
            "2295                    56.614925                801.934204   \n",
            "2296                    56.625069                818.409912   \n",
            "2297                    57.760586                808.574951   \n",
            "2298                    62.614220                785.475891   \n",
            "2299                    55.106403                770.479858   \n",
            "\n",
            "      WIT_1085KS_2300_Rate  status  \n",
            "0             12190.730469     0.0  \n",
            "1             11984.549805     0.0  \n",
            "2             10856.699219     0.0  \n",
            "3             11106.334961     0.0  \n",
            "4             11941.248047     0.0  \n",
            "...                    ...     ...  \n",
            "2295          15929.611328     0.0  \n",
            "2296          15997.693359     0.0  \n",
            "2297          16459.722656     0.0  \n",
            "2298          16399.457031     0.0  \n",
            "2299          15981.281250     0.0  \n",
            "\n",
            "[2300 rows x 6 columns]\n"
          ]
        }
      ]
    },
    {
      "cell_type": "code",
      "source": [
        "print(dados_treino_Normal)"
      ],
      "metadata": {
        "id": "tgN0lJBPqli4",
        "outputId": "250349e4-e853-491b-dbf4-aed25d693eb8",
        "colab": {
          "base_uri": "https://localhost:8080/"
        }
      },
      "execution_count": 12,
      "outputs": [
        {
          "output_type": "stream",
          "name": "stdout",
          "text": [
            "                    Data  LIT_2012KS_0251_FilteredSignal  \\\n",
            "0    2021-12-05 07:20:13                        2.832069   \n",
            "1    2021-12-05 07:21:25                        4.418116   \n",
            "2    2021-12-05 07:22:37                       22.953905   \n",
            "3    2021-12-05 07:23:49                       33.815975   \n",
            "4    2021-12-05 07:25:01                       33.374435   \n",
            "...                  ...                             ...   \n",
            "1795 2021-12-07 02:38:13                       11.774282   \n",
            "1796 2021-12-07 02:39:25                        4.781181   \n",
            "1797 2021-12-07 02:40:37                        3.563411   \n",
            "1798 2021-12-07 02:41:49                        3.671766   \n",
            "1799 2021-12-07 02:43:01                        3.691521   \n",
            "\n",
            "      _AL_2012KS_06M1_SpeedActual  WIT_1085KS_2300_BeltLoad  \\\n",
            "0                        0.000000                295.496826   \n",
            "1                        0.000000                321.693665   \n",
            "2                       14.761859                337.279755   \n",
            "3                       71.454430                426.397614   \n",
            "4                       90.998169                511.387665   \n",
            "...                           ...                       ...   \n",
            "1795                    77.889702                 -0.883747   \n",
            "1796                    11.795214                  0.140270   \n",
            "1797                     0.000000                 -2.504870   \n",
            "1798                     0.000000                 -1.420898   \n",
            "1799                     0.000000                 -0.388333   \n",
            "\n",
            "      WIT_1085KS_2300_Rate  status  \n",
            "0              6383.887695     1.0  \n",
            "1              6722.264648     1.0  \n",
            "2              7027.466309     1.0  \n",
            "3              8533.001953     1.0  \n",
            "4             10280.833984     1.0  \n",
            "...                    ...     ...  \n",
            "1795             -3.468710     1.0  \n",
            "1796             -7.572711     1.0  \n",
            "1797             -0.662581     1.0  \n",
            "1798             -3.140172     1.0  \n",
            "1799             -2.939214     1.0  \n",
            "\n",
            "[1800 rows x 6 columns]\n"
          ]
        }
      ]
    },
    {
      "cell_type": "code",
      "source": [
        "print(dados_teste_Falha)"
      ],
      "metadata": {
        "id": "lUTknJhWqlSV",
        "outputId": "0e8aa8b9-0d25-45ac-8e7a-eca2019af2e6",
        "colab": {
          "base_uri": "https://localhost:8080/"
        }
      },
      "execution_count": 13,
      "outputs": [
        {
          "output_type": "stream",
          "name": "stdout",
          "text": [
            "                    Data  LIT_2012KS_0251_FilteredSignal  \\\n",
            "1800 2021-12-08 22:32:13                       68.584373   \n",
            "1801 2021-12-08 22:33:25                       79.267204   \n",
            "1802 2021-12-08 22:34:37                       74.231430   \n",
            "1803 2021-12-08 22:35:49                       67.143143   \n",
            "1804 2021-12-08 22:37:01                       56.879524   \n",
            "...                  ...                             ...   \n",
            "2295 2021-12-09 22:55:01                       39.161282   \n",
            "2296 2021-12-09 22:56:13                       34.402630   \n",
            "2297 2021-12-09 22:57:25                       29.267023   \n",
            "2298 2021-12-09 22:58:37                       24.829168   \n",
            "2299 2021-12-09 22:59:49                       18.879450   \n",
            "\n",
            "      _AL_2012KS_06M1_SpeedActual  WIT_1085KS_2300_BeltLoad  \\\n",
            "1800                    36.922737                551.704773   \n",
            "1801                    51.525627                551.704529   \n",
            "1802                    59.430199                551.716675   \n",
            "1803                    59.987019                551.726257   \n",
            "1804                    54.469879                551.734497   \n",
            "...                           ...                       ...   \n",
            "2295                    56.614925                801.934204   \n",
            "2296                    56.625069                818.409912   \n",
            "2297                    57.760586                808.574951   \n",
            "2298                    62.614220                785.475891   \n",
            "2299                    55.106403                770.479858   \n",
            "\n",
            "      WIT_1085KS_2300_Rate  status  \n",
            "1800              0.000000     0.0  \n",
            "1801              0.000000     0.0  \n",
            "1802              0.000000     0.0  \n",
            "1803              0.000000     0.0  \n",
            "1804              0.000000     0.0  \n",
            "...                    ...     ...  \n",
            "2295          15929.611328     0.0  \n",
            "2296          15997.693359     0.0  \n",
            "2297          16459.722656     0.0  \n",
            "2298          16399.457031     0.0  \n",
            "2299          15981.281250     0.0  \n",
            "\n",
            "[500 rows x 6 columns]\n"
          ]
        }
      ]
    },
    {
      "cell_type": "code",
      "source": [
        "print(dados_teste_Normal)"
      ],
      "metadata": {
        "id": "zH5XveUeqw3m",
        "outputId": "6f19d619-6bde-4217-dd1f-e15c206e55b1",
        "colab": {
          "base_uri": "https://localhost:8080/"
        }
      },
      "execution_count": 11,
      "outputs": [
        {
          "output_type": "stream",
          "name": "stdout",
          "text": [
            "                    Data  LIT_2012KS_0251_FilteredSignal  \\\n",
            "1500 2021-12-08 09:28:37                       43.040955   \n",
            "1501 2021-12-08 09:29:49                       37.851479   \n",
            "1502 2021-12-08 09:31:01                       32.487022   \n",
            "1503 2021-12-08 09:32:13                       27.220686   \n",
            "1504 2021-12-08 09:33:25                       22.106337   \n",
            "...                  ...                             ...   \n",
            "1795 2021-12-07 02:38:13                       11.774282   \n",
            "1796 2021-12-07 02:39:25                        4.781181   \n",
            "1797 2021-12-07 02:40:37                        3.563411   \n",
            "1798 2021-12-07 02:41:49                        3.671766   \n",
            "1799 2021-12-07 02:43:01                        3.691521   \n",
            "\n",
            "      _AL_2012KS_06M1_SpeedActual  WIT_1085KS_2300_BeltLoad  \\\n",
            "1500                    59.528919                297.226349   \n",
            "1501                    59.413948                246.993668   \n",
            "1502                    59.192154                220.550995   \n",
            "1503                    59.097382                227.279419   \n",
            "1504                    62.985394                251.745789   \n",
            "...                           ...                       ...   \n",
            "1795                    77.889702                 -0.883747   \n",
            "1796                    11.795214                  0.140270   \n",
            "1797                     0.000000                 -2.504870   \n",
            "1798                     0.000000                 -1.420898   \n",
            "1799                     0.000000                 -0.388333   \n",
            "\n",
            "      WIT_1085KS_2300_Rate  status  \n",
            "1500           5945.035645     1.0  \n",
            "1501           5126.424316     1.0  \n",
            "1502           4901.050781     1.0  \n",
            "1503           5262.369141     1.0  \n",
            "1504           5301.358398     1.0  \n",
            "...                    ...     ...  \n",
            "1795             -3.468710     1.0  \n",
            "1796             -7.572711     1.0  \n",
            "1797             -0.662581     1.0  \n",
            "1798             -3.140172     1.0  \n",
            "1799             -2.939214     1.0  \n",
            "\n",
            "[300 rows x 6 columns]\n"
          ]
        }
      ]
    },
    {
      "cell_type": "markdown",
      "source": [
        "## Analisando as Séries Temporais"
      ],
      "metadata": {
        "id": "bEFAv7gGH3O2"
      }
    },
    {
      "cell_type": "code",
      "source": [
        "#Dados com Falhas\n",
        "\n",
        "from pyFTS.data import TAIEX, Malaysia, sunspots, artificial\n",
        "from statsmodels.tsa.stattools import acf, pacf\n",
        "\n",
        "datasets1 = {}\n",
        "\n",
        "#datasets1['LIT'] = dados_treino_Falha.get('LIT_2012KS_0251_FilteredSignal')\n",
        "datasets1['LIT'] = train_ts.get('xmeas_6')\n",
        "#datasets1['SpeedActual'] = dados_treino_Falha.get('_AL_2012KS_06M1_SpeedActual')\n",
        "datasets1['SpeedActual'] = train_ts.get('xmeas_7')\n",
        "#datasets1['BeltLoad'] = dados_treino_Falha.get('WIT_1085KS_2300_BeltLoad')\n",
        "datasets1['BeltLoad'] = train_ts.get('xmeas_8')\n",
        "#datasets1['Rate'] = dados_treino_Falha.get('WIT_1085KS_2300_Rate')\n",
        "datasets1['Rate'] = train_ts.get('xmeas_9')"
      ],
      "metadata": {
        "id": "tW5-BzLk3zhr"
      },
      "execution_count": 14,
      "outputs": []
    },
    {
      "cell_type": "code",
      "source": [
        "#Dados com Falhas\n",
        "\n",
        "from pyFTS.data import TAIEX, Malaysia, sunspots, artificial\n",
        "from statsmodels.tsa.stattools import acf, pacf\n",
        "\n",
        "datasets1 = {}\n",
        "\n",
        "#datasets1['LIT'] = dados_treino_Falha.get('LIT_2012KS_0251_FilteredSignal')\n",
        "datasets1['LIT'] = train_ts.get('xmeas_6')\n",
        "#datasets1['SpeedActual'] = dados_treino_Falha.get('_AL_2012KS_06M1_SpeedActual')\n",
        "datasets1['SpeedActual'] = train_ts.get('xmeas_7')\n",
        "#datasets1['BeltLoad'] = dados_treino_Falha.get('WIT_1085KS_2300_BeltLoad')\n",
        "datasets1['BeltLoad'] = train_ts.get('xmeas_8')\n",
        "#datasets1['Rate'] = dados_treino_Falha.get('WIT_1085KS_2300_Rate')\n",
        "datasets1['Rate'] = train_ts.get('xmeas_9')\n",
        "\n",
        "fig1, ax = plt.subplots(nrows=4, ncols=4, figsize=[20,10])\n",
        "\n",
        "for ct, (key, data) in enumerate(datasets1.items()): \n",
        "  print(ct)\n",
        "  print(data)\n",
        "  _lags = np.arange(0,101)\n",
        "  _acf = acf(data,nlags=100)\n",
        "  _pacf = pacf(data,nlags=100)\n",
        "  \n",
        "  ax[0][ct].set_title(\"{}\".format(key))\n",
        "  ax[0][ct].plot(data)\n",
        "  \n",
        "  ax[1][ct].set_title(\"{} 100 intances\".format(key))\n",
        "  ax[1][ct].plot(data[:100])\n",
        "  \n",
        "  ax[2][ct].set_title(\"ACF {} - 100 lags\".format(key))\n",
        "  ax[2][ct].plot(_lags, _acf, \"o\")\n",
        "  ax[2][ct].vlines(_lags,[0],_acf)\n",
        "  ax[2][ct].axhline(y=0, color='black')\n",
        "  \n",
        "  ax[3][ct].set_title(\"PACF {} - 100 lags\".format(key))\n",
        "  ax[3][ct].plot(_lags, _pacf, \"o\")\n",
        "  ax[3][ct].vlines(_lags,[0],_pacf)\n",
        "  ax[3][ct].axhline(y=0, color='black')\n",
        "\n",
        "plt.tight_layout()"
      ],
      "metadata": {
        "id": "-2UBTAIDw1Qt",
        "outputId": "e82ce93a-eb69-49cf-e92b-ece0de486ba1",
        "colab": {
          "base_uri": "https://localhost:8080/",
          "height": 1000
        }
      },
      "execution_count": 13,
      "outputs": [
        {
          "output_type": "stream",
          "name": "stdout",
          "text": [
            "0\n",
            "0         42.402\n",
            "1         42.576\n",
            "2         42.070\n",
            "3         42.063\n",
            "4         42.650\n",
            "           ...  \n",
            "479995    42.297\n",
            "479996    42.311\n",
            "479997    41.936\n",
            "479998    42.639\n",
            "479999    42.015\n",
            "Name: xmeas_6, Length: 730000, dtype: float64\n",
            "1\n",
            "0         2704.3\n",
            "1         2705.0\n",
            "2         2706.2\n",
            "3         2707.2\n",
            "4         2705.1\n",
            "           ...  \n",
            "479995    2699.9\n",
            "479996    2698.1\n",
            "479997    2699.5\n",
            "479998    2700.5\n",
            "479999    2703.9\n",
            "Name: xmeas_7, Length: 730000, dtype: float64\n",
            "2\n",
            "0         74.863\n",
            "1         75.000\n",
            "2         74.771\n",
            "3         75.224\n",
            "4         75.388\n",
            "           ...  \n",
            "479995    74.296\n",
            "479996    74.629\n",
            "479997    75.484\n",
            "479998    74.614\n",
            "479999    74.769\n",
            "Name: xmeas_8, Length: 730000, dtype: float64\n",
            "3\n",
            "0         120.41\n",
            "1         120.41\n",
            "2         120.42\n",
            "3         120.39\n",
            "4         120.39\n",
            "           ...  \n",
            "479995    120.41\n",
            "479996    120.40\n",
            "479997    120.38\n",
            "479998    120.39\n",
            "479999    120.40\n",
            "Name: xmeas_9, Length: 730000, dtype: float64\n"
          ]
        },
        {
          "output_type": "display_data",
          "data": {
            "text/plain": [
              "<Figure size 1440x720 with 16 Axes>"
            ],
            "image/png": "[encoded data removed]"
          },
          "metadata": {
            "needs_background": "light"
          }
        }
      ]
    },
    {
      "cell_type": "code",
      "source": [
        "#Dados normais - sem falhas\n",
        "from pyFTS.data import TAIEX, Malaysia, sunspots, artificial\n",
        "from statsmodels.tsa.stattools import acf, pacf\n",
        "\n",
        "datasets2 = {}\n",
        "\n",
        "#datasets2['LIT'] = dados_treino_Normal.get('LIT_2012KS_0251_FilteredSignal')\n",
        "datasets2['LIT'] = test.get('xmeas_6')\n",
        "#datasets2['SpeedActual'] = dados_treino_Normal.get('_AL_2012KS_06M1_SpeedActual')\n",
        "datasets2['SpeedActual'] = test.get('xmeas_7')\n",
        "#datasets2['BeltLoad'] = dados_treino_Normal.get('WIT_1085KS_2300_BeltLoad')\n",
        "datasets2['BeltLoad'] = test.get('xmeas_8')\n",
        "#datasets2['Rate'] = dados_treino_Normal.get('WIT_1085KS_2300_Rate')\n",
        "datasets2['Rate'] = test.get('xmeas_9')"
      ],
      "metadata": {
        "id": "1g4mVaso3_9J"
      },
      "execution_count": 15,
      "outputs": []
    },
    {
      "cell_type": "code",
      "source": [
        "#Dados normais - sem falhas\n",
        "from pyFTS.data import TAIEX, Malaysia, sunspots, artificial\n",
        "from statsmodels.tsa.stattools import acf, pacf\n",
        "\n",
        "datasets2 = {}\n",
        "\n",
        "#datasets2['LIT'] = dados_treino_Normal.get('LIT_2012KS_0251_FilteredSignal')\n",
        "datasets2['LIT'] = test.get('xmeas_6')\n",
        "#datasets2['SpeedActual'] = dados_treino_Normal.get('_AL_2012KS_06M1_SpeedActual')\n",
        "datasets2['SpeedActual'] = test.get('xmeas_7')\n",
        "#datasets2['BeltLoad'] = dados_treino_Normal.get('WIT_1085KS_2300_BeltLoad')\n",
        "datasets2['BeltLoad'] = test.get('xmeas_8')\n",
        "#datasets2['Rate'] = dados_treino_Normal.get('WIT_1085KS_2300_Rate')\n",
        "datasets2['Rate'] = test.get('xmeas_9')\n",
        "\n",
        "\n",
        "fig2, ax = plt.subplots(nrows=4, ncols=4, figsize=[20,10])\n",
        "\n",
        "for ct, (key, data) in enumerate(datasets2.items()):\n",
        "  print(ct)\n",
        "  print(data)\n",
        "  _lags = np.arange(0,101)\n",
        "  _acf = acf(data,nlags=100)\n",
        "  _pacf = pacf(data,nlags=100)\n",
        "  \n",
        "  ax[0][ct].set_title(\"{}\".format(key))\n",
        "  ax[0][ct].plot(data)\n",
        "  \n",
        "  ax[1][ct].set_title(\"{} 100 intances\".format(key))\n",
        "  ax[1][ct].plot(data[:100])\n",
        "  \n",
        "  ax[2][ct].set_title(\"ACF {} - 100 lags\".format(key))\n",
        "  ax[2][ct].plot(_lags, _acf, \"o\")\n",
        "  ax[2][ct].vlines(_lags,[0],_acf)\n",
        "  ax[2][ct].axhline(y=0, color='black')\n",
        "  \n",
        "  ax[3][ct].set_title(\"PACF {} - 100 lags\".format(key))\n",
        "  ax[3][ct].plot(_lags, _pacf, \"o\")\n",
        "  ax[3][ct].vlines(_lags,[0],_pacf)\n",
        "  ax[3][ct].axhline(y=0, color='black')\n",
        "\n",
        "plt.tight_layout()"
      ],
      "metadata": {
        "id": "tbY2VNTXHhqv",
        "outputId": "196843cd-b596-40e1-b012-4bca78c75233",
        "colab": {
          "base_uri": "https://localhost:8080/"
        }
      },
      "execution_count": null,
      "outputs": [
        {
          "output_type": "stream",
          "name": "stdout",
          "text": [
            "0\n",
            "0          42.402\n",
            "1          42.576\n",
            "2          42.070\n",
            "3          42.063\n",
            "4          42.650\n",
            "            ...  \n",
            "9599995    42.401\n",
            "9599996    41.999\n",
            "9599997    42.180\n",
            "9599998    42.234\n",
            "9599999    42.610\n",
            "Name: xmeas_6, Length: 14600000, dtype: float64\n"
          ]
        }
      ]
    },
    {
      "cell_type": "markdown",
      "source": [
        ""
      ],
      "metadata": {
        "id": "WkShaxIL7SYC"
      }
    },
    {
      "cell_type": "code",
      "source": [
        "##Dados normais - sem falhas\n",
        "#from pyFTS.data import TAIEX, Malaysia, sunspots, artificial\n",
        "#from statsmodels.tsa.stattools import acf, pacf\n",
        "\n",
        "#datasets3 = {}\n",
        "\n",
        "#datasets3['LIT'] = dados_teste_Normal.get('LIT_2012KS_0251_FilteredSignal')\n",
        "#datasets3['SpeedActual'] = dados_teste_Normal.get('_AL_2012KS_06M1_SpeedActual')\n",
        "#datasets3['BeltLoad'] = dados_teste_Normal.get('WIT_1085KS_2300_BeltLoad')\n",
        "#datasets3['Rate'] = dados_teste_Normal.get('WIT_1085KS_2300_Rate')\n",
        "\n",
        "\n",
        "#fig3, ax = plt.subplots(nrows=4, ncols=4, figsize=[20,10])\n",
        "\n",
        "#for ct, (key, data) in enumerate(datasets3.items()): \n",
        "#  _lags = np.arange(0,101)\n",
        "#  _acf = acf(data,nlags=100)\n",
        "#  _pacf = pacf(data,nlags=100)\n",
        "  \n",
        "#  ax[0][ct].set_title(\"{}\".format(key))\n",
        "#  ax[0][ct].plot(data)\n",
        "  \n",
        "#  ax[1][ct].set_title(\"{} 100 intances\".format(key))\n",
        "#  ax[1][ct].plot(data[:100])\n",
        "  \n",
        "#  ax[2][ct].set_title(\"ACF {} - 100 lags\".format(key))\n",
        "#  ax[2][ct].plot(_lags, _acf, \"o\")\n",
        "#  ax[2][ct].vlines(_lags,[0],_acf)\n",
        "#  ax[2][ct].axhline(y=0, color='black')\n",
        "  \n",
        "#  ax[3][ct].set_title(\"PACF {} - 100 lags\".format(key))\n",
        "#  ax[3][ct].plot(_lags, _pacf, \"o\")\n",
        "#  ax[3][ct].vlines(_lags,[0],_pacf)\n",
        "#  ax[3][ct].axhline(y=0, color='black')\n",
        "\n",
        "#plt.tight_layout()"
      ],
      "metadata": {
        "id": "FJRf4NTPZqvM"
      },
      "execution_count": null,
      "outputs": []
    },
    {
      "cell_type": "code",
      "source": [
        "from pyFTS.models import hofts\n",
        "from pyFTS.partitioners import Grid, FCM, CMeans, Entropy\n",
        "from pyFTS.benchmarks import Measures\n",
        "\n",
        "metodos = [Grid.GridPartitioner, Entropy.EntropyPartitioner, CMeans.CMeansPartitioner ]\n",
        "\n",
        "k = 30\n",
        "\n",
        "rows = []\n",
        "\n",
        "y1=np.asarray(datasets1['SpeedActual'])\n",
        "\n",
        "fig, ax = plt.subplots(nrows=1, ncols=1,figsize=[15,5])\n",
        "\n",
        "ax.plot(y1, label='Original',color='black')\n",
        "\n",
        "for contador, metodo in enumerate(metodos):\n",
        "  part = metodo(data=y1, npart=k)\n",
        "  model = hofts.HighOrderFTS(order=2, partitioner=part)\n",
        "  model.fit(y1)\n",
        "  forecasts = model.predict(y1)\n",
        "  for o in range(model.order):\n",
        "    forecasts.insert(0,None)\n",
        "    \n",
        "  ax.plot(forecasts[:-1], label=part.name)\n",
        "  \n",
        "  rmse, mape, u = Measures.get_point_statistics(y1, model)\n",
        "  \n",
        "  rows.append([part.name, rmse, mape, u])\n",
        "  \n",
        "\n",
        "handles, labels = ax.get_legend_handles_labels()\n",
        "lgd = ax.legend(handles, labels, loc=2, bbox_to_anchor=(1, 1))\n",
        "\n",
        "pd.DataFrame(rows, columns=['Partitions','RMSE','MAPE','U'])"
      ],
      "metadata": {
        "id": "WOLO39eiR-sq",
        "outputId": "0b2ae1f8-f918-4132-81db-a4166ebe49be",
        "colab": {
          "base_uri": "https://localhost:8080/",
          "height": 329
        }
      },
      "execution_count": 16,
      "outputs": [
        {
          "output_type": "stream",
          "name": "stderr",
          "text": [
            "\n",
            "KeyboardInterrupt\n",
            "\n"
          ]
        },
        {
          "output_type": "display_data",
          "data": {
            "text/plain": [
              "<Figure size 1080x360 with 1 Axes>"
            ],
            "image/png": "[encoded data removed]"
          },
          "metadata": {
            "needs_background": "light"
          }
        }
      ]
    },
    {
      "cell_type": "code",
      "source": [
        "#Dados Sem Falhas\n",
        "from numpy.core.multiarray import concatenate\n",
        "from pyFTS.models import pwfts\n",
        "#from pyFTS.models import chen, cheng, hofts, pwfts\n",
        "from pyFTS.partitioners import Grid\n",
        "from pyFTS.benchmarks import Measures\n",
        "from pyFTS.common import Util\n",
        "\n",
        "#metodos = [chen.ConventionalFTS, cheng.TrendWeightedFTS, hofts.HighOrderFTS, \n",
        "#          hofts.WeightedHighOrderFTS, pwfts.ProbabilisticWeightedFTS]\n",
        "metodos = [pwfts.ProbabilisticWeightedFTS]\n",
        "\n",
        "k = 10\n",
        "y1 = datasets2['LIT']\n",
        "tam_grupo = 100\n",
        "i=0\n",
        "VT1=[]\n",
        "\n",
        "for i in range(0,y1.size,tam_grupo):\n",
        "  grpan = y1[i:i+tam_grupo]\n",
        "  part = Grid.GridPartitioner(data=np.asarray(grpan), npart=k)\n",
        "  for contador, metodo in enumerate(metodos):\n",
        "    model1 = metodo(partitioner=part, progress=False, type='distribution')\n",
        "    if model1.is_high_order:\n",
        "      model1 = metodo(partitioner=part, order=1)\n",
        "    model1.fit(np.asarray(y1))  \n",
        "  #print(model1)\n",
        "  _, _, lhs1, rhs1 = pwfts.highorder_fuzzy_markov_chain(model1)\n",
        "  lhs1t = np.transpose(lhs1)\n",
        "  V1 = np.c_[rhs1,lhs1t]\n",
        "  if i == 0 :\n",
        "    VT1 = V1\n",
        "  else:\n",
        "    VT1 = np.c_[VT1,V1]\n",
        "\n",
        "  print(i)\n",
        "\n",
        "VT1 = np.transpose(VT1)\n",
        "print(VT1)"
      ],
      "metadata": {
        "id": "pcFNIwoBHyj3"
      },
      "execution_count": null,
      "outputs": []
    },
    {
      "cell_type": "code",
      "source": [
        "#Dados Sem Falhas\n",
        "from pyFTS.models import pwfts\n",
        "#from pyFTS.models import chen, cheng, hofts, pwfts\n",
        "from pyFTS.partitioners import Grid\n",
        "from pyFTS.benchmarks import Measures\n",
        "\n",
        "#metodos = [chen.ConventionalFTS, cheng.TrendWeightedFTS, hofts.HighOrderFTS, \n",
        "#          hofts.WeightedHighOrderFTS, pwfts.ProbabilisticWeightedFTS]\n",
        "metodos = [pwfts.ProbabilisticWeightedFTS]\n",
        "\n",
        "k = 10\n",
        "y2 = datasets2['SpeedActual']\n",
        "tam_grupo = 100\n",
        "i=0\n",
        "VT2=[]\n",
        "V2=[]\n",
        "\n",
        "for i in range(0,y2.size,tam_grupo):\n",
        "  grpan = y2[i:i+tam_grupo]\n",
        "  part = Grid.GridPartitioner(data=np.asarray(grpan), npart=k)\n",
        "  for contador, metodo in enumerate(metodos):\n",
        "    model2 = metodo(partitioner=part, progress=False, type='distribution')\n",
        "    if model2.is_high_order:\n",
        "      model2 = metodo(partitioner=part, order=1)\n",
        "    model2.fit(np.asarray(y2))  \n",
        "  #print(model1)\n",
        "  _, _, lhs2, rhs2 = pwfts.highorder_fuzzy_markov_chain(model2)\n",
        "  lhs2t = np.transpose(lhs2)\n",
        "  V2 = np.c_[rhs2,lhs2t]\n",
        "  if i == 0 :\n",
        "    VT2 = V2\n",
        "  else:\n",
        "    VT2 = np.c_[VT2,V2]\n",
        "\n",
        "  print(i)\n",
        "\n",
        "VT2 = np.transpose(VT2)\n",
        "print(VT2)\n",
        "\n"
      ],
      "metadata": {
        "id": "fOwtB4OdW0HC"
      },
      "execution_count": null,
      "outputs": []
    },
    {
      "cell_type": "code",
      "source": [
        "#Dados Sem Falhas\n",
        "from pyFTS.models import pwfts\n",
        "#from pyFTS.models import chen, cheng, hofts, pwfts\n",
        "from pyFTS.partitioners import Grid\n",
        "from pyFTS.benchmarks import Measures\n",
        "\n",
        "#metodos = [chen.ConventionalFTS, cheng.TrendWeightedFTS, hofts.HighOrderFTS, \n",
        "#          hofts.WeightedHighOrderFTS, pwfts.ProbabilisticWeightedFTS]\n",
        "metodos = [pwfts.ProbabilisticWeightedFTS]\n",
        "\n",
        "k = 10\n",
        "y3 = datasets2['BeltLoad']\n",
        "tam_grupo = 100\n",
        "i=0\n",
        "VT3=[]\n",
        "V3=[]\n",
        "\n",
        "for i in range(0,y3.size,tam_grupo):\n",
        "  grpan = y3[i:i+tam_grupo]\n",
        "  part = Grid.GridPartitioner(data=np.asarray(grpan), npart=k)\n",
        "  for contador, metodo in enumerate(metodos):\n",
        "    model3 = metodo(partitioner=part, progress=False, type='distribution')\n",
        "    if model3.is_high_order:\n",
        "      model3 = metodo(partitioner=part, order=1)\n",
        "    model3.fit(np.asarray(y3))  \n",
        "  #print(model1)\n",
        "  _, _, lhs3, rhs3 = pwfts.highorder_fuzzy_markov_chain(model3)\n",
        "  lhs3t = np.transpose(lhs3)\n",
        "  V3 = np.c_[rhs3,lhs3t]\n",
        "  if i == 0 :\n",
        "    VT3 = V3\n",
        "  else:\n",
        "    VT3 = np.c_[VT3,V3]\n",
        "\n",
        "  print(i)\n",
        "\n",
        "VT3 = np.transpose(VT3)\n",
        "print(VT3)"
      ],
      "metadata": {
        "id": "HgsaaAc1Ecy-"
      },
      "execution_count": null,
      "outputs": []
    },
    {
      "cell_type": "code",
      "source": [
        "#Dados Sem Falhas\n",
        "from pyFTS.models import pwfts\n",
        "#from pyFTS.models import chen, cheng, hofts, pwfts\n",
        "from pyFTS.partitioners import Grid\n",
        "from pyFTS.benchmarks import Measures\n",
        "\n",
        "#metodos = [chen.ConventionalFTS, cheng.TrendWeightedFTS, hofts.HighOrderFTS, \n",
        "#          hofts.WeightedHighOrderFTS, pwfts.ProbabilisticWeightedFTS]\n",
        "metodos = [pwfts.ProbabilisticWeightedFTS]\n",
        "\n",
        "k = 10\n",
        "y4 = datasets2['Rate']\n",
        "tam_grupo = 100\n",
        "i=0\n",
        "VT4=[]\n",
        "V4=[]\n",
        "\n",
        "for i in range(0,y4.size,tam_grupo):\n",
        "  grpan = y4[i:i+tam_grupo]\n",
        "  part = Grid.GridPartitioner(data=np.asarray(grpan), npart=k)\n",
        "  for contador, metodo in enumerate(metodos):\n",
        "    model4 = metodo(partitioner=part, progress=False, type='distribution')\n",
        "    if model4.is_high_order:\n",
        "      model4 = metodo(partitioner=part, order=1)\n",
        "    model4.fit(np.asarray(y4))  \n",
        "  #print(model1)\n",
        "  _, _, lhs4, rhs4 = pwfts.highorder_fuzzy_markov_chain(model4)\n",
        "  lhs4t = np.transpose(lhs4)\n",
        "  V4 = np.c_[rhs4,lhs4t]\n",
        "  if i == 0 :\n",
        "    VT4 = V4\n",
        "  else:\n",
        "    VT4 = np.c_[VT4,V4]\n",
        "\n",
        "  print(i)\n",
        "\n",
        "VT4 = np.transpose(VT4)\n",
        "print(VT4)"
      ],
      "metadata": {
        "id": "y39M8xhwEnJj"
      },
      "execution_count": null,
      "outputs": []
    },
    {
      "cell_type": "code",
      "source": [
        "#Dados Com Falhas\n",
        "from numpy.core.multiarray import concatenate\n",
        "from pyFTS.models import pwfts\n",
        "#from pyFTS.models import chen, cheng, hofts, pwfts\n",
        "from pyFTS.partitioners import Grid\n",
        "from pyFTS.benchmarks import Measures\n",
        "from pyFTS.common import Util\n",
        "\n",
        "#metodos = [chen.ConventionalFTS, cheng.TrendWeightedFTS, hofts.HighOrderFTS, \n",
        "#          hofts.WeightedHighOrderFTS, pwfts.ProbabilisticWeightedFTS]\n",
        "metodos = [pwfts.ProbabilisticWeightedFTS]\n",
        "\n",
        "k = 10\n",
        "y1 = datasets1['LIT']\n",
        "tam_grupo = 100\n",
        "i=0\n",
        "VU1=[]\n",
        "\n",
        "for i in range(0,y1.size,tam_grupo):\n",
        "  grpan = y1[i:i+tam_grupo]\n",
        "  part = Grid.GridPartitioner(data=np.asarray(grpan), npart=k)\n",
        "  for contador, metodo in enumerate(metodos):\n",
        "    model1 = metodo(partitioner=part, progress=False, type='distribution')\n",
        "    if model1.is_high_order:\n",
        "      model1 = metodo(partitioner=part, order=1)\n",
        "    model1.fit(np.asarray(y1))  \n",
        "  #print(model1)\n",
        "  _, _, lhs1, rhs1 = pwfts.highorder_fuzzy_markov_chain(model1)\n",
        "  lhs1t = np.transpose(lhs1)\n",
        "  V1 = np.c_[rhs1,lhs1t]\n",
        "  if i == 0 :\n",
        "    VU1 = V1\n",
        "  else:\n",
        "    VU1 = np.c_[VU1,V1]\n",
        "\n",
        "  print(i)\n",
        "\n",
        "VU1 = np.transpose(VU1)\n",
        "print(VU1)"
      ],
      "metadata": {
        "id": "Ss7osjRS5NHs"
      },
      "execution_count": null,
      "outputs": []
    },
    {
      "cell_type": "code",
      "source": [
        "#Dados Com Falhas\n",
        "from pyFTS.models import pwfts\n",
        "#from pyFTS.models import chen, cheng, hofts, pwfts\n",
        "from pyFTS.partitioners import Grid\n",
        "from pyFTS.benchmarks import Measures\n",
        "\n",
        "#metodos = [chen.ConventionalFTS, cheng.TrendWeightedFTS, hofts.HighOrderFTS, \n",
        "#          hofts.WeightedHighOrderFTS, pwfts.ProbabilisticWeightedFTS]\n",
        "metodos = [pwfts.ProbabilisticWeightedFTS]\n",
        "\n",
        "k = 10\n",
        "y2 = datasets1['SpeedActual']\n",
        "tam_grupo = 100\n",
        "i=0\n",
        "VU2=[]\n",
        "V2=[]\n",
        "\n",
        "for i in range(0,y2.size,tam_grupo):\n",
        "  grpan = y2[i:i+tam_grupo]\n",
        "  part = Grid.GridPartitioner(data=np.asarray(grpan), npart=k)\n",
        "  for contador, metodo in enumerate(metodos):\n",
        "    model2 = metodo(partitioner=part, progress=False, type='distribution')\n",
        "    if model2.is_high_order:\n",
        "      model2 = metodo(partitioner=part, order=1)\n",
        "    model2.fit(np.asarray(y2))  \n",
        "  #print(model1)\n",
        "  _, _, lhs2, rhs2 = pwfts.highorder_fuzzy_markov_chain(model2)\n",
        "  lhs2t = np.transpose(lhs2)\n",
        "  V2 = np.c_[rhs2,lhs2t]\n",
        "  if i == 0 :\n",
        "    VU2 = V2\n",
        "  else:\n",
        "    VU2 = np.c_[VU2,V2]\n",
        "\n",
        "  print(i)\n",
        "\n",
        "VU2 = np.transpose(VU2)\n",
        "print(VU2)"
      ],
      "metadata": {
        "id": "IqEnIldv5M95"
      },
      "execution_count": null,
      "outputs": []
    },
    {
      "cell_type": "code",
      "source": [
        "#Dados Com Falhas\n",
        "from pyFTS.models import pwfts\n",
        "#from pyFTS.models import chen, cheng, hofts, pwfts\n",
        "from pyFTS.partitioners import Grid\n",
        "from pyFTS.benchmarks import Measures\n",
        "\n",
        "#metodos = [chen.ConventionalFTS, cheng.TrendWeightedFTS, hofts.HighOrderFTS, \n",
        "#          hofts.WeightedHighOrderFTS, pwfts.ProbabilisticWeightedFTS]\n",
        "metodos = [pwfts.ProbabilisticWeightedFTS]\n",
        "\n",
        "k = 10\n",
        "y3 = datasets1['BeltLoad']\n",
        "tam_grupo = 100\n",
        "i=0\n",
        "VU3=[]\n",
        "V3=[]\n",
        "\n",
        "for i in range(0,y3.size,tam_grupo):\n",
        "  grpan = y3[i:i+tam_grupo]\n",
        "  part = Grid.GridPartitioner(data=np.asarray(grpan), npart=k)\n",
        "  for contador, metodo in enumerate(metodos):\n",
        "    model3 = metodo(partitioner=part, progress=False, type='distribution')\n",
        "    if model3.is_high_order:\n",
        "      model3 = metodo(partitioner=part, order=1)\n",
        "    model3.fit(np.asarray(y3))  \n",
        "  #print(model1)\n",
        "  _, _, lhs3, rhs3 = pwfts.highorder_fuzzy_markov_chain(model3)\n",
        "  lhs3t = np.transpose(lhs3)\n",
        "  V3 = np.c_[rhs3,lhs3t]\n",
        "  if i == 0 :\n",
        "    VU3 = V3\n",
        "  else:\n",
        "    VU3 = np.c_[VU3,V3]\n",
        "\n",
        "  print(i)\n",
        "\n",
        "VU3 = np.transpose(VU3)\n",
        "print(VU3)"
      ],
      "metadata": {
        "id": "Q_WVh9sg5M0K"
      },
      "execution_count": null,
      "outputs": []
    },
    {
      "cell_type": "code",
      "source": [
        "#Dados Com Falhas\n",
        "from pyFTS.models import pwfts\n",
        "#from pyFTS.models import chen, cheng, hofts, pwfts\n",
        "from pyFTS.partitioners import Grid\n",
        "from pyFTS.benchmarks import Measures\n",
        "\n",
        "#metodos = [chen.ConventionalFTS, cheng.TrendWeightedFTS, hofts.HighOrderFTS, \n",
        "#          hofts.WeightedHighOrderFTS, pwfts.ProbabilisticWeightedFTS]\n",
        "metodos = [pwfts.ProbabilisticWeightedFTS]\n",
        "\n",
        "k = 10\n",
        "y4 = datasets1['Rate']\n",
        "tam_grupo = 100\n",
        "i=0\n",
        "VU4=[]\n",
        "V4=[]\n",
        "\n",
        "for i in range(0,y4.size,tam_grupo):\n",
        "  grpan = y4[i:i+tam_grupo]\n",
        "  part = Grid.GridPartitioner(data=np.asarray(grpan), npart=k)\n",
        "  for contador, metodo in enumerate(metodos):\n",
        "    model4 = metodo(partitioner=part, progress=False, type='distribution')\n",
        "    if model4.is_high_order:\n",
        "      model4 = metodo(partitioner=part, order=1)\n",
        "    model4.fit(np.asarray(y4))  \n",
        "  #print(model1)\n",
        "  _, _, lhs4, rhs4 = pwfts.highorder_fuzzy_markov_chain(model4)\n",
        "  lhs4t = np.transpose(lhs4)\n",
        "  V4 = np.c_[rhs4,lhs4t]\n",
        "  if i == 0 :\n",
        "    VU4 = V4\n",
        "  else:\n",
        "    VU4 = np.c_[VU4,V4]\n",
        "\n",
        "  print(i)\n",
        "\n",
        "VU4 = np.transpose(VU4)\n",
        "print(VU4)"
      ],
      "metadata": {
        "id": "BA2Y43qO5MlL"
      },
      "execution_count": null,
      "outputs": []
    },
    {
      "cell_type": "markdown",
      "source": [
        ""
      ],
      "metadata": {
        "id": "EMrCbZ8m8K1U"
      }
    },
    {
      "cell_type": "code",
      "source": [
        "ytst1 = np.ones(198)\n",
        "ytst2 = np.zeros(253)\n",
        "ytst = np.concatenate((ytst1,ytst2))"
      ],
      "metadata": {
        "id": "sqGLGkjrsMec"
      },
      "execution_count": null,
      "outputs": []
    },
    {
      "cell_type": "code",
      "source": [
        "#Unir todas as matrizes geradas\n",
        "BaseT1 = np.transpose(np.concatenate([np.transpose(VT1),np.transpose(VT2),np.transpose(VT3),np.transpose(VT4)]))\n",
        "BaseT2 = np.transpose(np.concatenate([np.transpose(VU1),np.transpose(VU2),np.transpose(VU3),np.transpose(VU4)]))\n",
        "BaseT3 = np.c_[np.transpose(BaseT1), np.transpose(BaseT2)]\n",
        "BaseT4 = np.c_[np.transpose(BaseT3),ytst]"
      ],
      "metadata": {
        "id": "BCiWnRNhHxeX"
      },
      "execution_count": null,
      "outputs": []
    },
    {
      "cell_type": "markdown",
      "source": [
        ""
      ],
      "metadata": {
        "id": "ZKlxlVknGgad"
      }
    },
    {
      "cell_type": "code",
      "source": [
        "pwfts.visualize_distributions(model1)"
      ],
      "metadata": {
        "id": "4QHy28_mw0rP"
      },
      "execution_count": null,
      "outputs": []
    },
    {
      "cell_type": "code",
      "source": [
        "pwfts.visualize_distributions(model2)"
      ],
      "metadata": {
        "id": "TVT0gXwsGJlz"
      },
      "execution_count": null,
      "outputs": []
    },
    {
      "cell_type": "code",
      "source": [
        "pwfts.visualize_distributions(model3)"
      ],
      "metadata": {
        "id": "QL-07qhcGJdT"
      },
      "execution_count": null,
      "outputs": []
    },
    {
      "cell_type": "code",
      "source": [
        "pwfts.visualize_distributions(model4)"
      ],
      "metadata": {
        "id": "qxAYrX16GJHW"
      },
      "execution_count": null,
      "outputs": []
    },
    {
      "cell_type": "code",
      "metadata": {
        "id": "RGzSbQvu3gaJ"
      },
      "source": [
        "#dataset = pd.read_excel('../content/sample_data/Base.xlsx')\n",
        "#x = dataset.iloc[:,:-1].values\n",
        "#y = dataset.iloc[:,-1].values\n",
        "x = BaseT4[:,:-1]\n",
        "y = BaseT4[:,-1]"
      ],
      "execution_count": null,
      "outputs": []
    },
    {
      "cell_type": "code",
      "metadata": {
        "id": "vyow2jEvnCqf"
      },
      "source": [
        "import seaborn as sns\n",
        "#dataset2 = pd.read_excel('../content/sample_data/Base.xlsx')\n",
        "corr_df = dff.corr(method='pearson')\n",
        "\n",
        "plt.figure(figsize=(8, 6))\n",
        "sns.heatmap(corr_df, annot=True)\n",
        "plt.show()"
      ],
      "execution_count": null,
      "outputs": []
    },
    {
      "cell_type": "code",
      "source": [
        "import seaborn as sns\n",
        "#dataset2 = pd.read_excel('../content/sample_data/Base.xlsx')\n",
        "corr_df = dfn.corr(method='pearson')\n",
        "\n",
        "plt.figure(figsize=(8, 6))\n",
        "sns.heatmap(corr_df, annot=True)\n",
        "plt.show()"
      ],
      "metadata": {
        "id": "ummyjgT6aGfd"
      },
      "execution_count": null,
      "outputs": []
    },
    {
      "cell_type": "code",
      "metadata": {
        "id": "wFJJUNfM4m2S"
      },
      "source": [
        "from sklearn.model_selection import train_test_split\n",
        "x_train, x_test, y_train, y_test = train_test_split(x , y, test_size = 0.2, random_state = 10)"
      ],
      "execution_count": null,
      "outputs": []
    },
    {
      "cell_type": "code",
      "metadata": {
        "id": "PcmHVc7q5qxo"
      },
      "source": [
        "from xgboost import XGBClassifier\n",
        "Classifier = XGBClassifier()\n",
        "Classifier.fit(x_train, y_train)"
      ],
      "execution_count": null,
      "outputs": []
    },
    {
      "cell_type": "markdown",
      "metadata": {
        "id": "9X0CkzIzb4mq"
      },
      "source": [
        "Matriz de confusão"
      ]
    },
    {
      "cell_type": "code",
      "metadata": {
        "id": "SyAwjWoW6chI"
      },
      "source": [
        "from sklearn.metrics import confusion_matrix, accuracy_score\n",
        "ypred = Classifier.predict(x_test)\n",
        "cm = confusion_matrix(y_test, ypred)\n",
        "print(cm)"
      ],
      "execution_count": null,
      "outputs": []
    },
    {
      "cell_type": "markdown",
      "metadata": {
        "id": "eNXjLi_Vb2Dv"
      },
      "source": [
        "Precisão"
      ]
    },
    {
      "cell_type": "code",
      "metadata": {
        "id": "PcaS8zcBb1Tf"
      },
      "source": [
        "accuracy_score(y_test, ypred)"
      ],
      "execution_count": null,
      "outputs": []
    },
    {
      "cell_type": "code",
      "metadata": {
        "id": "6xwNE9aL7f2g"
      },
      "source": [
        "from sklearn.model_selection import cross_val_score\n",
        "accuracies = cross_val_score(estimator = Classifier, X = x_train, y = y_train, cv = 2)\n",
        "\n",
        "print(accuracies.mean()*100)\n",
        "print(accuracies.std()*100)"
      ],
      "execution_count": null,
      "outputs": []
    }
  ]
}