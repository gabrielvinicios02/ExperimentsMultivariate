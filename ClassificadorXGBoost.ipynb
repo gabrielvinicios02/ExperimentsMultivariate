{
  "nbformat": 4,
  "nbformat_minor": 0,
  "metadata": {
    "colab": {
      "name": "ClassificadorXGBoost.ipynb",
      "provenance": [],
      "collapsed_sections": [],
      "machine_shape": "hm",
      "mount_file_id": "https://github.com/gabrielvinicios02/ExperimentsMultivariate/blob/f-DuasBases/ClassificadorXGBoost.ipynb",
      "authorship_tag": "ABX9TyMigC6oVm0JQ7i6h3S4GByb",
      "include_colab_link": true
    },
    "kernelspec": {
      "name": "python3",
      "display_name": "Python 3"
    },
    "language_info": {
      "name": "python"
    },
    "accelerator": "GPU",
    "gpuClass": "standard"
  },
  "cells": [
    {
      "cell_type": "markdown",
      "metadata": {
        "id": "view-in-github",
        "colab_type": "text"
      },
      "source": [
        "<a href=\"https://colab.research.google.com/github/gabrielvinicios02/ExperimentsMultivariate/blob/f-TEP/ClassificadorXGBoost.ipynb\" target=\"_parent\"><img src=\"https://colab.research.google.com/assets/colab-badge.svg\" alt=\"Open In Colab\"/></a>"
      ]
    },
    {
      "cell_type": "markdown",
      "metadata": {
        "id": "FJ3W9LiliPPY"
      },
      "source": [
        "# Séries Temporais\n",
        "\n",
        "\n",
        "<center>\n",
        "<table><tr><td> <a href=\"http://www.minds.eng.ufmg.br/\"><img src=\"https://github.com/petroniocandido/pyFTS/raw/master/img/minds_logo_medium.jpeg\" alt=\"MINDS - Machine Intelligence and Data Science Lab\" width=\"100\"/></a></td> \n",
        "  <td>&nbsp;&nbsp;&nbsp;&nbsp;&nbsp;&nbsp;&nbsp;&nbsp;&nbsp;</td>\n",
        "<td><a href=\"https://pyfts.github.io/pyFTS/\"><img src=\"https://github.com/petroniocandido/pyFTS/raw/master/img/logo_medium.png\" alt=\"pyFTS - Fuzzy Time Series for Python\" width=\"100\"/></a></td>\n",
        "</tr>\n",
        "</table>\n",
        "</center>"
      ]
    },
    {
      "cell_type": "code",
      "source": [
        "!pip3 install -U git+https://github.com/PYFTS/pyFTS\n",
        "#!pip3 install -U pyFTS\n",
        "!pip3 install SimpSOM\n",
        "!pip install dispy\n",
        "#!pip install matplotlib==3.1.3\n",
        "!pip install matplotlib==3.1.1"
      ],
      "metadata": {
        "colab": {
          "base_uri": "https://localhost:8080/",
          "height": 1000
        },
        "id": "nWMbE2RO8Ga1",
        "outputId": "c512ccb6-3093-4e4c-9c9d-e1973e093e89"
      },
      "execution_count": 75,
      "outputs": [
        {
          "output_type": "stream",
          "name": "stdout",
          "text": [
            "Looking in indexes: https://pypi.org/simple, https://us-python.pkg.dev/colab-wheels/public/simple/\n",
            "Collecting git+https://github.com/PYFTS/pyFTS\n",
            "  Cloning https://github.com/PYFTS/pyFTS to /tmp/pip-req-build-bntt1q28\n",
            "  Running command git clone -q https://github.com/PYFTS/pyFTS /tmp/pip-req-build-bntt1q28\n",
            "Requirement already satisfied: matplotlib in /usr/local/lib/python3.7/dist-packages (from pyFTS==1.6) (3.1.1)\n",
            "Requirement already satisfied: numpy in /usr/local/lib/python3.7/dist-packages (from pyFTS==1.6) (1.21.6)\n",
            "Requirement already satisfied: pandas in /usr/local/lib/python3.7/dist-packages (from pyFTS==1.6) (1.3.5)\n",
            "Requirement already satisfied: cycler>=0.10 in /usr/local/lib/python3.7/dist-packages (from matplotlib->pyFTS==1.6) (0.11.0)\n",
            "Requirement already satisfied: pyparsing!=2.0.4,!=2.1.2,!=2.1.6,>=2.0.1 in /usr/local/lib/python3.7/dist-packages (from matplotlib->pyFTS==1.6) (3.0.9)\n",
            "Requirement already satisfied: kiwisolver>=1.0.1 in /usr/local/lib/python3.7/dist-packages (from matplotlib->pyFTS==1.6) (1.4.3)\n",
            "Requirement already satisfied: python-dateutil>=2.1 in /usr/local/lib/python3.7/dist-packages (from matplotlib->pyFTS==1.6) (2.8.2)\n",
            "Requirement already satisfied: typing-extensions in /usr/local/lib/python3.7/dist-packages (from kiwisolver>=1.0.1->matplotlib->pyFTS==1.6) (4.1.1)\n",
            "Requirement already satisfied: six>=1.5 in /usr/local/lib/python3.7/dist-packages (from python-dateutil>=2.1->matplotlib->pyFTS==1.6) (1.15.0)\n",
            "Requirement already satisfied: pytz>=2017.3 in /usr/local/lib/python3.7/dist-packages (from pandas->pyFTS==1.6) (2022.1)\n",
            "Looking in indexes: https://pypi.org/simple, https://us-python.pkg.dev/colab-wheels/public/simple/\n",
            "Requirement already satisfied: SimpSOM in /usr/local/lib/python3.7/dist-packages (2.0.1)\n",
            "Collecting matplotlib>=3.3.3\n",
            "  Using cached matplotlib-3.5.2-cp37-cp37m-manylinux_2_5_x86_64.manylinux1_x86_64.whl (11.2 MB)\n",
            "Requirement already satisfied: numpy>=1.19.5 in /usr/local/lib/python3.7/dist-packages (from SimpSOM) (1.21.6)\n",
            "Requirement already satisfied: scikit-learn>=0.22.2.post1 in /usr/local/lib/python3.7/dist-packages (from SimpSOM) (1.0.2)\n",
            "Requirement already satisfied: pyparsing>=2.2.1 in /usr/local/lib/python3.7/dist-packages (from matplotlib>=3.3.3->SimpSOM) (3.0.9)\n",
            "Requirement already satisfied: pillow>=6.2.0 in /usr/local/lib/python3.7/dist-packages (from matplotlib>=3.3.3->SimpSOM) (7.1.2)\n",
            "Requirement already satisfied: python-dateutil>=2.7 in /usr/local/lib/python3.7/dist-packages (from matplotlib>=3.3.3->SimpSOM) (2.8.2)\n",
            "Requirement already satisfied: packaging>=20.0 in /usr/local/lib/python3.7/dist-packages (from matplotlib>=3.3.3->SimpSOM) (21.3)\n",
            "Requirement already satisfied: cycler>=0.10 in /usr/local/lib/python3.7/dist-packages (from matplotlib>=3.3.3->SimpSOM) (0.11.0)\n",
            "Requirement already satisfied: kiwisolver>=1.0.1 in /usr/local/lib/python3.7/dist-packages (from matplotlib>=3.3.3->SimpSOM) (1.4.3)\n",
            "Requirement already satisfied: fonttools>=4.22.0 in /usr/local/lib/python3.7/dist-packages (from matplotlib>=3.3.3->SimpSOM) (4.34.4)\n",
            "Requirement already satisfied: typing-extensions in /usr/local/lib/python3.7/dist-packages (from kiwisolver>=1.0.1->matplotlib>=3.3.3->SimpSOM) (4.1.1)\n",
            "Requirement already satisfied: six>=1.5 in /usr/local/lib/python3.7/dist-packages (from python-dateutil>=2.7->matplotlib>=3.3.3->SimpSOM) (1.15.0)\n",
            "Requirement already satisfied: scipy>=1.1.0 in /usr/local/lib/python3.7/dist-packages (from scikit-learn>=0.22.2.post1->SimpSOM) (1.7.3)\n",
            "Requirement already satisfied: joblib>=0.11 in /usr/local/lib/python3.7/dist-packages (from scikit-learn>=0.22.2.post1->SimpSOM) (1.1.0)\n",
            "Requirement already satisfied: threadpoolctl>=2.0.0 in /usr/local/lib/python3.7/dist-packages (from scikit-learn>=0.22.2.post1->SimpSOM) (3.1.0)\n",
            "Installing collected packages: matplotlib\n",
            "  Attempting uninstall: matplotlib\n",
            "    Found existing installation: matplotlib 3.1.1\n",
            "    Uninstalling matplotlib-3.1.1:\n",
            "      Successfully uninstalled matplotlib-3.1.1\n",
            "\u001b[31mERROR: pip's dependency resolver does not currently take into account all the packages that are installed. This behaviour is the source of the following dependency conflicts.\n",
            "albumentations 0.1.12 requires imgaug<0.2.7,>=0.2.5, but you have imgaug 0.2.9 which is incompatible.\u001b[0m\n",
            "Successfully installed matplotlib-3.5.2\n"
          ]
        },
        {
          "output_type": "display_data",
          "data": {
            "application/vnd.colab-display-data+json": {
              "pip_warning": {
                "packages": [
                  "matplotlib",
                  "mpl_toolkits"
                ]
              }
            }
          },
          "metadata": {}
        },
        {
          "output_type": "stream",
          "name": "stdout",
          "text": [
            "Looking in indexes: https://pypi.org/simple, https://us-python.pkg.dev/colab-wheels/public/simple/\n",
            "Requirement already satisfied: dispy in /usr/local/lib/python3.7/dist-packages (4.15.1)\n",
            "Requirement already satisfied: pycos>=4.12.1 in /usr/local/lib/python3.7/dist-packages (from dispy) (4.12.1)\n",
            "Looking in indexes: https://pypi.org/simple, https://us-python.pkg.dev/colab-wheels/public/simple/\n",
            "Collecting matplotlib==3.1.1\n",
            "  Using cached matplotlib-3.1.1-cp37-cp37m-manylinux1_x86_64.whl (13.1 MB)\n",
            "Requirement already satisfied: kiwisolver>=1.0.1 in /usr/local/lib/python3.7/dist-packages (from matplotlib==3.1.1) (1.4.3)\n",
            "Requirement already satisfied: numpy>=1.11 in /usr/local/lib/python3.7/dist-packages (from matplotlib==3.1.1) (1.21.6)\n",
            "Requirement already satisfied: pyparsing!=2.0.4,!=2.1.2,!=2.1.6,>=2.0.1 in /usr/local/lib/python3.7/dist-packages (from matplotlib==3.1.1) (3.0.9)\n",
            "Requirement already satisfied: python-dateutil>=2.1 in /usr/local/lib/python3.7/dist-packages (from matplotlib==3.1.1) (2.8.2)\n",
            "Requirement already satisfied: cycler>=0.10 in /usr/local/lib/python3.7/dist-packages (from matplotlib==3.1.1) (0.11.0)\n",
            "Requirement already satisfied: typing-extensions in /usr/local/lib/python3.7/dist-packages (from kiwisolver>=1.0.1->matplotlib==3.1.1) (4.1.1)\n",
            "Requirement already satisfied: six>=1.5 in /usr/local/lib/python3.7/dist-packages (from python-dateutil>=2.1->matplotlib==3.1.1) (1.15.0)\n",
            "Installing collected packages: matplotlib\n",
            "  Attempting uninstall: matplotlib\n",
            "    Found existing installation: matplotlib 3.5.2\n",
            "    Uninstalling matplotlib-3.5.2:\n",
            "      Successfully uninstalled matplotlib-3.5.2\n",
            "\u001b[31mERROR: pip's dependency resolver does not currently take into account all the packages that are installed. This behaviour is the source of the following dependency conflicts.\n",
            "simpsom 2.0.1 requires matplotlib>=3.3.3, but you have matplotlib 3.1.1 which is incompatible.\n",
            "albumentations 0.1.12 requires imgaug<0.2.7,>=0.2.5, but you have imgaug 0.2.9 which is incompatible.\u001b[0m\n",
            "Successfully installed matplotlib-3.1.1\n"
          ]
        },
        {
          "output_type": "display_data",
          "data": {
            "application/vnd.colab-display-data+json": {
              "pip_warning": {
                "packages": [
                  "matplotlib",
                  "mpl_toolkits"
                ]
              }
            }
          },
          "metadata": {}
        }
      ]
    },
    {
      "cell_type": "markdown",
      "source": [
        "Dados TEP"
      ],
      "metadata": {
        "id": "ZzEvyeeC2xrE"
      }
    },
    {
      "cell_type": "code",
      "source": [
        "from google.colab import drive\n",
        "drive.mount('/content/drive')"
      ],
      "metadata": {
        "colab": {
          "base_uri": "https://localhost:8080/"
        },
        "id": "XgG7WBLQ3iuB",
        "outputId": "49eb0e6c-43df-46cc-a678-99df46da6961"
      },
      "execution_count": 76,
      "outputs": [
        {
          "output_type": "stream",
          "name": "stdout",
          "text": [
            "Drive already mounted at /content/drive; to attempt to forcibly remount, call drive.mount(\"/content/drive\", force_remount=True).\n"
          ]
        }
      ]
    },
    {
      "cell_type": "code",
      "source": [
        "#importing all the necessary libraries \n",
        "!pip install pyreadr\n",
        "import pandas as pd\n",
        "import seaborn as sns\n",
        "import numpy as np\n",
        "import pyreadr as py # library to read .Rdata files in python\n",
        "import sqlite3\n",
        "import os\n",
        "import matplotlib.pyplot as plt\n",
        "from sklearn.metrics import multilabel_confusion_matrix,confusion_matrix,classification_report\n",
        "import matplotlib.pyplot as plt\n",
        "from sklearn.preprocessing import StandardScaler,Normalizer\n",
        "from sklearn.feature_extraction.text import TfidfVectorizer,CountVectorizer\n",
        "from sklearn.model_selection import train_test_split\n",
        "from keras.preprocessing.text import Tokenizer,one_hot\n",
        "from keras.preprocessing.sequence import pad_sequences\n",
        "from keras.layers import LSTM, BatchNormalization,concatenate,Flatten,Embedding,Dense,Dropout,MaxPooling2D,Reshape,BatchNormalization\n",
        "from keras.models import Sequential\n",
        "from keras import Model,Input\n",
        "from keras.layers.convolutional import Conv2D,Conv1D\n",
        "import keras.backend as k\n",
        "from sklearn.metrics import roc_auc_score,f1_score\n",
        "import tensorflow as tf\n",
        "from keras.callbacks import Callback, EarlyStopping\n",
        "from time import time\n",
        "from scipy.sparse import hstack\n",
        "from tensorflow.python.keras.callbacks import TensorBoard\n",
        "import pickle\n",
        "import datetime\n",
        "from tensorflow.keras.utils import to_categorical\n",
        "import missingno as msno\n",
        "import warnings\n",
        "warnings.filterwarnings(\"ignore\")"
      ],
      "metadata": {
        "colab": {
          "base_uri": "https://localhost:8080/"
        },
        "id": "BoPhUf292xUD",
        "outputId": "d0dc562d-7b2d-42f0-d7a9-bcf92b87f8b2"
      },
      "execution_count": 77,
      "outputs": [
        {
          "output_type": "stream",
          "name": "stdout",
          "text": [
            "Looking in indexes: https://pypi.org/simple, https://us-python.pkg.dev/colab-wheels/public/simple/\n",
            "Requirement already satisfied: pyreadr in /usr/local/lib/python3.7/dist-packages (0.4.6)\n",
            "Requirement already satisfied: pandas>=1.2.0 in /usr/local/lib/python3.7/dist-packages (from pyreadr) (1.3.5)\n",
            "Requirement already satisfied: pytz>=2017.3 in /usr/local/lib/python3.7/dist-packages (from pandas>=1.2.0->pyreadr) (2022.1)\n",
            "Requirement already satisfied: python-dateutil>=2.7.3 in /usr/local/lib/python3.7/dist-packages (from pandas>=1.2.0->pyreadr) (2.8.2)\n",
            "Requirement already satisfied: numpy>=1.17.3 in /usr/local/lib/python3.7/dist-packages (from pandas>=1.2.0->pyreadr) (1.21.6)\n",
            "Requirement already satisfied: six>=1.5 in /usr/local/lib/python3.7/dist-packages (from python-dateutil>=2.7.3->pandas>=1.2.0->pyreadr) (1.15.0)\n"
          ]
        }
      ]
    },
    {
      "cell_type": "code",
      "source": [
        "#reading train data in .R format\n",
        "a1 = py.read_r(\"../content/drive/MyDrive/DadosPWFTS/TEP_FaultFree_Training.RData\")\n",
        "a2 = py.read_r(\"../content/drive/MyDrive/DadosPWFTS/TEP_Faulty_Training.RData\")\n",
        "\n",
        "#reading test data in .R format\n",
        "\n",
        "#a3 = py.read_r(\"../content/drive/MyDrive/DadosPWFTS/TEP_FaultFree_Testing.RData\")\n",
        "#a4 = py.read_r(\"../content/drive/MyDrive/DadosPWFTS/TEP_Faulty_Testing (1).RData\")\n",
        "\n",
        "print(\"Objects that are present in a1 :\",a1.keys())\n",
        "print(\"Objects that are present in a2 :\",a2.keys())\n",
        "#print(\"Objects that are present in a3 :\",a3.keys())\n",
        "#print(\"Objects that are present in a4 :\",a4.keys())"
      ],
      "metadata": {
        "colab": {
          "base_uri": "https://localhost:8080/"
        },
        "id": "cGZxrDfe20Ih",
        "outputId": "0387fdb6-b772-4480-d860-3e0bf932c432"
      },
      "execution_count": 78,
      "outputs": [
        {
          "output_type": "stream",
          "name": "stdout",
          "text": [
            "Objects that are present in a1 : odict_keys(['fault_free_training'])\n",
            "Objects that are present in a2 : odict_keys(['faulty_training'])\n"
          ]
        }
      ]
    },
    {
      "cell_type": "code",
      "source": [
        ""
      ],
      "metadata": {
        "id": "gIHB0grJf_s6"
      },
      "execution_count": 78,
      "outputs": []
    },
    {
      "cell_type": "code",
      "source": [
        "#REading the .Rdata files in pandas dataframe and saving it in .csv file\n",
        "#reading train data\n",
        "b1 = a1['fault_free_training']\n",
        "b2 = a2['faulty_training']\n",
        "#reading test data\n",
        "#b3 = a3['fault_free_testing']\n",
        "#b4 = a4['faulty_testing']\n",
        "\n",
        "# concatinating the train and the test dataset\n",
        "frames_tr = [b1]\n",
        "train_ts = pd.concat(frames_tr)\n",
        "frames_ts = [b2]\n",
        "test = pd.concat(frames_ts)\n",
        "#all_data_TEP = [train_ts,test]\n",
        "#all_TEP = pd.concat(all_data_TEP)"
      ],
      "metadata": {
        "id": "A2Hx0MVB20Ci"
      },
      "execution_count": 79,
      "outputs": []
    },
    {
      "cell_type": "code",
      "source": [
        "print(test)"
      ],
      "metadata": {
        "id": "xViNXTfW6NtS",
        "outputId": "9ae52281-690d-460c-fc75-6d0859cc4de4",
        "colab": {
          "base_uri": "https://localhost:8080/"
        }
      },
      "execution_count": 80,
      "outputs": [
        {
          "output_type": "stream",
          "name": "stdout",
          "text": [
            "         faultNumber  simulationRun  sample  xmeas_1  xmeas_2  xmeas_3  \\\n",
            "0                  1            1.0       1  0.25038   3674.0   4529.0   \n",
            "1                  1            1.0       2  0.25109   3659.4   4556.6   \n",
            "2                  1            1.0       3  0.25038   3660.3   4477.8   \n",
            "3                  1            1.0       4  0.24977   3661.3   4512.1   \n",
            "4                  1            1.0       5  0.29405   3679.0   4497.0   \n",
            "...              ...            ...     ...      ...      ...      ...   \n",
            "4999995           20          500.0     496  0.23419   3655.3   4461.7   \n",
            "4999996           20          500.0     497  0.26704   3647.4   4540.2   \n",
            "4999997           20          500.0     498  0.26543   3630.3   4571.6   \n",
            "4999998           20          500.0     499  0.27671   3655.7   4498.9   \n",
            "4999999           20          500.0     500  0.27421   3640.4   4474.4   \n",
            "\n",
            "         xmeas_4  xmeas_5  xmeas_6  xmeas_7  ...   xmv_2   xmv_3   xmv_4  \\\n",
            "0         9.2320   26.889   42.402   2704.3  ...  53.744  24.657  62.544   \n",
            "1         9.4264   26.721   42.576   2705.0  ...  53.414  24.588  59.259   \n",
            "2         9.4426   26.875   42.070   2706.2  ...  54.357  24.666  61.275   \n",
            "3         9.4776   26.758   42.063   2707.2  ...  53.946  24.725  59.856   \n",
            "4         9.3381   26.889   42.650   2705.1  ...  53.658  28.797  60.717   \n",
            "...          ...      ...      ...      ...  ...     ...     ...     ...   \n",
            "4999995   9.3448   27.008   42.481   2703.0  ...  53.670  23.350  61.061   \n",
            "4999996   9.3546   27.034   42.671   2704.7  ...  54.650  26.362  60.020   \n",
            "4999997   9.4089   27.129   42.470   2705.1  ...  54.274  26.521  59.824   \n",
            "4999998   9.3781   27.353   42.281   2705.8  ...  53.506  26.781  62.818   \n",
            "4999999   9.3866   27.145   41.985   2706.0  ...  53.800  27.027  59.757   \n",
            "\n",
            "          xmv_5   xmv_6   xmv_7   xmv_8   xmv_9  xmv_10  xmv_11  \n",
            "0        22.137  39.935  42.323  47.757  47.510  41.258  18.447  \n",
            "1        22.084  40.176  38.554  43.692  47.427  41.359  17.194  \n",
            "2        22.380  40.244  38.990  46.699  47.468  41.199  20.530  \n",
            "3        22.277  40.257  38.072  47.541  47.658  41.643  18.089  \n",
            "4        21.947  39.144  41.955  47.645  47.346  41.507  18.461  \n",
            "...         ...     ...     ...     ...     ...     ...     ...  \n",
            "4999995  20.719  40.999  38.653  47.386  47.528  40.212  17.659  \n",
            "4999996  20.263  41.579  33.624  47.536  47.647  41.199  18.741  \n",
            "4999997  20.189  41.505  40.967  52.437  47.802  41.302  23.199  \n",
            "4999998  20.453  40.208  40.957  47.628  48.086  40.510  15.932  \n",
            "4999999  20.157  40.326  36.039  48.885  48.170  41.115  15.752  \n",
            "\n",
            "[5000000 rows x 55 columns]\n"
          ]
        }
      ]
    },
    {
      "cell_type": "code",
      "source": [
        "print(test)"
      ],
      "metadata": {
        "colab": {
          "base_uri": "https://localhost:8080/"
        },
        "id": "c0sLIYFzN7Sq",
        "outputId": "69e69a70-495c-4a14-9983-970c7a006762"
      },
      "execution_count": 81,
      "outputs": [
        {
          "output_type": "stream",
          "name": "stdout",
          "text": [
            "         faultNumber  simulationRun  sample  xmeas_1  xmeas_2  xmeas_3  \\\n",
            "0                  1            1.0       1  0.25038   3674.0   4529.0   \n",
            "1                  1            1.0       2  0.25109   3659.4   4556.6   \n",
            "2                  1            1.0       3  0.25038   3660.3   4477.8   \n",
            "3                  1            1.0       4  0.24977   3661.3   4512.1   \n",
            "4                  1            1.0       5  0.29405   3679.0   4497.0   \n",
            "...              ...            ...     ...      ...      ...      ...   \n",
            "4999995           20          500.0     496  0.23419   3655.3   4461.7   \n",
            "4999996           20          500.0     497  0.26704   3647.4   4540.2   \n",
            "4999997           20          500.0     498  0.26543   3630.3   4571.6   \n",
            "4999998           20          500.0     499  0.27671   3655.7   4498.9   \n",
            "4999999           20          500.0     500  0.27421   3640.4   4474.4   \n",
            "\n",
            "         xmeas_4  xmeas_5  xmeas_6  xmeas_7  ...   xmv_2   xmv_3   xmv_4  \\\n",
            "0         9.2320   26.889   42.402   2704.3  ...  53.744  24.657  62.544   \n",
            "1         9.4264   26.721   42.576   2705.0  ...  53.414  24.588  59.259   \n",
            "2         9.4426   26.875   42.070   2706.2  ...  54.357  24.666  61.275   \n",
            "3         9.4776   26.758   42.063   2707.2  ...  53.946  24.725  59.856   \n",
            "4         9.3381   26.889   42.650   2705.1  ...  53.658  28.797  60.717   \n",
            "...          ...      ...      ...      ...  ...     ...     ...     ...   \n",
            "4999995   9.3448   27.008   42.481   2703.0  ...  53.670  23.350  61.061   \n",
            "4999996   9.3546   27.034   42.671   2704.7  ...  54.650  26.362  60.020   \n",
            "4999997   9.4089   27.129   42.470   2705.1  ...  54.274  26.521  59.824   \n",
            "4999998   9.3781   27.353   42.281   2705.8  ...  53.506  26.781  62.818   \n",
            "4999999   9.3866   27.145   41.985   2706.0  ...  53.800  27.027  59.757   \n",
            "\n",
            "          xmv_5   xmv_6   xmv_7   xmv_8   xmv_9  xmv_10  xmv_11  \n",
            "0        22.137  39.935  42.323  47.757  47.510  41.258  18.447  \n",
            "1        22.084  40.176  38.554  43.692  47.427  41.359  17.194  \n",
            "2        22.380  40.244  38.990  46.699  47.468  41.199  20.530  \n",
            "3        22.277  40.257  38.072  47.541  47.658  41.643  18.089  \n",
            "4        21.947  39.144  41.955  47.645  47.346  41.507  18.461  \n",
            "...         ...     ...     ...     ...     ...     ...     ...  \n",
            "4999995  20.719  40.999  38.653  47.386  47.528  40.212  17.659  \n",
            "4999996  20.263  41.579  33.624  47.536  47.647  41.199  18.741  \n",
            "4999997  20.189  41.505  40.967  52.437  47.802  41.302  23.199  \n",
            "4999998  20.453  40.208  40.957  47.628  48.086  40.510  15.932  \n",
            "4999999  20.157  40.326  36.039  48.885  48.170  41.115  15.752  \n",
            "\n",
            "[5000000 rows x 55 columns]\n"
          ]
        }
      ]
    },
    {
      "cell_type": "code",
      "source": [
        "#for i in range(14600000):\n",
        "  #(test[i]) "
      ],
      "metadata": {
        "id": "3mOXKaJiPIra"
      },
      "execution_count": 82,
      "outputs": []
    },
    {
      "cell_type": "code",
      "source": [
        "print('Shape of the Train dataset:', train_ts.shape)\n",
        "print(\"Shape of the Test dataset:\", test.shape)\n",
        "\n",
        "print(\"Distrubution of faults in train dataset:\")\n",
        "print(train_ts['faultNumber'].value_counts())\n",
        "\n",
        "print(\"Distrubution of faults in test dataset:\")\n",
        "print(test['faultNumber'].value_counts())"
      ],
      "metadata": {
        "colab": {
          "base_uri": "https://localhost:8080/"
        },
        "id": "ekgsTNSz2z38",
        "outputId": "48c0c1ce-e9ea-443e-f569-424ccee92440"
      },
      "execution_count": 83,
      "outputs": [
        {
          "output_type": "stream",
          "name": "stdout",
          "text": [
            "Shape of the Train dataset: (250000, 55)\n",
            "Shape of the Test dataset: (5000000, 55)\n",
            "Distrubution of faults in train dataset:\n",
            "0.0    250000\n",
            "Name: faultNumber, dtype: int64\n",
            "Distrubution of faults in test dataset:\n",
            "1     250000\n",
            "2     250000\n",
            "19    250000\n",
            "18    250000\n",
            "17    250000\n",
            "16    250000\n",
            "15    250000\n",
            "14    250000\n",
            "13    250000\n",
            "12    250000\n",
            "11    250000\n",
            "10    250000\n",
            "9     250000\n",
            "8     250000\n",
            "7     250000\n",
            "6     250000\n",
            "5     250000\n",
            "4     250000\n",
            "3     250000\n",
            "20    250000\n",
            "Name: faultNumber, dtype: int64\n"
          ]
        }
      ]
    },
    {
      "cell_type": "code",
      "source": [
        "train_ts_2 = train_ts[0:50000]\n",
        "test_2 = test[0:50000]"
      ],
      "metadata": {
        "id": "KX9kG9j_XDfR"
      },
      "execution_count": 84,
      "outputs": []
    },
    {
      "cell_type": "code",
      "source": [
        "print(train_ts_2)"
      ],
      "metadata": {
        "id": "VwRkDmEtY_hJ",
        "outputId": "6648bff7-b615-4904-e2c8-9e652c0a0313",
        "colab": {
          "base_uri": "https://localhost:8080/"
        }
      },
      "execution_count": 85,
      "outputs": [
        {
          "output_type": "stream",
          "name": "stdout",
          "text": [
            "       faultNumber  simulationRun  sample  xmeas_1  xmeas_2  xmeas_3  xmeas_4  \\\n",
            "0              0.0            1.0       1  0.25038   3674.0   4529.0   9.2320   \n",
            "1              0.0            1.0       2  0.25109   3659.4   4556.6   9.4264   \n",
            "2              0.0            1.0       3  0.25038   3660.3   4477.8   9.4426   \n",
            "3              0.0            1.0       4  0.24977   3661.3   4512.1   9.4776   \n",
            "4              0.0            1.0       5  0.29405   3679.0   4497.0   9.3381   \n",
            "...            ...            ...     ...      ...      ...      ...      ...   \n",
            "49995          0.0          100.0     496  0.22895   3687.0   4589.8   9.3720   \n",
            "49996          0.0          100.0     497  0.23682   3609.3   4423.7   9.4411   \n",
            "49997          0.0          100.0     498  0.23891   3557.8   4481.0   9.4321   \n",
            "49998          0.0          100.0     499  0.24640   3647.8   4452.3   9.4553   \n",
            "49999          0.0          100.0     500  0.24346   3672.7   4471.3   9.4429   \n",
            "\n",
            "       xmeas_5  xmeas_6  xmeas_7  ...   xmv_2   xmv_3   xmv_4   xmv_5   xmv_6  \\\n",
            "0       26.889   42.402   2704.3  ...  53.744  24.657  62.544  22.137  39.935   \n",
            "1       26.721   42.576   2705.0  ...  53.414  24.588  59.259  22.084  40.176   \n",
            "2       26.875   42.070   2706.2  ...  54.357  24.666  61.275  22.380  40.244   \n",
            "3       26.758   42.063   2707.2  ...  53.946  24.725  59.856  22.277  40.257   \n",
            "4       26.889   42.650   2705.1  ...  53.658  28.797  60.717  21.947  39.144   \n",
            "...        ...      ...      ...  ...     ...     ...     ...     ...     ...   \n",
            "49995   26.993   42.364   2708.3  ...  54.107  22.390  61.976  22.523  39.856   \n",
            "49996   26.462   42.155   2709.5  ...  53.536  23.127  62.989  22.967  38.984   \n",
            "49997   27.052   42.499   2711.4  ...  52.850  22.922  60.308  23.140  38.761   \n",
            "49998   27.255   42.168   2715.3  ...  53.489  23.951  59.029  23.145  39.199   \n",
            "49999   27.379   42.297   2717.2  ...  53.262  24.240  60.735  23.082  39.436   \n",
            "\n",
            "        xmv_7   xmv_8   xmv_9  xmv_10  xmv_11  \n",
            "0      42.323  47.757  47.510  41.258  18.447  \n",
            "1      38.554  43.692  47.427  41.359  17.194  \n",
            "2      38.990  46.699  47.468  41.199  20.530  \n",
            "3      38.072  47.541  47.658  41.643  18.089  \n",
            "4      41.955  47.645  47.346  41.507  18.461  \n",
            "...       ...     ...     ...     ...     ...  \n",
            "49995  40.479  47.234  49.873  40.387  17.538  \n",
            "49996  39.243  46.949  49.827  40.830  15.880  \n",
            "49997  42.700  47.216  49.849  39.936  16.522  \n",
            "49998  37.028  49.481  50.068  41.689  17.760  \n",
            "49999  35.752  45.904  50.296  40.873  17.063  \n",
            "\n",
            "[50000 rows x 55 columns]\n"
          ]
        }
      ]
    },
    {
      "cell_type": "code",
      "source": [
        "print(test)# com falhas"
      ],
      "metadata": {
        "colab": {
          "base_uri": "https://localhost:8080/"
        },
        "id": "b0R2nOz8QSIf",
        "outputId": "1055ff1b-ab88-42f7-ca48-b8e74c2f532c"
      },
      "execution_count": 86,
      "outputs": [
        {
          "output_type": "stream",
          "name": "stdout",
          "text": [
            "         faultNumber  simulationRun  sample  xmeas_1  xmeas_2  xmeas_3  \\\n",
            "0                  1            1.0       1  0.25038   3674.0   4529.0   \n",
            "1                  1            1.0       2  0.25109   3659.4   4556.6   \n",
            "2                  1            1.0       3  0.25038   3660.3   4477.8   \n",
            "3                  1            1.0       4  0.24977   3661.3   4512.1   \n",
            "4                  1            1.0       5  0.29405   3679.0   4497.0   \n",
            "...              ...            ...     ...      ...      ...      ...   \n",
            "4999995           20          500.0     496  0.23419   3655.3   4461.7   \n",
            "4999996           20          500.0     497  0.26704   3647.4   4540.2   \n",
            "4999997           20          500.0     498  0.26543   3630.3   4571.6   \n",
            "4999998           20          500.0     499  0.27671   3655.7   4498.9   \n",
            "4999999           20          500.0     500  0.27421   3640.4   4474.4   \n",
            "\n",
            "         xmeas_4  xmeas_5  xmeas_6  xmeas_7  ...   xmv_2   xmv_3   xmv_4  \\\n",
            "0         9.2320   26.889   42.402   2704.3  ...  53.744  24.657  62.544   \n",
            "1         9.4264   26.721   42.576   2705.0  ...  53.414  24.588  59.259   \n",
            "2         9.4426   26.875   42.070   2706.2  ...  54.357  24.666  61.275   \n",
            "3         9.4776   26.758   42.063   2707.2  ...  53.946  24.725  59.856   \n",
            "4         9.3381   26.889   42.650   2705.1  ...  53.658  28.797  60.717   \n",
            "...          ...      ...      ...      ...  ...     ...     ...     ...   \n",
            "4999995   9.3448   27.008   42.481   2703.0  ...  53.670  23.350  61.061   \n",
            "4999996   9.3546   27.034   42.671   2704.7  ...  54.650  26.362  60.020   \n",
            "4999997   9.4089   27.129   42.470   2705.1  ...  54.274  26.521  59.824   \n",
            "4999998   9.3781   27.353   42.281   2705.8  ...  53.506  26.781  62.818   \n",
            "4999999   9.3866   27.145   41.985   2706.0  ...  53.800  27.027  59.757   \n",
            "\n",
            "          xmv_5   xmv_6   xmv_7   xmv_8   xmv_9  xmv_10  xmv_11  \n",
            "0        22.137  39.935  42.323  47.757  47.510  41.258  18.447  \n",
            "1        22.084  40.176  38.554  43.692  47.427  41.359  17.194  \n",
            "2        22.380  40.244  38.990  46.699  47.468  41.199  20.530  \n",
            "3        22.277  40.257  38.072  47.541  47.658  41.643  18.089  \n",
            "4        21.947  39.144  41.955  47.645  47.346  41.507  18.461  \n",
            "...         ...     ...     ...     ...     ...     ...     ...  \n",
            "4999995  20.719  40.999  38.653  47.386  47.528  40.212  17.659  \n",
            "4999996  20.263  41.579  33.624  47.536  47.647  41.199  18.741  \n",
            "4999997  20.189  41.505  40.967  52.437  47.802  41.302  23.199  \n",
            "4999998  20.453  40.208  40.957  47.628  48.086  40.510  15.932  \n",
            "4999999  20.157  40.326  36.039  48.885  48.170  41.115  15.752  \n",
            "\n",
            "[5000000 rows x 55 columns]\n"
          ]
        }
      ]
    },
    {
      "cell_type": "code",
      "source": [
        "print(train_ts)# sem falhas"
      ],
      "metadata": {
        "colab": {
          "base_uri": "https://localhost:8080/"
        },
        "id": "lk9XQX8xPvTf",
        "outputId": "1ec0729f-1153-4801-fc61-0d03c0a71e5f"
      },
      "execution_count": 87,
      "outputs": [
        {
          "output_type": "stream",
          "name": "stdout",
          "text": [
            "        faultNumber  simulationRun  sample  xmeas_1  xmeas_2  xmeas_3  \\\n",
            "0               0.0            1.0       1  0.25038   3674.0   4529.0   \n",
            "1               0.0            1.0       2  0.25109   3659.4   4556.6   \n",
            "2               0.0            1.0       3  0.25038   3660.3   4477.8   \n",
            "3               0.0            1.0       4  0.24977   3661.3   4512.1   \n",
            "4               0.0            1.0       5  0.29405   3679.0   4497.0   \n",
            "...             ...            ...     ...      ...      ...      ...   \n",
            "249995          0.0          500.0     496  0.29325   3640.1   4473.0   \n",
            "249996          0.0          500.0     497  0.29134   3625.7   4506.2   \n",
            "249997          0.0          500.0     498  0.29438   3600.2   4478.3   \n",
            "249998          0.0          500.0     499  0.25269   3683.5   4486.4   \n",
            "249999          0.0          500.0     500  0.25214   3648.2   4467.8   \n",
            "\n",
            "        xmeas_4  xmeas_5  xmeas_6  xmeas_7  ...   xmv_2   xmv_3   xmv_4  \\\n",
            "0        9.2320   26.889   42.402   2704.3  ...  53.744  24.657  62.544   \n",
            "1        9.4264   26.721   42.576   2705.0  ...  53.414  24.588  59.259   \n",
            "2        9.4426   26.875   42.070   2706.2  ...  54.357  24.666  61.275   \n",
            "3        9.4776   26.758   42.063   2707.2  ...  53.946  24.725  59.856   \n",
            "4        9.3381   26.889   42.650   2705.1  ...  53.658  28.797  60.717   \n",
            "...         ...      ...      ...      ...  ...     ...     ...     ...   \n",
            "249995   9.1949   26.867   42.379   2700.2  ...  53.429  29.249  60.773   \n",
            "249996   9.2109   26.889   42.291   2700.6  ...  53.830  28.975  61.517   \n",
            "249997   9.1957   26.820   42.448   2700.3  ...  54.163  28.676  61.656   \n",
            "249998   9.2832   27.188   42.757   2697.4  ...  53.453  24.889  61.564   \n",
            "249999   9.1344   26.886   42.534   2695.1  ...  53.676  24.943  61.254   \n",
            "\n",
            "         xmv_5   xmv_6   xmv_7   xmv_8   xmv_9  xmv_10  xmv_11  \n",
            "0       22.137  39.935  42.323  47.757  47.510  41.258  18.447  \n",
            "1       22.084  40.176  38.554  43.692  47.427  41.359  17.194  \n",
            "2       22.380  40.244  38.990  46.699  47.468  41.199  20.530  \n",
            "3       22.277  40.257  38.072  47.541  47.658  41.643  18.089  \n",
            "4       21.947  39.144  41.955  47.645  47.346  41.507  18.461  \n",
            "...        ...     ...     ...     ...     ...     ...     ...  \n",
            "249995  21.532  40.451  34.064  48.953  48.291  40.812  18.756  \n",
            "249996  21.750  42.762  42.645  51.055  48.589  40.933  19.360  \n",
            "249997  21.487  42.109  39.770  46.770  48.648  41.465  19.344  \n",
            "249998  21.392  39.334  42.274  43.623  48.797  39.835  18.512  \n",
            "249999  21.208  38.991  42.873  44.400  48.876  41.076  16.158  \n",
            "\n",
            "[250000 rows x 55 columns]\n"
          ]
        }
      ]
    },
    {
      "cell_type": "code",
      "metadata": {
        "id": "x7X7YJiV3Ucu"
      },
      "source": [
        "import warnings\n",
        "warnings.filterwarnings('ignore')\n",
        "\n",
        "import numpy as np\n",
        "import pandas as pd\n",
        "import matplotlib as plt\n",
        "import matplotlib.pyplot as plt\n",
        "from pyFTS.models import hofts\n",
        "from pyFTS.partitioners import Grid\n",
        "from pyFTS.benchmarks import Measures"
      ],
      "execution_count": 88,
      "outputs": []
    },
    {
      "cell_type": "code",
      "source": [
        "from pyFTS.data import TAIEX, Malaysia, sunspots, artificial\n",
        "from statsmodels.tsa.stattools import acf, pacf\n",
        "\n",
        "datasets = {}\n",
        "\n",
        "dff = pd.read_excel('../content/drive/MyDrive/DadosPWFTS/DadosFalha.xlsx')\n",
        "dfn = pd.read_excel('../content/drive/MyDrive/DadosPWFTS/DadosNormais.xlsx')\n",
        "\n",
        "dados_treino_Falha = dff[0:2300] \n",
        "dados_teste_Falha = dff[1800:2300]\n",
        "\n",
        "dados_treino_Normal = dfn[0:1800] \n",
        "dados_teste_Normal = dfn[1500:1800]"
      ],
      "metadata": {
        "id": "HzuCNrKnL98T"
      },
      "execution_count": 89,
      "outputs": []
    },
    {
      "cell_type": "code",
      "source": [
        "print(dados_treino_Falha)"
      ],
      "metadata": {
        "id": "1hgOGIqqPpeK",
        "outputId": "28e45c52-1734-411d-f581-12faaf5bb7a4",
        "colab": {
          "base_uri": "https://localhost:8080/"
        }
      },
      "execution_count": 90,
      "outputs": [
        {
          "output_type": "stream",
          "name": "stdout",
          "text": [
            "                    Data  LIT_2012KS_0251_FilteredSignal  \\\n",
            "0    2021-12-05 08:50:13                       35.298019   \n",
            "1    2021-12-05 08:51:25                       69.698112   \n",
            "2    2021-12-05 08:52:37                       86.492775   \n",
            "3    2021-12-05 08:53:49                       87.605766   \n",
            "4    2021-12-05 08:55:01                       87.592270   \n",
            "...                  ...                             ...   \n",
            "2295 2021-12-09 22:55:01                       39.161282   \n",
            "2296 2021-12-09 22:56:13                       34.402630   \n",
            "2297 2021-12-09 22:57:25                       29.267023   \n",
            "2298 2021-12-09 22:58:37                       24.829168   \n",
            "2299 2021-12-09 22:59:49                       18.879450   \n",
            "\n",
            "      _AL_2012KS_06M1_SpeedActual  WIT_1085KS_2300_BeltLoad  \\\n",
            "0                        0.000000                604.000305   \n",
            "1                        0.000000                594.372681   \n",
            "2                        0.000000                548.985413   \n",
            "3                        0.000000                541.098450   \n",
            "4                        0.862209                599.183777   \n",
            "...                           ...                       ...   \n",
            "2295                    56.614925                801.934204   \n",
            "2296                    56.625069                818.409912   \n",
            "2297                    57.760586                808.574951   \n",
            "2298                    62.614220                785.475891   \n",
            "2299                    55.106403                770.479858   \n",
            "\n",
            "      WIT_1085KS_2300_Rate  status  \n",
            "0             12190.730469     0.0  \n",
            "1             11984.549805     0.0  \n",
            "2             10856.699219     0.0  \n",
            "3             11106.334961     0.0  \n",
            "4             11941.248047     0.0  \n",
            "...                    ...     ...  \n",
            "2295          15929.611328     0.0  \n",
            "2296          15997.693359     0.0  \n",
            "2297          16459.722656     0.0  \n",
            "2298          16399.457031     0.0  \n",
            "2299          15981.281250     0.0  \n",
            "\n",
            "[2300 rows x 6 columns]\n"
          ]
        }
      ]
    },
    {
      "cell_type": "code",
      "source": [
        "print(dados_treino_Normal)"
      ],
      "metadata": {
        "id": "tgN0lJBPqli4",
        "outputId": "f1a560e3-8e1b-481e-81b5-3f58b548011d",
        "colab": {
          "base_uri": "https://localhost:8080/"
        }
      },
      "execution_count": 91,
      "outputs": [
        {
          "output_type": "stream",
          "name": "stdout",
          "text": [
            "                    Data  LIT_2012KS_0251_FilteredSignal  \\\n",
            "0    2021-12-05 07:20:13                        2.832069   \n",
            "1    2021-12-05 07:21:25                        4.418116   \n",
            "2    2021-12-05 07:22:37                       22.953905   \n",
            "3    2021-12-05 07:23:49                       33.815975   \n",
            "4    2021-12-05 07:25:01                       33.374435   \n",
            "...                  ...                             ...   \n",
            "1795 2021-12-07 02:38:13                       11.774282   \n",
            "1796 2021-12-07 02:39:25                        4.781181   \n",
            "1797 2021-12-07 02:40:37                        3.563411   \n",
            "1798 2021-12-07 02:41:49                        3.671766   \n",
            "1799 2021-12-07 02:43:01                        3.691521   \n",
            "\n",
            "      _AL_2012KS_06M1_SpeedActual  WIT_1085KS_2300_BeltLoad  \\\n",
            "0                        0.000000                295.496826   \n",
            "1                        0.000000                321.693665   \n",
            "2                       14.761859                337.279755   \n",
            "3                       71.454430                426.397614   \n",
            "4                       90.998169                511.387665   \n",
            "...                           ...                       ...   \n",
            "1795                    77.889702                 -0.883747   \n",
            "1796                    11.795214                  0.140270   \n",
            "1797                     0.000000                 -2.504870   \n",
            "1798                     0.000000                 -1.420898   \n",
            "1799                     0.000000                 -0.388333   \n",
            "\n",
            "      WIT_1085KS_2300_Rate  status  \n",
            "0              6383.887695     1.0  \n",
            "1              6722.264648     1.0  \n",
            "2              7027.466309     1.0  \n",
            "3              8533.001953     1.0  \n",
            "4             10280.833984     1.0  \n",
            "...                    ...     ...  \n",
            "1795             -3.468710     1.0  \n",
            "1796             -7.572711     1.0  \n",
            "1797             -0.662581     1.0  \n",
            "1798             -3.140172     1.0  \n",
            "1799             -2.939214     1.0  \n",
            "\n",
            "[1800 rows x 6 columns]\n"
          ]
        }
      ]
    },
    {
      "cell_type": "code",
      "source": [
        "print(dados_teste_Falha)"
      ],
      "metadata": {
        "id": "lUTknJhWqlSV",
        "outputId": "dc27a03d-8475-4183-e2c2-769c7de568f3",
        "colab": {
          "base_uri": "https://localhost:8080/"
        }
      },
      "execution_count": 92,
      "outputs": [
        {
          "output_type": "stream",
          "name": "stdout",
          "text": [
            "                    Data  LIT_2012KS_0251_FilteredSignal  \\\n",
            "1800 2021-12-08 22:32:13                       68.584373   \n",
            "1801 2021-12-08 22:33:25                       79.267204   \n",
            "1802 2021-12-08 22:34:37                       74.231430   \n",
            "1803 2021-12-08 22:35:49                       67.143143   \n",
            "1804 2021-12-08 22:37:01                       56.879524   \n",
            "...                  ...                             ...   \n",
            "2295 2021-12-09 22:55:01                       39.161282   \n",
            "2296 2021-12-09 22:56:13                       34.402630   \n",
            "2297 2021-12-09 22:57:25                       29.267023   \n",
            "2298 2021-12-09 22:58:37                       24.829168   \n",
            "2299 2021-12-09 22:59:49                       18.879450   \n",
            "\n",
            "      _AL_2012KS_06M1_SpeedActual  WIT_1085KS_2300_BeltLoad  \\\n",
            "1800                    36.922737                551.704773   \n",
            "1801                    51.525627                551.704529   \n",
            "1802                    59.430199                551.716675   \n",
            "1803                    59.987019                551.726257   \n",
            "1804                    54.469879                551.734497   \n",
            "...                           ...                       ...   \n",
            "2295                    56.614925                801.934204   \n",
            "2296                    56.625069                818.409912   \n",
            "2297                    57.760586                808.574951   \n",
            "2298                    62.614220                785.475891   \n",
            "2299                    55.106403                770.479858   \n",
            "\n",
            "      WIT_1085KS_2300_Rate  status  \n",
            "1800              0.000000     0.0  \n",
            "1801              0.000000     0.0  \n",
            "1802              0.000000     0.0  \n",
            "1803              0.000000     0.0  \n",
            "1804              0.000000     0.0  \n",
            "...                    ...     ...  \n",
            "2295          15929.611328     0.0  \n",
            "2296          15997.693359     0.0  \n",
            "2297          16459.722656     0.0  \n",
            "2298          16399.457031     0.0  \n",
            "2299          15981.281250     0.0  \n",
            "\n",
            "[500 rows x 6 columns]\n"
          ]
        }
      ]
    },
    {
      "cell_type": "code",
      "source": [
        "print(dados_teste_Normal)"
      ],
      "metadata": {
        "id": "zH5XveUeqw3m",
        "outputId": "975a07c5-b3d1-43b6-fc4b-20a351929598",
        "colab": {
          "base_uri": "https://localhost:8080/"
        }
      },
      "execution_count": 93,
      "outputs": [
        {
          "output_type": "stream",
          "name": "stdout",
          "text": [
            "                    Data  LIT_2012KS_0251_FilteredSignal  \\\n",
            "1500 2021-12-08 09:28:37                       43.040955   \n",
            "1501 2021-12-08 09:29:49                       37.851479   \n",
            "1502 2021-12-08 09:31:01                       32.487022   \n",
            "1503 2021-12-08 09:32:13                       27.220686   \n",
            "1504 2021-12-08 09:33:25                       22.106337   \n",
            "...                  ...                             ...   \n",
            "1795 2021-12-07 02:38:13                       11.774282   \n",
            "1796 2021-12-07 02:39:25                        4.781181   \n",
            "1797 2021-12-07 02:40:37                        3.563411   \n",
            "1798 2021-12-07 02:41:49                        3.671766   \n",
            "1799 2021-12-07 02:43:01                        3.691521   \n",
            "\n",
            "      _AL_2012KS_06M1_SpeedActual  WIT_1085KS_2300_BeltLoad  \\\n",
            "1500                    59.528919                297.226349   \n",
            "1501                    59.413948                246.993668   \n",
            "1502                    59.192154                220.550995   \n",
            "1503                    59.097382                227.279419   \n",
            "1504                    62.985394                251.745789   \n",
            "...                           ...                       ...   \n",
            "1795                    77.889702                 -0.883747   \n",
            "1796                    11.795214                  0.140270   \n",
            "1797                     0.000000                 -2.504870   \n",
            "1798                     0.000000                 -1.420898   \n",
            "1799                     0.000000                 -0.388333   \n",
            "\n",
            "      WIT_1085KS_2300_Rate  status  \n",
            "1500           5945.035645     1.0  \n",
            "1501           5126.424316     1.0  \n",
            "1502           4901.050781     1.0  \n",
            "1503           5262.369141     1.0  \n",
            "1504           5301.358398     1.0  \n",
            "...                    ...     ...  \n",
            "1795             -3.468710     1.0  \n",
            "1796             -7.572711     1.0  \n",
            "1797             -0.662581     1.0  \n",
            "1798             -3.140172     1.0  \n",
            "1799             -2.939214     1.0  \n",
            "\n",
            "[300 rows x 6 columns]\n"
          ]
        }
      ]
    },
    {
      "cell_type": "markdown",
      "source": [
        "## Analisando as Séries Temporais"
      ],
      "metadata": {
        "id": "bEFAv7gGH3O2"
      }
    },
    {
      "cell_type": "code",
      "source": [
        "#Dados sem Falhas\n",
        "\n",
        "from pyFTS.data import TAIEX, Malaysia, sunspots, artificial\n",
        "from statsmodels.tsa.stattools import acf, pacf\n",
        "\n",
        "datasets1 = {}\n",
        "\n",
        "#datasets1['LIT'] = dados_treino_Falha.get('LIT_2012KS_0251_FilteredSignal')\n",
        "datasets1['LIT'] = train_ts_2.get('xmeas_6')\n",
        "#datasets1['SpeedActual'] = dados_treino_Falha.get('_AL_2012KS_06M1_SpeedActual')\n",
        "datasets1['SpeedActual'] = train_ts_2.get('xmeas_7')\n",
        "#datasets1['BeltLoad'] = dados_treino_Falha.get('WIT_1085KS_2300_BeltLoad')\n",
        "datasets1['BeltLoad'] = train_ts_2.get('xmeas_8')\n",
        "#datasets1['Rate'] = dados_treino_Falha.get('WIT_1085KS_2300_Rate')\n",
        "datasets1['Rate'] = train_ts_2.get('xmeas_9')"
      ],
      "metadata": {
        "id": "tW5-BzLk3zhr"
      },
      "execution_count": 138,
      "outputs": []
    },
    {
      "cell_type": "code",
      "source": [
        "##Dados sem Falhas\n",
        "\n",
        "#from pyFTS.data import TAIEX, Malaysia, sunspots, artificial\n",
        "#from statsmodels.tsa.stattools import acf, pacf\n",
        "#\n",
        "#datasets1 = {}\n",
        "#\n",
        "##datasets1['LIT'] = dados_treino_Falha.get('LIT_2012KS_0251_FilteredSignal')\n",
        "#datasets1['LIT'] = train_ts.get('xmeas_6')\n",
        "##datasets1['SpeedActual'] = dados_treino_Falha.get('_AL_2012KS_06M1_SpeedActual')\n",
        "#datasets1['SpeedActual'] = train_ts.get('xmeas_7')\n",
        "##datasets1['BeltLoad'] = dados_treino_Falha.get('WIT_1085KS_2300_BeltLoad')\n",
        "#datasets1['BeltLoad'] = train_ts.get('xmeas_8')\n",
        "##datasets1['Rate'] = dados_treino_Falha.get('WIT_1085KS_2300_Rate')\n",
        "#datasets1['Rate'] = train_ts.get('xmeas_9')\n",
        "\n",
        "#fig1, ax = plt.subplots(nrows=4, ncols=4, figsize=[20,10])\n",
        "\n",
        "#for ct, (key, data) in enumerate(datasets1.items()): \n",
        "#  print(ct)\n",
        "#  print(data)\n",
        "#  _lags = np.arange(0,101)\n",
        "#  _acf = acf(data,nlags=100)\n",
        "#  _pacf = pacf(data,nlags=100)\n",
        "#  \n",
        "#  ax[0][ct].set_title(\"{}\".format(key))\n",
        "#  ax[0][ct].plot(data)\n",
        "#  \n",
        "#  ax[1][ct].set_title(\"{} 100 intances\".format(key))\n",
        "#  ax[1][ct].plot(data[:100])\n",
        "#  \n",
        "#  ax[2][ct].set_title(\"ACF {} - 100 lags\".format(key))\n",
        "#  ax[2][ct].plot(_lags, _acf, \"o\")\n",
        "#  ax[2][ct].vlines(_lags,[0],_acf)\n",
        "#  ax[2][ct].axhline(y=0, color='black')\n",
        "#  \n",
        "#  ax[3][ct].set_title(\"PACF {} - 100 lags\".format(key))\n",
        "#  ax[3][ct].plot(_lags, _pacf, \"o\")\n",
        "#  ax[3][ct].vlines(_lags,[0],_pacf)\n",
        "#  ax[3][ct].axhline(y=0, color='black')\n",
        "#\n",
        "#plt.tight_layout()"
      ],
      "metadata": {
        "id": "-2UBTAIDw1Qt"
      },
      "execution_count": 95,
      "outputs": []
    },
    {
      "cell_type": "code",
      "source": [
        "#Dados normais - com falhas\n",
        "from pyFTS.data import TAIEX, Malaysia, sunspots, artificial\n",
        "from statsmodels.tsa.stattools import acf, pacf\n",
        "\n",
        "datasets2 = {}\n",
        "\n",
        "#datasets2['LIT'] = dados_treino_Normal.get('LIT_2012KS_0251_FilteredSignal')\n",
        "datasets2['LIT'] = test_2.get('xmeas_6')\n",
        "#datasets2['SpeedActual'] = dados_treino_Normal.get('_AL_2012KS_06M1_SpeedActual')\n",
        "datasets2['SpeedActual'] = test_2.get('xmeas_7')\n",
        "#datasets2['BeltLoad'] = dados_treino_Normal.get('WIT_1085KS_2300_BeltLoad')\n",
        "datasets2['BeltLoad'] = test_2.get('xmeas_8')\n",
        "#datasets2['Rate'] = dados_treino_Normal.get('WIT_1085KS_2300_Rate')\n",
        "datasets2['Rate'] = test_2.get('xmeas_9')"
      ],
      "metadata": {
        "id": "1g4mVaso3_9J"
      },
      "execution_count": 139,
      "outputs": []
    },
    {
      "cell_type": "code",
      "source": [
        "##Dados normais - sem falhas\n",
        "#from pyFTS.data import TAIEX, Malaysia, sunspots, artificial\n",
        "#from statsmodels.tsa.stattools import acf, pacf\n",
        "\n",
        "#datasets2 = {}\n",
        "\n",
        "##datasets2['LIT'] = dados_treino_Normal.get('LIT_2012KS_0251_FilteredSignal')\n",
        "#datasets2['LIT'] = test.get('xmeas_6')\n",
        "##datasets2['SpeedActual'] = dados_treino_Normal.get('_AL_2012KS_06M1_SpeedActual')\n",
        "##datasets2['SpeedActual'] = test.get('xmeas_7')\n",
        "##datasets2['BeltLoad'] = dados_treino_Normal.get('WIT_1085KS_2300_BeltLoad')\n",
        "#datasets2['BeltLoad'] = test.get('xmeas_8')\n",
        "##datasets2['Rate'] = dados_treino_Normal.get('WIT_1085KS_2300_Rate')\n",
        "#datasets2['Rate'] = test.get('xmeas_9')\n",
        "\n",
        "\n",
        "#fig2, ax = plt.subplots(nrows=4, ncols=4, figsize=[20,10])\n",
        "\n",
        "#for ct, (key, data) in enumerate(datasets2.items()):\n",
        "#  print(ct)\n",
        "#  print(data)\n",
        "#  _lags = np.arange(0,101)\n",
        "#  _acf = acf(data,nlags=100)\n",
        "#  _pacf = pacf(data,nlags=100)\n",
        "#  \n",
        "#  ax[0][ct].set_title(\"{}\".format(key))\n",
        "#  ax[0][ct].plot(data)\n",
        "#  \n",
        "#  ax[1][ct].set_title(\"{} 100 intances\".format(key))\n",
        "#  ax[1][ct].plot(data[:100])\n",
        "#  \n",
        "#  ax[2][ct].set_title(\"ACF {} - 100 lags\".format(key))\n",
        "#  ax[2][ct].plot(_lags, _acf, \"o\")\n",
        "#  ax[2][ct].vlines(_lags,[0],_acf)\n",
        "#  ax[2][ct].axhline(y=0, color='black')\n",
        "#  \n",
        "#  ax[3][ct].set_title(\"PACF {} - 100 lags\".format(key))\n",
        "#  ax[3][ct].plot(_lags, _pacf, \"o\")\n",
        "#  ax[3][ct].vlines(_lags,[0],_pacf)\n",
        "#  ax[3][ct].axhline(y=0, color='black')\n",
        "\n",
        "#plt.tight_layout()"
      ],
      "metadata": {
        "id": "tbY2VNTXHhqv"
      },
      "execution_count": 97,
      "outputs": []
    },
    {
      "cell_type": "markdown",
      "source": [
        ""
      ],
      "metadata": {
        "id": "WkShaxIL7SYC"
      }
    },
    {
      "cell_type": "code",
      "source": [
        "##Dados normais - sem falhas\n",
        "#from pyFTS.data import TAIEX, Malaysia, sunspots, artificial\n",
        "#from statsmodels.tsa.stattools import acf, pacf\n",
        "\n",
        "#datasets3 = {}\n",
        "\n",
        "#datasets3['LIT'] = dados_teste_Normal.get('LIT_2012KS_0251_FilteredSignal')\n",
        "#datasets3['SpeedActual'] = dados_teste_Normal.get('_AL_2012KS_06M1_SpeedActual')\n",
        "#datasets3['BeltLoad'] = dados_teste_Normal.get('WIT_1085KS_2300_BeltLoad')\n",
        "#datasets3['Rate'] = dados_teste_Normal.get('WIT_1085KS_2300_Rate')\n",
        "\n",
        "\n",
        "#fig3, ax = plt.subplots(nrows=4, ncols=4, figsize=[20,10])\n",
        "\n",
        "#for ct, (key, data) in enumerate(datasets3.items()): \n",
        "#  _lags = np.arange(0,101)\n",
        "#  _acf = acf(data,nlags=100)\n",
        "#  _pacf = pacf(data,nlags=100)\n",
        "  \n",
        "#  ax[0][ct].set_title(\"{}\".format(key))\n",
        "#  ax[0][ct].plot(data)\n",
        "  \n",
        "#  ax[1][ct].set_title(\"{} 100 intances\".format(key))\n",
        "#  ax[1][ct].plot(data[:100])\n",
        "  \n",
        "#  ax[2][ct].set_title(\"ACF {} - 100 lags\".format(key))\n",
        "#  ax[2][ct].plot(_lags, _acf, \"o\")\n",
        "#  ax[2][ct].vlines(_lags,[0],_acf)\n",
        "#  ax[2][ct].axhline(y=0, color='black')\n",
        "  \n",
        "#  ax[3][ct].set_title(\"PACF {} - 100 lags\".format(key))\n",
        "#  ax[3][ct].plot(_lags, _pacf, \"o\")\n",
        "#  ax[3][ct].vlines(_lags,[0],_pacf)\n",
        "#  ax[3][ct].axhline(y=0, color='black')\n",
        "\n",
        "#plt.tight_layout()"
      ],
      "metadata": {
        "id": "FJRf4NTPZqvM"
      },
      "execution_count": 98,
      "outputs": []
    },
    {
      "cell_type": "code",
      "source": [
        "#verifica diferenca do grid\n",
        "#from pyFTS.models import hofts\n",
        "#from pyFTS.partitioners import Grid, FCM, CMeans, Entropy\n",
        "#from pyFTS.benchmarks import Measures\n",
        "\n",
        "#metodos = [Grid.GridPartitioner, Entropy.EntropyPartitioner, CMeans.CMeansPartitioner ]\n",
        "\n",
        "#k = 30\n",
        "\n",
        "#rows = []\n",
        "\n",
        "#y1=np.asarray(datasets1['SpeedActual'])\n",
        "\n",
        "#fig, ax = plt.subplots(nrows=1, ncols=1,figsize=[15,5])\n",
        "\n",
        "#ax.plot(y1, label='Original',color='black')\n",
        "\n",
        "#for contador, metodo in enumerate(metodos):\n",
        "#  part = metodo(data=y1, npart=k)\n",
        "#  model = hofts.HighOrderFTS(order=2, partitioner=part)\n",
        "#  model.fit(y1)\n",
        "#  forecasts = model.predict(y1)\n",
        "#  for o in range(model.order):\n",
        "#    forecasts.insert(0,None)\n",
        "    \n",
        "#  ax.plot(forecasts[:-1], label=part.name)\n",
        "  \n",
        "#  rmse, mape, u = Measures.get_point_statistics(y1, model)\n",
        "  \n",
        "#  rows.append([part.name, rmse, mape, u])\n",
        "  \n",
        "\n",
        "#handles, labels = ax.get_legend_handles_labels()\n",
        "#lgd = ax.legend(handles, labels, loc=2, bbox_to_anchor=(1, 1))\n",
        "\n",
        "#pd.DataFrame(rows, columns=['Partitions','RMSE','MAPE','U'])"
      ],
      "metadata": {
        "id": "WOLO39eiR-sq"
      },
      "execution_count": 99,
      "outputs": []
    },
    {
      "cell_type": "code",
      "source": [
        "#Dados com Falhas\n",
        "from numpy.core.multiarray import concatenate\n",
        "from pyFTS.models import pwfts\n",
        "#from pyFTS.models import chen, cheng, hofts, pwfts\n",
        "from pyFTS.partitioners import Grid\n",
        "from pyFTS.benchmarks import Measures\n",
        "from pyFTS.common import Util\n",
        "\n",
        "#metodos = [chen.ConventionalFTS, cheng.TrendWeightedFTS, hofts.HighOrderFTS, \n",
        "#          hofts.WeightedHighOrderFTS, pwfts.ProbabilisticWeightedFTS]\n",
        "metodos = [pwfts.ProbabilisticWeightedFTS]\n",
        "\n",
        "k = 8\n",
        "y1 = datasets2['LIT']\n",
        "tam_grupo = 10000\n",
        "i=0\n",
        "VT1=[]\n",
        "V1=[]\n",
        "\n",
        "for i in range(0,y1.size,tam_grupo):\n",
        "  grpan = y1[i:i+tam_grupo]\n",
        "  part = Grid.GridPartitioner(data=np.asarray(grpan), npart=k)\n",
        "  for contador, metodo in enumerate(metodos):\n",
        "    model1 = metodo(partitioner=part, progress=False, type='distribution')\n",
        "    if model1.is_high_order:\n",
        "      model1 = metodo(partitioner=part, order=1)\n",
        "    model1.fit(np.asarray(y1))  \n",
        "  #print(model1)\n",
        "  _, _, lhs1, rhs1 = pwfts.highorder_fuzzy_markov_chain(model1)\n",
        "  lhs1t = np.transpose(lhs1)\n",
        "  V1 = np.c_[rhs1,lhs1t]\n",
        "  if i == 0 :\n",
        "    VT1 = V1\n",
        "  else:\n",
        "    VT1 = np.c_[VT1,V1]\n",
        "\n",
        "  print(i)\n",
        "\n",
        "VT1 = np.transpose(VT1)\n",
        "print(VT1)"
      ],
      "metadata": {
        "id": "pcFNIwoBHyj3",
        "colab": {
          "base_uri": "https://localhost:8080/"
        },
        "outputId": "a0f6b876-1b08-4810-ffe2-f8188a3d1ae4"
      },
      "execution_count": 142,
      "outputs": [
        {
          "output_type": "stream",
          "name": "stdout",
          "text": [
            "0\n",
            "10000\n",
            "20000\n",
            "30000\n",
            "40000\n",
            "[[0.00000000e+00 0.00000000e+00 0.00000000e+00 0.00000000e+00\n",
            "  0.00000000e+00]\n",
            " [0.00000000e+00 0.00000000e+00 0.00000000e+00 0.00000000e+00\n",
            "  0.00000000e+00]\n",
            " [2.78577503e-02 5.70558769e-04 7.90555519e-06 0.00000000e+00\n",
            "  0.00000000e+00]\n",
            " [8.47389415e-01 1.49559146e-01 8.15489063e-02 4.34038768e-02\n",
            "  0.00000000e+00]\n",
            " [1.24752835e-01 8.14467311e-01 8.57432530e-01 7.78224588e-01\n",
            "  3.07171418e-01]\n",
            " [0.00000000e+00 3.54029844e-02 6.10096054e-02 1.78278104e-01\n",
            "  6.92828582e-01]\n",
            " [0.00000000e+00 0.00000000e+00 1.05229195e-06 9.34305749e-05\n",
            "  0.00000000e+00]\n",
            " [0.00000000e+00 0.00000000e+00 0.00000000e+00 0.00000000e+00\n",
            "  0.00000000e+00]\n",
            " [5.66800631e-05 8.48177210e-02 8.48465335e-01 6.66531441e-02\n",
            "  7.12027481e-06]\n",
            " [0.00000000e+00 0.00000000e+00 0.00000000e+00 0.00000000e+00\n",
            "  0.00000000e+00]\n",
            " [0.00000000e+00 0.00000000e+00 0.00000000e+00 0.00000000e+00\n",
            "  0.00000000e+00]\n",
            " [1.02659879e-01 7.91062429e-04 1.40391589e-05 0.00000000e+00\n",
            "  0.00000000e+00]\n",
            " [8.13457366e-01 2.20262259e-01 1.65168278e-01 6.73752555e-02\n",
            "  0.00000000e+00]\n",
            " [8.38827546e-02 7.67855633e-01 8.09082542e-01 7.49080406e-01\n",
            "  5.26284426e-01]\n",
            " [0.00000000e+00 1.10910451e-02 2.57350121e-02 1.83528901e-01\n",
            "  4.73715574e-01]\n",
            " [0.00000000e+00 0.00000000e+00 1.29068293e-07 1.54367351e-05\n",
            "  0.00000000e+00]\n",
            " [0.00000000e+00 0.00000000e+00 0.00000000e+00 0.00000000e+00\n",
            "  0.00000000e+00]\n",
            " [1.64202229e-04 1.72060901e-01 8.00214168e-01 2.75602002e-02\n",
            "  5.28721787e-07]\n",
            " [0.00000000e+00 0.00000000e+00 0.00000000e+00 0.00000000e+00\n",
            "  0.00000000e+00]\n",
            " [0.00000000e+00 0.00000000e+00 0.00000000e+00 0.00000000e+00\n",
            "  0.00000000e+00]\n",
            " [2.57194989e-02 4.58254757e-04 7.26702301e-06 0.00000000e+00\n",
            "  0.00000000e+00]\n",
            " [8.52354762e-01 1.57932276e-01 9.61635924e-02 4.90652772e-02\n",
            "  0.00000000e+00]\n",
            " [1.21925739e-01 8.15249047e-01 8.55873711e-01 7.80821099e-01\n",
            "  4.06968389e-01]\n",
            " [0.00000000e+00 2.63604223e-02 4.79549932e-02 1.70077657e-01\n",
            "  5.93031611e-01]\n",
            " [0.00000000e+00 0.00000000e+00 4.36501634e-07 3.59668563e-05\n",
            "  0.00000000e+00]\n",
            " [0.00000000e+00 0.00000000e+00 0.00000000e+00 0.00000000e+00\n",
            "  0.00000000e+00]\n",
            " [5.33211842e-05 9.99190254e-02 8.47860446e-01 5.21649612e-02\n",
            "  2.24630213e-06]\n",
            " [0.00000000e+00 0.00000000e+00 0.00000000e+00 0.00000000e+00\n",
            "  0.00000000e+00]\n",
            " [0.00000000e+00 0.00000000e+00 0.00000000e+00 0.00000000e+00\n",
            "  0.00000000e+00]\n",
            " [1.25081110e-01 8.76473178e-04 1.59835083e-05 0.00000000e+00\n",
            "  0.00000000e+00]\n",
            " [8.00432030e-01 2.46830469e-01 1.92987127e-01 7.04308030e-02\n",
            "  0.00000000e+00]\n",
            " [7.44868600e-02 7.44527765e-01 7.86493619e-01 7.38132917e-01\n",
            "  5.56870491e-01]\n",
            " [0.00000000e+00 7.76529337e-03 2.05032701e-02 1.91436248e-01\n",
            "  4.43129509e-01]\n",
            " [0.00000000e+00 0.00000000e+00 2.50265959e-10 3.12393732e-08\n",
            "  0.00000000e+00]\n",
            " [0.00000000e+00 0.00000000e+00 0.00000000e+00 0.00000000e+00\n",
            "  0.00000000e+00]\n",
            " [2.15857570e-04 2.01308131e-01 7.76843759e-01 2.16322516e-02\n",
            "  8.70195529e-10]\n",
            " [0.00000000e+00 0.00000000e+00 0.00000000e+00 0.00000000e+00\n",
            "  0.00000000e+00]\n",
            " [0.00000000e+00 0.00000000e+00 0.00000000e+00 0.00000000e+00\n",
            "  0.00000000e+00]\n",
            " [7.70551767e-02 9.27421737e-04 1.30281148e-05 0.00000000e+00\n",
            "  0.00000000e+00]\n",
            " [8.22552012e-01 1.67949647e-01 1.01298831e-01 5.23015196e-02\n",
            "  0.00000000e+00]\n",
            " [1.00392812e-01 8.01080460e-01 8.45159233e-01 7.62247411e-01\n",
            "  2.81287010e-01]\n",
            " [0.00000000e+00 3.00424715e-02 5.35274040e-02 1.85288169e-01\n",
            "  7.18712990e-01]\n",
            " [0.00000000e+00 0.00000000e+00 1.50398648e-06 1.62901221e-04\n",
            "  0.00000000e+00]\n",
            " [0.00000000e+00 0.00000000e+00 0.00000000e+00 0.00000000e+00\n",
            "  0.00000000e+00]\n",
            " [1.17842535e-04 1.05536285e-01 8.35540142e-01 5.87948955e-02\n",
            "  1.08344014e-05]]\n"
          ]
        }
      ]
    },
    {
      "cell_type": "code",
      "source": [
        "#Dados com Falhas\n",
        "from pyFTS.models import pwfts\n",
        "#from pyFTS.models import chen, cheng, hofts, pwfts\n",
        "from pyFTS.partitioners import Grid\n",
        "from pyFTS.benchmarks import Measures\n",
        "\n",
        "#metodos = [chen.ConventionalFTS, cheng.TrendWeightedFTS, hofts.HighOrderFTS, \n",
        "#          hofts.WeightedHighOrderFTS, pwfts.ProbabilisticWeightedFTS]\n",
        "metodos = [pwfts.ProbabilisticWeightedFTS]\n",
        "\n",
        "k = 8\n",
        "y2 = datasets2['SpeedActual']\n",
        "tam_grupo = 10000\n",
        "i=0\n",
        "VT2=[]\n",
        "V2=[]\n",
        "\n",
        "for i in range(0,y2.size,tam_grupo):\n",
        "  grpan = y2[i:i+tam_grupo]\n",
        "  part = Grid.GridPartitioner(data=np.asarray(grpan), npart=k)\n",
        "  for contador, metodo in enumerate(metodos):\n",
        "    model2 = metodo(partitioner=part, progress=False, type='distribution')\n",
        "    if model2.is_high_order:\n",
        "      model2 = metodo(partitioner=part, order=1)\n",
        "    model2.fit(np.asarray(y2))  \n",
        "  #print(model1)\n",
        "  _, _, lhs2, rhs2 = pwfts.highorder_fuzzy_markov_chain(model2)\n",
        "  lhs2t = np.transpose(lhs2)\n",
        "  V2 = np.c_[rhs2,lhs2t]\n",
        "  if i == 0 :\n",
        "    VT2 = V2\n",
        "  else:\n",
        "    VT2 = np.c_[VT2,V2]\n",
        "\n",
        "  print(i)\n",
        "\n",
        "VT2 = np.transpose(VT2)\n",
        "print(VT2)\n"
      ],
      "metadata": {
        "id": "fOwtB4OdW0HC",
        "colab": {
          "base_uri": "https://localhost:8080/"
        },
        "outputId": "fb19ebcc-a89b-48f5-94a0-bf1fd688576b"
      },
      "execution_count": 143,
      "outputs": [
        {
          "output_type": "stream",
          "name": "stdout",
          "text": [
            "0\n",
            "10000\n",
            "20000\n",
            "30000\n",
            "40000\n",
            "[[0.00000000e+00 0.00000000e+00 0.00000000e+00 0.00000000e+00\n",
            "  0.00000000e+00 0.00000000e+00]\n",
            " [2.14745612e-01 2.37424480e-03 7.73860257e-07 0.00000000e+00\n",
            "  0.00000000e+00 0.00000000e+00]\n",
            " [7.76572178e-01 4.11410111e-01 1.14262896e-02 5.62510880e-06\n",
            "  0.00000000e+00 0.00000000e+00]\n",
            " [8.68221038e-03 5.84820701e-01 5.49297070e-01 4.37028388e-01\n",
            "  1.10263454e-03 1.73860128e-03]\n",
            " [0.00000000e+00 1.39494283e-03 4.39271195e-01 5.48709922e-01\n",
            "  2.28058136e-01 1.79787811e-03]\n",
            " [0.00000000e+00 0.00000000e+00 4.67151325e-06 1.42548213e-02\n",
            "  4.48427840e-01 2.72119578e-01]\n",
            " [0.00000000e+00 0.00000000e+00 0.00000000e+00 1.24339908e-06\n",
            "  3.22411389e-01 7.24343943e-01]\n",
            " [0.00000000e+00 0.00000000e+00 0.00000000e+00 0.00000000e+00\n",
            "  0.00000000e+00 0.00000000e+00]\n",
            " [2.77858236e-05 9.03877554e-03 4.63486822e-01 4.65684692e-01\n",
            "  2.84658024e-02 3.32961228e-02]\n",
            " [0.00000000e+00 0.00000000e+00 0.00000000e+00 0.00000000e+00\n",
            "  0.00000000e+00 0.00000000e+00]\n",
            " [2.28302377e-01 2.72855326e-03 7.28661981e-07 0.00000000e+00\n",
            "  0.00000000e+00 0.00000000e+00]\n",
            " [7.69496314e-01 4.24930480e-01 1.23274349e-02 5.36306498e-06\n",
            "  0.00000000e+00 0.00000000e+00]\n",
            " [2.20130938e-03 5.71057137e-01 5.76767749e-01 4.64527324e-01\n",
            "  1.18577562e-03 1.86605334e-03]\n",
            " [0.00000000e+00 1.28382946e-03 4.10899632e-01 5.21060100e-01\n",
            "  2.17427855e-01 1.67414101e-03]\n",
            " [0.00000000e+00 0.00000000e+00 4.45581838e-06 1.44060549e-02\n",
            "  4.44596431e-01 2.89282572e-01]\n",
            " [0.00000000e+00 0.00000000e+00 0.00000000e+00 1.15812409e-06\n",
            "  3.36789939e-01 7.07177234e-01]\n",
            " [0.00000000e+00 0.00000000e+00 0.00000000e+00 0.00000000e+00\n",
            "  0.00000000e+00 0.00000000e+00]\n",
            " [3.80176982e-05 1.06206539e-02 4.92886208e-01 4.35807298e-01\n",
            "  2.82055275e-02 3.24422951e-02]\n",
            " [0.00000000e+00 0.00000000e+00 0.00000000e+00 0.00000000e+00\n",
            "  0.00000000e+00 0.00000000e+00]\n",
            " [9.51787082e-02 1.56778811e-03 9.47445155e-07 0.00000000e+00\n",
            "  0.00000000e+00 0.00000000e+00]\n",
            " [8.84479250e-01 3.47511499e-01 8.16761718e-03 4.12607745e-06\n",
            "  0.00000000e+00 0.00000000e+00]\n",
            " [2.03420422e-02 6.49452891e-01 4.37537766e-01 3.16320939e-01\n",
            "  7.38203201e-04 1.20596861e-03]\n",
            " [0.00000000e+00 1.46782142e-03 5.54286351e-01 6.69201719e-01\n",
            "  2.74403525e-01 2.30784723e-03]\n",
            " [0.00000000e+00 0.00000000e+00 7.31891240e-06 1.44726165e-02\n",
            "  4.77985942e-01 2.01365222e-01]\n",
            " [0.00000000e+00 0.00000000e+00 0.00000000e+00 5.99370694e-07\n",
            "  2.46872329e-01 7.95120962e-01]\n",
            " [0.00000000e+00 0.00000000e+00 0.00000000e+00 0.00000000e+00\n",
            "  0.00000000e+00 0.00000000e+00]\n",
            " [7.69427261e-06 4.23675800e-03 3.37331228e-01 5.90904436e-01\n",
            "  3.06209470e-02 3.68989368e-02]\n",
            " [0.00000000e+00 0.00000000e+00 0.00000000e+00 0.00000000e+00\n",
            "  0.00000000e+00 0.00000000e+00]\n",
            " [2.46066772e-01 3.70754504e-03 9.97435977e-07 0.00000000e+00\n",
            "  0.00000000e+00 0.00000000e+00]\n",
            " [7.48392822e-01 4.48667356e-01 1.40492537e-02 7.06526359e-06\n",
            "  0.00000000e+00 0.00000000e+00]\n",
            " [5.54040663e-03 5.46576404e-01 6.27322597e-01 5.12645797e-01\n",
            "  1.36495855e-03 2.09869450e-03]\n",
            " [0.00000000e+00 1.04869426e-03 3.58623307e-01 4.72467773e-01\n",
            "  1.98237010e-01 1.45341329e-03]\n",
            " [0.00000000e+00 0.00000000e+00 3.84535163e-06 1.48781372e-02\n",
            "  4.41287207e-01 3.20718528e-01]\n",
            " [0.00000000e+00 0.00000000e+00 0.00000000e+00 1.22719593e-06\n",
            "  3.59110824e-01 6.75729364e-01]\n",
            " [0.00000000e+00 0.00000000e+00 0.00000000e+00 0.00000000e+00\n",
            "  0.00000000e+00 0.00000000e+00]\n",
            " [6.95827224e-05 1.40029341e-02 5.45616457e-01 3.81511046e-01\n",
            "  2.79004333e-02 3.08995471e-02]\n",
            " [0.00000000e+00 0.00000000e+00 0.00000000e+00 0.00000000e+00\n",
            "  0.00000000e+00 0.00000000e+00]\n",
            " [2.68916543e-01 4.81231377e-03 2.74031563e-06 0.00000000e+00\n",
            "  0.00000000e+00 0.00000000e+00]\n",
            " [7.29596390e-01 4.75454974e-01 1.57789945e-02 7.71181377e-06\n",
            "  0.00000000e+00 0.00000000e+00]\n",
            " [1.48706760e-03 5.18910070e-01 6.81242982e-01 5.59062060e-01\n",
            "  1.57886554e-03 2.34323136e-03]\n",
            " [0.00000000e+00 8.22641987e-04 3.02972286e-01 4.25184107e-01\n",
            "  1.78686328e-01 1.22737238e-03]\n",
            " [0.00000000e+00 0.00000000e+00 2.99708138e-06 1.57447531e-02\n",
            "  4.43246222e-01 3.53770177e-01]\n",
            " [0.00000000e+00 0.00000000e+00 0.00000000e+00 1.36749872e-06\n",
            "  3.76488584e-01 6.42659219e-01]\n",
            " [0.00000000e+00 0.00000000e+00 0.00000000e+00 0.00000000e+00\n",
            "  0.00000000e+00 0.00000000e+00]\n",
            " [1.22149518e-04 1.82153625e-02 5.99731048e-01 3.24832798e-01\n",
            "  2.78037785e-02 2.92948635e-02]]\n"
          ]
        }
      ]
    },
    {
      "cell_type": "code",
      "source": [
        "#Dados com Falhas\n",
        "from pyFTS.models import pwfts\n",
        "#from pyFTS.models import chen, cheng, hofts, pwfts\n",
        "from pyFTS.partitioners import Grid\n",
        "from pyFTS.benchmarks import Measures\n",
        "\n",
        "#metodos = [chen.ConventionalFTS, cheng.TrendWeightedFTS, hofts.HighOrderFTS, \n",
        "#          hofts.WeightedHighOrderFTS, pwfts.ProbabilisticWeightedFTS]\n",
        "metodos = [pwfts.ProbabilisticWeightedFTS]\n",
        "\n",
        "k = 8\n",
        "y3 = datasets2['BeltLoad']\n",
        "tam_grupo = 10000\n",
        "i=0\n",
        "VT3=[]\n",
        "V3=[]\n",
        "\n",
        "for i in range(0,y3.size,tam_grupo):\n",
        "  grpan = y3[i:i+tam_grupo]\n",
        "  part = Grid.GridPartitioner(data=np.asarray(grpan), npart=k)\n",
        "  for contador, metodo in enumerate(metodos):\n",
        "    model3 = metodo(partitioner=part, progress=False, type='distribution')\n",
        "    if model3.is_high_order:\n",
        "      model3 = metodo(partitioner=part, order=1)\n",
        "    model3.fit(np.asarray(y3))  \n",
        "  #print(model1)\n",
        "  _, _, lhs3, rhs3 = pwfts.highorder_fuzzy_markov_chain(model3)\n",
        "  lhs3t = np.transpose(lhs3)\n",
        "  V3 = np.c_[rhs3,lhs3t]\n",
        "  if i == 0 :\n",
        "    VT3 = V3\n",
        "  else:\n",
        "    VT3 = np.c_[VT3,V3]\n",
        "\n",
        "  print(i)\n",
        "\n",
        "VT3 = np.transpose(VT3)\n",
        "print(VT3)"
      ],
      "metadata": {
        "id": "HgsaaAc1Ecy-",
        "colab": {
          "base_uri": "https://localhost:8080/",
          "height": 477
        },
        "outputId": "7f41592c-3333-46f4-da41-5ab31b2470b8"
      },
      "execution_count": 146,
      "outputs": [
        {
          "output_type": "stream",
          "name": "stdout",
          "text": [
            "0\n",
            "10000\n",
            "20000\n",
            "30000\n"
          ]
        },
        {
          "output_type": "error",
          "ename": "ValueError",
          "evalue": "ignored",
          "traceback": [
            "\u001b[0;31m---------------------------------------------------------------------------\u001b[0m",
            "\u001b[0;31mValueError\u001b[0m                                Traceback (most recent call last)",
            "\u001b[0;32m<ipython-input-146-907066275737>\u001b[0m in \u001b[0;36m<module>\u001b[0;34m()\u001b[0m\n\u001b[1;32m     23\u001b[0m     \u001b[0;32mif\u001b[0m \u001b[0mmodel3\u001b[0m\u001b[0;34m.\u001b[0m\u001b[0mis_high_order\u001b[0m\u001b[0;34m:\u001b[0m\u001b[0;34m\u001b[0m\u001b[0;34m\u001b[0m\u001b[0m\n\u001b[1;32m     24\u001b[0m       \u001b[0mmodel3\u001b[0m \u001b[0;34m=\u001b[0m \u001b[0mmetodo\u001b[0m\u001b[0;34m(\u001b[0m\u001b[0mpartitioner\u001b[0m\u001b[0;34m=\u001b[0m\u001b[0mpart\u001b[0m\u001b[0;34m,\u001b[0m \u001b[0morder\u001b[0m\u001b[0;34m=\u001b[0m\u001b[0;36m1\u001b[0m\u001b[0;34m)\u001b[0m\u001b[0;34m\u001b[0m\u001b[0;34m\u001b[0m\u001b[0m\n\u001b[0;32m---> 25\u001b[0;31m     \u001b[0mmodel3\u001b[0m\u001b[0;34m.\u001b[0m\u001b[0mfit\u001b[0m\u001b[0;34m(\u001b[0m\u001b[0mnp\u001b[0m\u001b[0;34m.\u001b[0m\u001b[0masarray\u001b[0m\u001b[0;34m(\u001b[0m\u001b[0my3\u001b[0m\u001b[0;34m)\u001b[0m\u001b[0;34m)\u001b[0m\u001b[0;34m\u001b[0m\u001b[0;34m\u001b[0m\u001b[0m\n\u001b[0m\u001b[1;32m     26\u001b[0m   \u001b[0;31m#print(model1)\u001b[0m\u001b[0;34m\u001b[0m\u001b[0;34m\u001b[0m\u001b[0;34m\u001b[0m\u001b[0m\n\u001b[1;32m     27\u001b[0m   \u001b[0m_\u001b[0m\u001b[0;34m,\u001b[0m \u001b[0m_\u001b[0m\u001b[0;34m,\u001b[0m \u001b[0mlhs3\u001b[0m\u001b[0;34m,\u001b[0m \u001b[0mrhs3\u001b[0m \u001b[0;34m=\u001b[0m \u001b[0mpwfts\u001b[0m\u001b[0;34m.\u001b[0m\u001b[0mhighorder_fuzzy_markov_chain\u001b[0m\u001b[0;34m(\u001b[0m\u001b[0mmodel3\u001b[0m\u001b[0;34m)\u001b[0m\u001b[0;34m\u001b[0m\u001b[0;34m\u001b[0m\u001b[0m\n",
            "\u001b[0;32m/usr/local/lib/python3.7/dist-packages/numpy/lib/index_tricks.py\u001b[0m in \u001b[0;36m__getitem__\u001b[0;34m(self, key)\u001b[0m\n\u001b[1;32m    411\u001b[0m                 \u001b[0mobjs\u001b[0m\u001b[0;34m[\u001b[0m\u001b[0mk\u001b[0m\u001b[0;34m]\u001b[0m \u001b[0;34m=\u001b[0m \u001b[0mobjs\u001b[0m\u001b[0;34m[\u001b[0m\u001b[0mk\u001b[0m\u001b[0;34m]\u001b[0m\u001b[0;34m.\u001b[0m\u001b[0mastype\u001b[0m\u001b[0;34m(\u001b[0m\u001b[0mfinal_dtype\u001b[0m\u001b[0;34m)\u001b[0m\u001b[0;34m\u001b[0m\u001b[0;34m\u001b[0m\u001b[0m\n\u001b[1;32m    412\u001b[0m \u001b[0;34m\u001b[0m\u001b[0m\n\u001b[0;32m--> 413\u001b[0;31m         \u001b[0mres\u001b[0m \u001b[0;34m=\u001b[0m \u001b[0mself\u001b[0m\u001b[0;34m.\u001b[0m\u001b[0mconcatenate\u001b[0m\u001b[0;34m(\u001b[0m\u001b[0mtuple\u001b[0m\u001b[0;34m(\u001b[0m\u001b[0mobjs\u001b[0m\u001b[0;34m)\u001b[0m\u001b[0;34m,\u001b[0m \u001b[0maxis\u001b[0m\u001b[0;34m=\u001b[0m\u001b[0maxis\u001b[0m\u001b[0;34m)\u001b[0m\u001b[0;34m\u001b[0m\u001b[0;34m\u001b[0m\u001b[0m\n\u001b[0m\u001b[1;32m    414\u001b[0m \u001b[0;34m\u001b[0m\u001b[0m\n\u001b[1;32m    415\u001b[0m         \u001b[0;32mif\u001b[0m \u001b[0mmatrix\u001b[0m\u001b[0;34m:\u001b[0m\u001b[0;34m\u001b[0m\u001b[0;34m\u001b[0m\u001b[0m\n",
            "\u001b[0;32m<__array_function__ internals>\u001b[0m in \u001b[0;36mconcatenate\u001b[0;34m(*args, **kwargs)\u001b[0m\n",
            "\u001b[0;31mValueError\u001b[0m: all the input array dimensions for the concatenation axis must match exactly, but along dimension 0, the array at index 0 has size 7 and the array at index 1 has size 8"
          ]
        }
      ]
    },
    {
      "cell_type": "code",
      "source": [
        "#Dados com Falhas\n",
        "from pyFTS.models import pwfts\n",
        "#from pyFTS.models import chen, cheng, hofts, pwfts\n",
        "from pyFTS.partitioners import Grid\n",
        "from pyFTS.benchmarks import Measures\n",
        "\n",
        "#metodos = [chen.ConventionalFTS, cheng.TrendWeightedFTS, hofts.HighOrderFTS, \n",
        "#          hofts.WeightedHighOrderFTS, pwfts.ProbabilisticWeightedFTS]\n",
        "metodos = [pwfts.ProbabilisticWeightedFTS]\n",
        "\n",
        "k = 3\n",
        "y3 = datasets2['BeltLoad']\n",
        "tam_grupo = 10000\n",
        "i=0\n",
        "VT3=[]\n",
        "V3=[]\n",
        "\n",
        "for i in range(0,y3.size,tam_grupo):\n",
        "  grpan = y3[i:i+tam_grupo]\n",
        "  part = Grid.GridPartitioner(data=np.asarray(grpan), npart=k)\n",
        "  for contador, metodo in enumerate(metodos):\n",
        "    model3 = metodo(partitioner=part, progress=False, type='distribution')\n",
        "    if model3.is_high_order:\n",
        "      model3 = metodo(partitioner=part, order=1)\n",
        "    model3.fit(np.asarray(y3))  \n",
        "  #print(model1)\n",
        "  _, _, lhs3, rhs3 = pwfts.highorder_fuzzy_markov_chain(model3)\n",
        "  lhs3t = np.transpose(lhs3)\n",
        "  V3 = np.c_[rhs3,lhs3t]\n",
        "  if i == 0 :\n",
        "    VT3 = V3\n",
        "  else:\n",
        "    VT3 = np.c_[VT3,V3]\n",
        "\n",
        "  print(i)\n",
        "\n",
        "VT3 = np.transpose(VT3)\n",
        "print(VT3)"
      ],
      "metadata": {
        "id": "e2JX98Sl7p-X",
        "outputId": "34962125-a457-40fa-e728-f9dabf32c9a5",
        "colab": {
          "base_uri": "https://localhost:8080/"
        }
      },
      "execution_count": 147,
      "outputs": [
        {
          "output_type": "stream",
          "name": "stdout",
          "text": [
            "0\n",
            "10000\n",
            "20000\n",
            "30000\n",
            "40000\n",
            "[[2.05747777e-01 2.09494646e-03 7.18228247e-06]\n",
            " [7.92314635e-01 6.81490029e-01 6.45947535e-01]\n",
            " [1.93758807e-03 3.16415024e-01 3.54045283e-01]\n",
            " [1.77023827e-03 6.70021130e-01 3.28208632e-01]\n",
            " [2.16402890e-01 8.70712442e-04 3.11315528e-06]\n",
            " [7.80365273e-01 5.46951269e-01 5.08634271e-01]\n",
            " [3.23183734e-03 4.52178018e-01 4.91362616e-01]\n",
            " [5.89753476e-04 5.29066595e-01 4.70343652e-01]\n",
            " [1.83155991e-01 4.23132585e-04 1.08850170e-06]\n",
            " [8.14133143e-01 4.57765810e-01 4.21140780e-01]\n",
            " [2.71086565e-03 5.41811057e-01 5.78858132e-01]\n",
            " [2.27245922e-04 4.37243935e-01 5.62528819e-01]\n",
            " [2.33473456e-01 1.13058836e-03 4.47986931e-06]\n",
            " [7.63641192e-01 5.44187543e-01 5.02050667e-01]\n",
            " [2.88535218e-03 4.54681869e-01 4.97944853e-01]\n",
            " [7.76162022e-04 5.24347705e-01 4.74876133e-01]\n",
            " [2.35520517e-01 2.72564456e-03 1.05310630e-05]\n",
            " [7.62254190e-01 6.66924837e-01 6.25502547e-01]\n",
            " [2.22529322e-03 3.30349519e-01 3.74486922e-01]\n",
            " [2.33244878e-03 6.52865061e-01 3.44802490e-01]]\n"
          ]
        }
      ]
    },
    {
      "cell_type": "code",
      "source": [
        "#Dados com Falhas\n",
        "from pyFTS.models import pwfts\n",
        "#from pyFTS.models import chen, cheng, hofts, pwfts\n",
        "from pyFTS.partitioners import Grid\n",
        "from pyFTS.benchmarks import Measures\n",
        "\n",
        "#metodos = [chen.ConventionalFTS, cheng.TrendWeightedFTS, hofts.HighOrderFTS, \n",
        "#          hofts.WeightedHighOrderFTS, pwfts.ProbabilisticWeightedFTS]\n",
        "metodos = [pwfts.ProbabilisticWeightedFTS]\n",
        "\n",
        "k = 3\n",
        "y4 = datasets2['Rate']\n",
        "tam_grupo = 10000\n",
        "i=0\n",
        "VT4=[]\n",
        "V4=[]\n",
        "\n",
        "for i in range(0,y4.size,tam_grupo):\n",
        "  grpan = y4[i:i+tam_grupo]\n",
        "  part = Grid.GridPartitioner(data=np.asarray(grpan), npart=k)\n",
        "  for contador, metodo in enumerate(metodos):\n",
        "    model4 = metodo(partitioner=part, progress=False, type='distribution')\n",
        "    if model4.is_high_order:\n",
        "      model4 = metodo(partitioner=part, order=1)\n",
        "    model4.fit(np.asarray(y4))  \n",
        "  #print(model1)\n",
        "  _, _, lhs4, rhs4 = pwfts.highorder_fuzzy_markov_chain(model4)\n",
        "  lhs4t = np.transpose(lhs4)\n",
        "  V4 = np.c_[rhs4,lhs4t]\n",
        "  if i == 0 :\n",
        "    VT4 = V4\n",
        "  else:\n",
        "    VT4 = np.c_[VT4,V4]\n",
        "\n",
        "  print(i)\n",
        "\n",
        "VT4 = np.transpose(VT4)\n",
        "print(VT4)"
      ],
      "metadata": {
        "id": "y39M8xhwEnJj",
        "colab": {
          "base_uri": "https://localhost:8080/"
        },
        "outputId": "65b86083-6343-4cf0-a958-9555c198a0b9"
      },
      "execution_count": 148,
      "outputs": [
        {
          "output_type": "stream",
          "name": "stdout",
          "text": [
            "0\n",
            "10000\n",
            "20000\n",
            "30000\n",
            "40000\n",
            "[[0.         0.        ]\n",
            " [0.49251272 0.49242321]\n",
            " [0.50748728 0.50757679]\n",
            " [0.50753141 0.49246859]\n",
            " [0.         0.        ]\n",
            " [0.49715539 0.49706581]\n",
            " [0.50284461 0.50293419]\n",
            " [0.50288919 0.49711081]\n",
            " [0.         0.        ]\n",
            " [0.48880984 0.48872011]\n",
            " [0.51119016 0.51127989]\n",
            " [0.51123406 0.48876594]\n",
            " [0.         0.        ]\n",
            " [0.48893779 0.48884821]\n",
            " [0.51106221 0.51115179]\n",
            " [0.51110605 0.48889395]\n",
            " [0.         0.        ]\n",
            " [0.49223005 0.49214089]\n",
            " [0.50776995 0.50785911]\n",
            " [0.50781388 0.49218612]]\n"
          ]
        }
      ]
    },
    {
      "cell_type": "code",
      "source": [
        "#Dados com Falhas\n",
        "from pyFTS.models import pwfts\n",
        "#from pyFTS.models import chen, cheng, hofts, pwfts\n",
        "from pyFTS.partitioners import Grid\n",
        "from pyFTS.benchmarks import Measures\n",
        "\n",
        "#metodos = [chen.ConventionalFTS, cheng.TrendWeightedFTS, hofts.HighOrderFTS, \n",
        "#          hofts.WeightedHighOrderFTS, pwfts.ProbabilisticWeightedFTS]\n",
        "metodos = [pwfts.ProbabilisticWeightedFTS]\n",
        "\n",
        "k = 8\n",
        "y3 = datasets2['BeltLoad']\n",
        "tam_grupo = 10000\n",
        "i=0\n",
        "VT3=[]\n",
        "V3=[]\n",
        "\n",
        "for i in range(0,y3.size,tam_grupo):\n",
        "  grpan = y3[i:i+tam_grupo]\n",
        "  part = Grid.GridPartitioner(data=np.asarray(grpan), npart=k)\n",
        "  for contador, metodo in enumerate(metodos):\n",
        "    model3 = metodo(partitioner=part, progress=False, type='distribution')\n",
        "    if model3.is_high_order:\n",
        "      model3 = metodo(partitioner=part, order=1)\n",
        "    model3.fit(np.asarray(y3))  \n",
        "  #print(model1)\n",
        "  _, _, lhs3, rhs3 = pwfts.highorder_fuzzy_markov_chain(model3)\n",
        "  lhs3t = np.transpose(lhs3)\n",
        "  V3 = np.c_[rhs3,lhs3t]\n",
        "  if i == 0 :\n",
        "    VT3 = V3\n",
        "  else:\n",
        "    VT3 = np.c_[VT3,V3]\n",
        "\n",
        "  print(i)\n",
        "\n",
        "VT3 = np.transpose(VT3)\n",
        "print(VT3)"
      ],
      "metadata": {
        "id": "LHMsm8Mt_r1W",
        "outputId": "8ebf9cb1-2dfd-4523-d8d3-a569706f178f",
        "colab": {
          "base_uri": "https://localhost:8080/"
        }
      },
      "execution_count": 149,
      "outputs": [
        {
          "output_type": "stream",
          "name": "stdout",
          "text": [
            "0\n",
            "10000\n",
            "20000\n",
            "30000\n",
            "40000\n",
            "[[2.05747777e-01 2.09494646e-03 7.18228247e-06]\n",
            " [7.92314635e-01 6.81490029e-01 6.45947535e-01]\n",
            " [1.93758807e-03 3.16415024e-01 3.54045283e-01]\n",
            " [1.77023827e-03 6.70021130e-01 3.28208632e-01]\n",
            " [2.16402890e-01 8.70712442e-04 3.11315528e-06]\n",
            " [7.80365273e-01 5.46951269e-01 5.08634271e-01]\n",
            " [3.23183734e-03 4.52178018e-01 4.91362616e-01]\n",
            " [5.89753476e-04 5.29066595e-01 4.70343652e-01]\n",
            " [1.83155991e-01 4.23132585e-04 1.08850170e-06]\n",
            " [8.14133143e-01 4.57765810e-01 4.21140780e-01]\n",
            " [2.71086565e-03 5.41811057e-01 5.78858132e-01]\n",
            " [2.27245922e-04 4.37243935e-01 5.62528819e-01]\n",
            " [2.33473456e-01 1.13058836e-03 4.47986931e-06]\n",
            " [7.63641192e-01 5.44187543e-01 5.02050667e-01]\n",
            " [2.88535218e-03 4.54681869e-01 4.97944853e-01]\n",
            " [7.76162022e-04 5.24347705e-01 4.74876133e-01]\n",
            " [2.35520517e-01 2.72564456e-03 1.05310630e-05]\n",
            " [7.62254190e-01 6.66924837e-01 6.25502547e-01]\n",
            " [2.22529322e-03 3.30349519e-01 3.74486922e-01]\n",
            " [2.33244878e-03 6.52865061e-01 3.44802490e-01]]\n"
          ]
        }
      ]
    },
    {
      "cell_type": "code",
      "source": [
        "#Dados sem Falhas\n",
        "from numpy.core.multiarray import concatenate\n",
        "from pyFTS.models import pwfts\n",
        "#from pyFTS.models import chen, cheng, hofts, pwfts\n",
        "from pyFTS.partitioners import Grid\n",
        "from pyFTS.benchmarks import Measures\n",
        "from pyFTS.common import Util\n",
        "\n",
        "#metodos = [chen.ConventionalFTS, cheng.TrendWeightedFTS, hofts.HighOrderFTS, \n",
        "#          hofts.WeightedHighOrderFTS, pwfts.ProbabilisticWeightedFTS]\n",
        "metodos = [pwfts.ProbabilisticWeightedFTS]\n",
        "\n",
        "k = 8\n",
        "y1 = datasets1['LIT']\n",
        "tam_grupo = 10000\n",
        "i=0\n",
        "VU1=[]\n",
        "\n",
        "for i in range(0,y1.size,tam_grupo):\n",
        "  grpan = y1[i:i+tam_grupo]\n",
        "  part = Grid.GridPartitioner(data=np.asarray(grpan), npart=k)\n",
        "  for contador, metodo in enumerate(metodos):\n",
        "    model1 = metodo(partitioner=part, progress=False, type='distribution')\n",
        "    if model1.is_high_order:\n",
        "      model1 = metodo(partitioner=part, order=1)\n",
        "    model1.fit(np.asarray(y1))  \n",
        "  #print(model1)\n",
        "  _, _, lhs1, rhs1 = pwfts.highorder_fuzzy_markov_chain(model1)\n",
        "  lhs1t = np.transpose(lhs1)\n",
        "  V1 = np.c_[rhs1,lhs1t]\n",
        "  if i == 0 :\n",
        "    VU1 = V1\n",
        "  else:\n",
        "    VU1 = np.c_[VU1,V1]\n",
        "\n",
        "  print(i)\n",
        "\n",
        "VU1 = np.transpose(VU1)\n",
        "print(VU1)"
      ],
      "metadata": {
        "id": "Ss7osjRS5NHs",
        "colab": {
          "base_uri": "https://localhost:8080/"
        },
        "outputId": "f61987fb-254d-4b66-dccc-3594142cb81c"
      },
      "execution_count": 150,
      "outputs": [
        {
          "output_type": "stream",
          "name": "stdout",
          "text": [
            "0\n",
            "10000\n",
            "20000\n",
            "30000\n",
            "40000\n",
            "[[0.         0.        ]\n",
            " [0.54483982 0.54435304]\n",
            " [0.45516018 0.45564696]\n",
            " [0.54461753 0.45538247]\n",
            " [0.         0.        ]\n",
            " [0.51461544 0.51411891]\n",
            " [0.48538456 0.48588109]\n",
            " [0.51437369 0.48562631]\n",
            " [0.         0.        ]\n",
            " [0.52163822 0.52114069]\n",
            " [0.47836178 0.47885931]\n",
            " [0.52139947 0.47860053]\n",
            " [0.         0.        ]\n",
            " [0.52732017 0.526819  ]\n",
            " [0.47267983 0.473181  ]\n",
            " [0.52708253 0.47291747]\n",
            " [0.         0.        ]\n",
            " [0.51825494 0.51776769]\n",
            " [0.48174506 0.48223231]\n",
            " [0.51801948 0.48198052]]\n"
          ]
        }
      ]
    },
    {
      "cell_type": "code",
      "source": [
        "#Dados sem Falhas\n",
        "from pyFTS.models import pwfts\n",
        "#from pyFTS.models import chen, cheng, hofts, pwfts\n",
        "from pyFTS.partitioners import Grid\n",
        "from pyFTS.benchmarks import Measures\n",
        "\n",
        "#metodos = [chen.ConventionalFTS, cheng.TrendWeightedFTS, hofts.HighOrderFTS, \n",
        "#          hofts.WeightedHighOrderFTS, pwfts.ProbabilisticWeightedFTS]\n",
        "metodos = [pwfts.ProbabilisticWeightedFTS]\n",
        "\n",
        "k = 8\n",
        "y2 = datasets1['SpeedActual']\n",
        "tam_grupo = 10000\n",
        "i=0\n",
        "VU2=[]\n",
        "V2=[]\n",
        "\n",
        "for i in range(0,y2.size,tam_grupo):\n",
        "  grpan = y2[i:i+tam_grupo]\n",
        "  part = Grid.GridPartitioner(data=np.asarray(grpan), npart=k)\n",
        "  for contador, metodo in enumerate(metodos):\n",
        "    model2 = metodo(partitioner=part, progress=False, type='distribution')\n",
        "    if model2.is_high_order:\n",
        "      model2 = metodo(partitioner=part, order=1)\n",
        "    model2.fit(np.asarray(y2))  \n",
        "  #print(model1)\n",
        "  _, _, lhs2, rhs2 = pwfts.highorder_fuzzy_markov_chain(model2)\n",
        "  lhs2t = np.transpose(lhs2)\n",
        "  V2 = np.c_[rhs2,lhs2t]\n",
        "  if i == 0 :\n",
        "    VU2 = V2\n",
        "  else:\n",
        "    VU2 = np.c_[VU2,V2]\n",
        "\n",
        "  print(i)\n",
        "\n",
        "VU2 = np.transpose(VU2)\n",
        "print(VU2)"
      ],
      "metadata": {
        "id": "IqEnIldv5M95",
        "colab": {
          "base_uri": "https://localhost:8080/"
        },
        "outputId": "d22d246a-11b7-40cb-c623-41dbb1f022ed"
      },
      "execution_count": 151,
      "outputs": [
        {
          "output_type": "stream",
          "name": "stdout",
          "text": [
            "0\n",
            "10000\n",
            "20000\n",
            "30000\n",
            "40000\n",
            "[[0.         0.        ]\n",
            " [0.51626768 0.51037267]\n",
            " [0.48373232 0.48962733]\n",
            " [0.51340048 0.48659952]\n",
            " [0.         0.        ]\n",
            " [0.5393191  0.53356977]\n",
            " [0.4606809  0.46643023]\n",
            " [0.53665647 0.46334353]\n",
            " [0.         0.        ]\n",
            " [0.51311841 0.50718898]\n",
            " [0.48688159 0.49281102]\n",
            " [0.51021558 0.48978442]\n",
            " [0.         0.        ]\n",
            " [0.52058116 0.5146666 ]\n",
            " [0.47941884 0.4853334 ]\n",
            " [0.51773005 0.48226995]\n",
            " [0.         0.        ]\n",
            " [0.53432887 0.52857981]\n",
            " [0.46567113 0.47142019]\n",
            " [0.53163752 0.46836248]]\n"
          ]
        }
      ]
    },
    {
      "cell_type": "code",
      "source": [
        "#Dados sem Falhas\n",
        "from pyFTS.models import pwfts\n",
        "#from pyFTS.models import chen, cheng, hofts, pwfts\n",
        "from pyFTS.partitioners import Grid\n",
        "from pyFTS.benchmarks import Measures\n",
        "\n",
        "#metodos = [chen.ConventionalFTS, cheng.TrendWeightedFTS, hofts.HighOrderFTS, \n",
        "#          hofts.WeightedHighOrderFTS, pwfts.ProbabilisticWeightedFTS]\n",
        "metodos = [pwfts.ProbabilisticWeightedFTS]\n",
        "\n",
        "k = 8\n",
        "y3 = datasets1['BeltLoad']\n",
        "tam_grupo = 10000\n",
        "i=0\n",
        "VU3=[]\n",
        "V3=[]\n",
        "\n",
        "for i in range(0,y3.size,tam_grupo):\n",
        "  grpan = y3[i:i+tam_grupo]\n",
        "  part = Grid.GridPartitioner(data=np.asarray(grpan), npart=k)\n",
        "  for contador, metodo in enumerate(metodos):\n",
        "    model3 = metodo(partitioner=part, progress=False, type='distribution')\n",
        "    if model3.is_high_order:\n",
        "      model3 = metodo(partitioner=part, order=1)\n",
        "    model3.fit(np.asarray(y3))  \n",
        "  #print(model1)\n",
        "  _, _, lhs3, rhs3 = pwfts.highorder_fuzzy_markov_chain(model3)\n",
        "  lhs3t = np.transpose(lhs3)\n",
        "  V3 = np.c_[rhs3,lhs3t]\n",
        "  if i == 0 :\n",
        "    VU3 = V3\n",
        "  else:\n",
        "    VU3 = np.c_[VU3,V3]\n",
        "\n",
        "  print(i)\n",
        "\n",
        "VU3 = np.transpose(VU3)\n",
        "print(VU3)"
      ],
      "metadata": {
        "id": "Q_WVh9sg5M0K",
        "colab": {
          "base_uri": "https://localhost:8080/"
        },
        "outputId": "300b278d-c60c-46d4-edc2-8401cbb65f6e"
      },
      "execution_count": 152,
      "outputs": [
        {
          "output_type": "stream",
          "name": "stdout",
          "text": [
            "0\n",
            "10000\n",
            "20000\n",
            "30000\n",
            "40000\n",
            "[[0.         0.        ]\n",
            " [0.57113009 0.56666728]\n",
            " [0.42886991 0.43333272]\n",
            " [0.56920918 0.43079082]\n",
            " [0.         0.        ]\n",
            " [0.50629674 0.50151426]\n",
            " [0.49370326 0.49848574]\n",
            " [0.50392598 0.49607402]\n",
            " [0.         0.        ]\n",
            " [0.51346217 0.50868322]\n",
            " [0.48653783 0.49131678]\n",
            " [0.51112757 0.48887243]\n",
            " [0.         0.        ]\n",
            " [0.53342793 0.52879188]\n",
            " [0.46657207 0.47120812]\n",
            " [0.53125648 0.46874352]\n",
            " [0.         0.        ]\n",
            " [0.54087504 0.53618285]\n",
            " [0.45912496 0.46381715]\n",
            " [0.53871227 0.46128773]]\n"
          ]
        }
      ]
    },
    {
      "cell_type": "code",
      "source": [
        "#Dados sem Falhas\n",
        "from pyFTS.models import pwfts\n",
        "#from pyFTS.models import chen, cheng, hofts, pwfts\n",
        "from pyFTS.partitioners import Grid\n",
        "from pyFTS.benchmarks import Measures\n",
        "\n",
        "#metodos = [chen.ConventionalFTS, cheng.TrendWeightedFTS, hofts.HighOrderFTS, \n",
        "#          hofts.WeightedHighOrderFTS, pwfts.ProbabilisticWeightedFTS]\n",
        "metodos = [pwfts.ProbabilisticWeightedFTS]\n",
        "\n",
        "k = 8\n",
        "y4 = datasets1['Rate']\n",
        "tam_grupo = 10000\n",
        "i=0\n",
        "VU4=[]\n",
        "V4=[]\n",
        "\n",
        "for i in range(0,y4.size,tam_grupo):\n",
        "  grpan = y4[i:i+tam_grupo]\n",
        "  part = Grid.GridPartitioner(data=np.asarray(grpan), npart=k)\n",
        "  for contador, metodo in enumerate(metodos):\n",
        "    model4 = metodo(partitioner=part, progress=False, type='distribution')\n",
        "    if model4.is_high_order:\n",
        "      model4 = metodo(partitioner=part, order=1)\n",
        "    model4.fit(np.asarray(y4))  \n",
        "  #print(model1)\n",
        "  _, _, lhs4, rhs4 = pwfts.highorder_fuzzy_markov_chain(model4)\n",
        "  lhs4t = np.transpose(lhs4)\n",
        "  V4 = np.c_[rhs4,lhs4t]\n",
        "  if i == 0 :\n",
        "    VU4 = V4\n",
        "  else:\n",
        "    VU4 = np.c_[VU4,V4]\n",
        "\n",
        "  print(i)\n",
        "\n",
        "VU4 = np.transpose(VU4)\n",
        "print(VU4)"
      ],
      "metadata": {
        "id": "BA2Y43qO5MlL",
        "colab": {
          "base_uri": "https://localhost:8080/"
        },
        "outputId": "82b903f1-d010-417b-85c4-cba795d16d50"
      },
      "execution_count": 153,
      "outputs": [
        {
          "output_type": "stream",
          "name": "stdout",
          "text": [
            "0\n",
            "10000\n",
            "20000\n",
            "30000\n",
            "40000\n",
            "[[0.         0.        ]\n",
            " [0.5003089  0.50030534]\n",
            " [0.4996911  0.49969466]\n",
            " [0.49969293 0.50030707]\n",
            " [0.         0.        ]\n",
            " [0.50154696 0.50154341]\n",
            " [0.49845304 0.49845659]\n",
            " [0.49845487 0.50154513]\n",
            " [0.         0.        ]\n",
            " [0.5008664  0.50086285]\n",
            " [0.4991336  0.49913715]\n",
            " [0.49913543 0.50086457]\n",
            " [0.         0.        ]\n",
            " [0.5008664  0.50086285]\n",
            " [0.4991336  0.49913715]\n",
            " [0.49913543 0.50086457]\n",
            " [0.         0.        ]\n",
            " [0.4997518  0.49974825]\n",
            " [0.5002482  0.50025175]\n",
            " [0.50025002 0.49974998]]\n"
          ]
        }
      ]
    },
    {
      "cell_type": "markdown",
      "source": [
        ""
      ],
      "metadata": {
        "id": "EMrCbZ8m8K1U"
      }
    },
    {
      "cell_type": "code",
      "source": [
        "ytst1 = np.ones(11)\n",
        "ytst2 = np.zeros(8)\n",
        "ytst = np.concatenate((ytst1,ytst2))"
      ],
      "metadata": {
        "id": "sqGLGkjrsMec"
      },
      "execution_count": 154,
      "outputs": []
    },
    {
      "cell_type": "code",
      "source": [
        "#Unir todas as matrizes geradas\n",
        "BaseT1 = np.transpose(np.concatenate([np.transpose(VT1),np.transpose(VT2),np.transpose(VT3),np.transpose(VT4)]))\n",
        "BaseT2 = np.transpose(np.concatenate([np.transpose(VU1),np.transpose(VU2),np.transpose(VU3),np.transpose(VU4)]))\n",
        "BaseT3 = np.c_[np.transpose(BaseT1), np.transpose(BaseT2)]\n",
        "BaseT4 = np.c_[np.transpose(BaseT3),ytst]"
      ],
      "metadata": {
        "id": "BCiWnRNhHxeX",
        "outputId": "8faeec65-d397-481e-b434-14cf4a3e15ec",
        "colab": {
          "base_uri": "https://localhost:8080/",
          "height": 341
        }
      },
      "execution_count": 156,
      "outputs": [
        {
          "output_type": "error",
          "ename": "ValueError",
          "evalue": "ignored",
          "traceback": [
            "\u001b[0;31m---------------------------------------------------------------------------\u001b[0m",
            "\u001b[0;31mValueError\u001b[0m                                Traceback (most recent call last)",
            "\u001b[0;32m<ipython-input-156-4eead59f58d2>\u001b[0m in \u001b[0;36m<module>\u001b[0;34m()\u001b[0m\n\u001b[1;32m      1\u001b[0m \u001b[0;31m#Unir todas as matrizes geradas\u001b[0m\u001b[0;34m\u001b[0m\u001b[0;34m\u001b[0m\u001b[0;34m\u001b[0m\u001b[0m\n\u001b[0;32m----> 2\u001b[0;31m \u001b[0mBaseT1\u001b[0m \u001b[0;34m=\u001b[0m \u001b[0mnp\u001b[0m\u001b[0;34m.\u001b[0m\u001b[0mtranspose\u001b[0m\u001b[0;34m(\u001b[0m\u001b[0mnp\u001b[0m\u001b[0;34m.\u001b[0m\u001b[0mconcatenate\u001b[0m\u001b[0;34m(\u001b[0m\u001b[0;34m[\u001b[0m\u001b[0mnp\u001b[0m\u001b[0;34m.\u001b[0m\u001b[0mtranspose\u001b[0m\u001b[0;34m(\u001b[0m\u001b[0mVT1\u001b[0m\u001b[0;34m)\u001b[0m\u001b[0;34m,\u001b[0m\u001b[0mnp\u001b[0m\u001b[0;34m.\u001b[0m\u001b[0mtranspose\u001b[0m\u001b[0;34m(\u001b[0m\u001b[0mVT2\u001b[0m\u001b[0;34m)\u001b[0m\u001b[0;34m,\u001b[0m\u001b[0mnp\u001b[0m\u001b[0;34m.\u001b[0m\u001b[0mtranspose\u001b[0m\u001b[0;34m(\u001b[0m\u001b[0mVT3\u001b[0m\u001b[0;34m)\u001b[0m\u001b[0;34m,\u001b[0m\u001b[0mnp\u001b[0m\u001b[0;34m.\u001b[0m\u001b[0mtranspose\u001b[0m\u001b[0;34m(\u001b[0m\u001b[0mVT4\u001b[0m\u001b[0;34m)\u001b[0m\u001b[0;34m]\u001b[0m\u001b[0;34m)\u001b[0m\u001b[0;34m)\u001b[0m\u001b[0;34m\u001b[0m\u001b[0;34m\u001b[0m\u001b[0m\n\u001b[0m\u001b[1;32m      3\u001b[0m \u001b[0mBaseT2\u001b[0m \u001b[0;34m=\u001b[0m \u001b[0mnp\u001b[0m\u001b[0;34m.\u001b[0m\u001b[0mtranspose\u001b[0m\u001b[0;34m(\u001b[0m\u001b[0mnp\u001b[0m\u001b[0;34m.\u001b[0m\u001b[0mconcatenate\u001b[0m\u001b[0;34m(\u001b[0m\u001b[0;34m[\u001b[0m\u001b[0mnp\u001b[0m\u001b[0;34m.\u001b[0m\u001b[0mtranspose\u001b[0m\u001b[0;34m(\u001b[0m\u001b[0mVU1\u001b[0m\u001b[0;34m)\u001b[0m\u001b[0;34m,\u001b[0m\u001b[0mnp\u001b[0m\u001b[0;34m.\u001b[0m\u001b[0mtranspose\u001b[0m\u001b[0;34m(\u001b[0m\u001b[0mVU2\u001b[0m\u001b[0;34m)\u001b[0m\u001b[0;34m,\u001b[0m\u001b[0mnp\u001b[0m\u001b[0;34m.\u001b[0m\u001b[0mtranspose\u001b[0m\u001b[0;34m(\u001b[0m\u001b[0mVU3\u001b[0m\u001b[0;34m)\u001b[0m\u001b[0;34m,\u001b[0m\u001b[0mnp\u001b[0m\u001b[0;34m.\u001b[0m\u001b[0mtranspose\u001b[0m\u001b[0;34m(\u001b[0m\u001b[0mVU4\u001b[0m\u001b[0;34m)\u001b[0m\u001b[0;34m]\u001b[0m\u001b[0;34m)\u001b[0m\u001b[0;34m)\u001b[0m\u001b[0;34m\u001b[0m\u001b[0;34m\u001b[0m\u001b[0m\n\u001b[1;32m      4\u001b[0m \u001b[0mBaseT3\u001b[0m \u001b[0;34m=\u001b[0m \u001b[0mnp\u001b[0m\u001b[0;34m.\u001b[0m\u001b[0mc_\u001b[0m\u001b[0;34m[\u001b[0m\u001b[0mnp\u001b[0m\u001b[0;34m.\u001b[0m\u001b[0mtranspose\u001b[0m\u001b[0;34m(\u001b[0m\u001b[0mBaseT1\u001b[0m\u001b[0;34m)\u001b[0m\u001b[0;34m,\u001b[0m \u001b[0mnp\u001b[0m\u001b[0;34m.\u001b[0m\u001b[0mtranspose\u001b[0m\u001b[0;34m(\u001b[0m\u001b[0mBaseT2\u001b[0m\u001b[0;34m)\u001b[0m\u001b[0;34m]\u001b[0m\u001b[0;34m\u001b[0m\u001b[0;34m\u001b[0m\u001b[0m\n\u001b[1;32m      5\u001b[0m \u001b[0mBaseT4\u001b[0m \u001b[0;34m=\u001b[0m \u001b[0mnp\u001b[0m\u001b[0;34m.\u001b[0m\u001b[0mc_\u001b[0m\u001b[0;34m[\u001b[0m\u001b[0mnp\u001b[0m\u001b[0;34m.\u001b[0m\u001b[0mtranspose\u001b[0m\u001b[0;34m(\u001b[0m\u001b[0mBaseT3\u001b[0m\u001b[0;34m)\u001b[0m\u001b[0;34m,\u001b[0m\u001b[0mytst\u001b[0m\u001b[0;34m]\u001b[0m\u001b[0;34m\u001b[0m\u001b[0;34m\u001b[0m\u001b[0m\n",
            "\u001b[0;32m<__array_function__ internals>\u001b[0m in \u001b[0;36mconcatenate\u001b[0;34m(*args, **kwargs)\u001b[0m\n",
            "\u001b[0;31mValueError\u001b[0m: all the input array dimensions for the concatenation axis must match exactly, but along dimension 1, the array at index 0 has size 45 and the array at index 2 has size 20"
          ]
        }
      ]
    },
    {
      "cell_type": "markdown",
      "source": [
        ""
      ],
      "metadata": {
        "id": "ZKlxlVknGgad"
      }
    },
    {
      "cell_type": "code",
      "source": [
        "pwfts.visualize_distributions(model1)"
      ],
      "metadata": {
        "id": "4QHy28_mw0rP",
        "outputId": "5413bf99-aef4-415d-d454-777764b34963",
        "colab": {
          "base_uri": "https://localhost:8080/",
          "height": 611
        }
      },
      "execution_count": 134,
      "outputs": [
        {
          "output_type": "display_data",
          "data": {
            "text/plain": [
              "<Figure size 360x720 with 3 Axes>"
            ],
            "image/png": "[encoded data removed]"
          },
          "metadata": {
            "needs_background": "light"
          }
        }
      ]
    },
    {
      "cell_type": "code",
      "source": [
        "pwfts.visualize_distributions(model2)"
      ],
      "metadata": {
        "id": "TVT0gXwsGJlz",
        "outputId": "92679b58-11b9-4454-bc3f-d37fda5b9938",
        "colab": {
          "base_uri": "https://localhost:8080/",
          "height": 611
        }
      },
      "execution_count": 135,
      "outputs": [
        {
          "output_type": "display_data",
          "data": {
            "text/plain": [
              "<Figure size 360x720 with 3 Axes>"
            ],
            "image/png": "[encoded data removed]"
          },
          "metadata": {
            "needs_background": "light"
          }
        }
      ]
    },
    {
      "cell_type": "code",
      "source": [
        "pwfts.visualize_distributions(model3)"
      ],
      "metadata": {
        "id": "QL-07qhcGJdT"
      },
      "execution_count": null,
      "outputs": []
    },
    {
      "cell_type": "code",
      "source": [
        "pwfts.visualize_distributions(model4)"
      ],
      "metadata": {
        "id": "qxAYrX16GJHW",
        "outputId": "95867e63-da4c-4b53-da92-75dd313724ed",
        "colab": {
          "base_uri": "https://localhost:8080/",
          "height": 611
        }
      },
      "execution_count": 136,
      "outputs": [
        {
          "output_type": "display_data",
          "data": {
            "text/plain": [
              "<Figure size 360x720 with 3 Axes>"
            ],
            "image/png": "[encoded data removed]"
          },
          "metadata": {
            "needs_background": "light"
          }
        }
      ]
    },
    {
      "cell_type": "code",
      "metadata": {
        "id": "RGzSbQvu3gaJ",
        "outputId": "57323dd5-bdec-4d45-980f-596eb95c4c7f",
        "colab": {
          "base_uri": "https://localhost:8080/",
          "height": 217
        }
      },
      "source": [
        "#dataset = pd.read_excel('../content/sample_data/Base.xlsx')\n",
        "#x = dataset.iloc[:,:-1].values\n",
        "#y = dataset.iloc[:,-1].values\n",
        "x = BaseT4[:,:-1]\n",
        "y = BaseT4[:,-1]"
      ],
      "execution_count": 137,
      "outputs": [
        {
          "output_type": "error",
          "ename": "NameError",
          "evalue": "ignored",
          "traceback": [
            "\u001b[0;31m---------------------------------------------------------------------------\u001b[0m",
            "\u001b[0;31mNameError\u001b[0m                                 Traceback (most recent call last)",
            "\u001b[0;32m<ipython-input-137-5fbce7d7266c>\u001b[0m in \u001b[0;36m<module>\u001b[0;34m()\u001b[0m\n\u001b[1;32m      2\u001b[0m \u001b[0;31m#x = dataset.iloc[:,:-1].values\u001b[0m\u001b[0;34m\u001b[0m\u001b[0;34m\u001b[0m\u001b[0;34m\u001b[0m\u001b[0m\n\u001b[1;32m      3\u001b[0m \u001b[0;31m#y = dataset.iloc[:,-1].values\u001b[0m\u001b[0;34m\u001b[0m\u001b[0;34m\u001b[0m\u001b[0;34m\u001b[0m\u001b[0m\n\u001b[0;32m----> 4\u001b[0;31m \u001b[0mx\u001b[0m \u001b[0;34m=\u001b[0m \u001b[0mBaseT4\u001b[0m\u001b[0;34m[\u001b[0m\u001b[0;34m:\u001b[0m\u001b[0;34m,\u001b[0m\u001b[0;34m:\u001b[0m\u001b[0;34m-\u001b[0m\u001b[0;36m1\u001b[0m\u001b[0;34m]\u001b[0m\u001b[0;34m\u001b[0m\u001b[0;34m\u001b[0m\u001b[0m\n\u001b[0m\u001b[1;32m      5\u001b[0m \u001b[0my\u001b[0m \u001b[0;34m=\u001b[0m \u001b[0mBaseT4\u001b[0m\u001b[0;34m[\u001b[0m\u001b[0;34m:\u001b[0m\u001b[0;34m,\u001b[0m\u001b[0;34m-\u001b[0m\u001b[0;36m1\u001b[0m\u001b[0;34m]\u001b[0m\u001b[0;34m\u001b[0m\u001b[0;34m\u001b[0m\u001b[0m\n",
            "\u001b[0;31mNameError\u001b[0m: name 'BaseT4' is not defined"
          ]
        }
      ]
    },
    {
      "cell_type": "code",
      "metadata": {
        "id": "vyow2jEvnCqf"
      },
      "source": [
        "import seaborn as sns\n",
        "#dataset2 = pd.read_excel('../content/sample_data/Base.xlsx')\n",
        "corr_df = dff.corr(method='pearson')\n",
        "\n",
        "plt.figure(figsize=(8, 6))\n",
        "sns.heatmap(corr_df, annot=True)\n",
        "plt.show()"
      ],
      "execution_count": null,
      "outputs": []
    },
    {
      "cell_type": "code",
      "source": [
        "import seaborn as sns\n",
        "#dataset2 = pd.read_excel('../content/sample_data/Base.xlsx')\n",
        "corr_df = dfn.corr(method='pearson')\n",
        "\n",
        "plt.figure(figsize=(8, 6))\n",
        "sns.heatmap(corr_df, annot=True)\n",
        "plt.show()"
      ],
      "metadata": {
        "id": "ummyjgT6aGfd"
      },
      "execution_count": null,
      "outputs": []
    },
    {
      "cell_type": "code",
      "metadata": {
        "id": "wFJJUNfM4m2S"
      },
      "source": [
        "from sklearn.model_selection import train_test_split\n",
        "x_train, x_test, y_train, y_test = train_test_split(x , y, test_size = 0.2, random_state = 10)"
      ],
      "execution_count": null,
      "outputs": []
    },
    {
      "cell_type": "code",
      "metadata": {
        "id": "PcmHVc7q5qxo"
      },
      "source": [
        "from xgboost import XGBClassifier\n",
        "Classifier = XGBClassifier()\n",
        "Classifier.fit(x_train, y_train)"
      ],
      "execution_count": null,
      "outputs": []
    },
    {
      "cell_type": "markdown",
      "metadata": {
        "id": "9X0CkzIzb4mq"
      },
      "source": [
        "Matriz de confusão"
      ]
    },
    {
      "cell_type": "code",
      "metadata": {
        "id": "SyAwjWoW6chI"
      },
      "source": [
        "from sklearn.metrics import confusion_matrix, accuracy_score\n",
        "ypred = Classifier.predict(x_test)\n",
        "cm = confusion_matrix(y_test, ypred)\n",
        "print(cm)"
      ],
      "execution_count": null,
      "outputs": []
    },
    {
      "cell_type": "markdown",
      "metadata": {
        "id": "eNXjLi_Vb2Dv"
      },
      "source": [
        "Precisão"
      ]
    },
    {
      "cell_type": "code",
      "metadata": {
        "id": "PcaS8zcBb1Tf"
      },
      "source": [
        "accuracy_score(y_test, ypred)"
      ],
      "execution_count": null,
      "outputs": []
    },
    {
      "cell_type": "code",
      "metadata": {
        "id": "6xwNE9aL7f2g"
      },
      "source": [
        "from sklearn.model_selection import cross_val_score\n",
        "accuracies = cross_val_score(estimator = Classifier, X = x_train, y = y_train, cv = 2)\n",
        "\n",
        "print(accuracies.mean()*100)\n",
        "print(accuracies.std()*100)"
      ],
      "execution_count": null,
      "outputs": []
    }
  ]
}